{
 "cells": [
  {
   "metadata": {},
   "cell_type": "markdown",
   "source": "# Analysis of SQuAD 2.0 dataset",
   "id": "d43c94954dc0460f"
  },
  {
   "cell_type": "code",
   "id": "initial_id",
   "metadata": {
    "collapsed": true,
    "ExecuteTime": {
     "end_time": "2024-04-28T11:12:28.169286Z",
     "start_time": "2024-04-28T11:12:24.353418Z"
    }
   },
   "source": [
    "from question_answering.paths import extractive_qa_paths\n",
    "from question_answering.utils import core_qa_utils\n",
    "from transformers import AutoTokenizer"
   ],
   "execution_count": 1,
   "outputs": []
  },
  {
   "metadata": {
    "ExecuteTime": {
     "end_time": "2024-04-28T11:12:28.233335Z",
     "start_time": "2024-04-28T11:12:28.171241Z"
    }
   },
   "cell_type": "code",
   "source": [
    "raw_train_dataset, raw_test_dataset = core_qa_utils.load_datasets_from_json(\n",
    "    dataset_path=extractive_qa_paths.squad2_dataset_dir,\n",
    "    filenames=[\"original_train.json\", \"original_test.json\"],\n",
    ")"
   ],
   "id": "739fb1ed462c1ca5",
   "execution_count": 2,
   "outputs": []
  },
  {
   "metadata": {
    "ExecuteTime": {
     "end_time": "2024-04-28T11:12:28.248917Z",
     "start_time": "2024-04-28T11:12:28.234336Z"
    }
   },
   "cell_type": "code",
   "source": [
    "train_dataset = raw_train_dataset.select(range(115000))\n",
    "val_dataset = raw_train_dataset.select(range(115000, 130319))\n",
    "test_dataset = raw_test_dataset"
   ],
   "id": "ed37389ce5169eba",
   "execution_count": 3,
   "outputs": []
  },
  {
   "metadata": {},
   "cell_type": "markdown",
   "source": "## Maximum number of tokens in any sample across dataset",
   "id": "41988b399da961d"
  },
  {
   "metadata": {
    "ExecuteTime": {
     "end_time": "2024-04-28T11:12:28.264382Z",
     "start_time": "2024-04-28T11:12:28.249870Z"
    }
   },
   "cell_type": "code",
   "source": [
    "def tokenize_sample(sample, tokenizer, max_tokens=None, padding=False):\n",
    "    question = sample[\"question\"].strip()\n",
    "    context = sample[\"context\"].strip()\n",
    "\n",
    "    return tokenizer(question, context, max_length=max_tokens, padding=padding)"
   ],
   "id": "4ad7d5af57713d0c",
   "execution_count": 4,
   "outputs": []
  },
  {
   "metadata": {},
   "cell_type": "markdown",
   "source": "#### BERT uncased",
   "id": "b8edb7ba8b4e5aca"
  },
  {
   "metadata": {
    "ExecuteTime": {
     "end_time": "2024-04-28T11:12:28.826191Z",
     "start_time": "2024-04-28T11:12:28.265379Z"
    }
   },
   "cell_type": "code",
   "source": "bert_uncased_tokenizer = AutoTokenizer.from_pretrained(\"google-bert/bert-base-uncased\")",
   "id": "8ffac0a1af790c63",
   "execution_count": 5,
   "outputs": []
  },
  {
   "metadata": {
    "ExecuteTime": {
     "end_time": "2024-04-28T11:13:38.009884Z",
     "start_time": "2024-04-28T11:12:28.827192Z"
    }
   },
   "cell_type": "code",
   "source": [
    "tokenized_train_dataset = train_dataset.map(\n",
    "    lambda row: tokenize_sample(row, bert_uncased_tokenizer)\n",
    ")\n",
    "tokenized_val_dataset = val_dataset.map(\n",
    "    lambda row: tokenize_sample(row, bert_uncased_tokenizer)\n",
    ")\n",
    "tokenized_test_dataset = test_dataset.map(\n",
    "    lambda row: tokenize_sample(row, bert_uncased_tokenizer)\n",
    ")"
   ],
   "id": "2962ed94211fc042",
   "execution_count": 6,
   "outputs": []
  },
  {
   "metadata": {
    "ExecuteTime": {
     "end_time": "2024-04-28T11:13:45.174890Z",
     "start_time": "2024-04-28T11:13:38.010889Z"
    }
   },
   "cell_type": "code",
   "source": [
    "max_bert_uncased_train_tokens = len(max(tokenized_train_dataset[\"input_ids\"], key=len))\n",
    "max_bert_uncased_val_tokens = len(max(tokenized_val_dataset[\"input_ids\"], key=len))\n",
    "max_bert_uncased_test_tokens = len(max(tokenized_test_dataset[\"input_ids\"], key=len))\n",
    "max_bert_uncased_tokens = max(\n",
    "    max_bert_uncased_train_tokens,\n",
    "    max_bert_uncased_val_tokens,\n",
    "    max_bert_uncased_test_tokens,\n",
    ")\n",
    "\n",
    "print(\n",
    "    f\"Max number of tokens in tokenized train dataset: {max_bert_uncased_train_tokens}\"\n",
    ")\n",
    "print(f\"Max number of tokens in tokenized val dataset: {max_bert_uncased_val_tokens}\")\n",
    "print(f\"Max number of tokens in tokenized test dataset: {max_bert_uncased_test_tokens}\")\n",
    "print(f\"Max number of tokens overall: {max_bert_uncased_tokens}\")"
   ],
   "id": "1b09bb010e37c6a7",
   "execution_count": 7,
   "outputs": []
  },
  {
   "metadata": {},
   "cell_type": "markdown",
   "source": "#### BERT cased",
   "id": "7b5508129a2a1266"
  },
  {
   "metadata": {
    "ExecuteTime": {
     "end_time": "2024-04-28T11:13:45.409186Z",
     "start_time": "2024-04-28T11:13:45.175894Z"
    }
   },
   "cell_type": "code",
   "source": "bert_cased_tokenizer = AutoTokenizer.from_pretrained(\"google-bert/bert-base-cased\")",
   "id": "319490912739a6e7",
   "execution_count": 8,
   "outputs": []
  },
  {
   "metadata": {
    "ExecuteTime": {
     "end_time": "2024-04-28T11:14:47.522217Z",
     "start_time": "2024-04-28T11:13:45.410421Z"
    }
   },
   "cell_type": "code",
   "source": [
    "tokenized_train_dataset = train_dataset.map(\n",
    "    lambda row: tokenize_sample(row, bert_cased_tokenizer)\n",
    ")\n",
    "tokenized_val_dataset = val_dataset.map(\n",
    "    lambda row: tokenize_sample(row, bert_cased_tokenizer)\n",
    ")\n",
    "tokenized_test_dataset = test_dataset.map(\n",
    "    lambda row: tokenize_sample(row, bert_cased_tokenizer)\n",
    ")"
   ],
   "id": "4727679867115932",
   "execution_count": 9,
   "outputs": []
  },
  {
   "metadata": {
    "ExecuteTime": {
     "end_time": "2024-04-28T11:14:54.765958Z",
     "start_time": "2024-04-28T11:14:47.524223Z"
    }
   },
   "cell_type": "code",
   "source": [
    "max_bert_cased_train_tokens = len(max(tokenized_train_dataset[\"input_ids\"], key=len))\n",
    "max_bert_cased_val_tokens = len(max(tokenized_val_dataset[\"input_ids\"], key=len))\n",
    "max_bert_cased_test_tokens = len(max(tokenized_test_dataset[\"input_ids\"], key=len))\n",
    "max_bert_cased_tokens = max(\n",
    "    max_bert_cased_train_tokens, max_bert_cased_val_tokens, max_bert_cased_test_tokens\n",
    ")\n",
    "\n",
    "print(f\"Max number of tokens in tokenized train dataset: {max_bert_cased_train_tokens}\")\n",
    "print(f\"Max number of tokens in tokenized val dataset: {max_bert_cased_val_tokens}\")\n",
    "print(f\"Max number of tokens in tokenized test dataset: {max_bert_cased_test_tokens}\")\n",
    "print(f\"Max number of tokens overall: {max_bert_cased_tokens}\")"
   ],
   "id": "bae1978efb441dda",
   "execution_count": 10,
   "outputs": []
  },
  {
   "metadata": {},
   "cell_type": "markdown",
   "source": "#### ALBERT cased",
   "id": "f03408053f1414ab"
  },
  {
   "metadata": {
    "ExecuteTime": {
     "end_time": "2024-04-28T11:14:54.985105Z",
     "start_time": "2024-04-28T11:14:54.766958Z"
    }
   },
   "cell_type": "code",
   "source": "albert_cased_tokenizer = AutoTokenizer.from_pretrained(\"albert/albert-base-v2\")",
   "id": "6c72a88c4b028f63",
   "execution_count": 11,
   "outputs": []
  },
  {
   "metadata": {
    "ExecuteTime": {
     "end_time": "2024-04-28T11:16:31.956105Z",
     "start_time": "2024-04-28T11:14:54.986132Z"
    }
   },
   "cell_type": "code",
   "source": [
    "tokenized_train_dataset = train_dataset.map(\n",
    "    lambda row: tokenize_sample(row, albert_cased_tokenizer)\n",
    ")\n",
    "tokenized_val_dataset = val_dataset.map(\n",
    "    lambda row: tokenize_sample(row, albert_cased_tokenizer)\n",
    ")\n",
    "tokenized_test_dataset = test_dataset.map(\n",
    "    lambda row: tokenize_sample(row, albert_cased_tokenizer)\n",
    ")"
   ],
   "id": "832c35a375109617",
   "execution_count": 12,
   "outputs": []
  },
  {
   "metadata": {
    "ExecuteTime": {
     "end_time": "2024-04-28T11:16:39.250503Z",
     "start_time": "2024-04-28T11:16:31.958108Z"
    }
   },
   "cell_type": "code",
   "source": [
    "max_albert_cased_train_tokens = len(max(tokenized_train_dataset[\"input_ids\"], key=len))\n",
    "max_albert_cased_val_tokens = len(max(tokenized_val_dataset[\"input_ids\"], key=len))\n",
    "max_albert_cased_test_tokens = len(max(tokenized_test_dataset[\"input_ids\"], key=len))\n",
    "max_albert_cased_tokens = max(\n",
    "    max_albert_cased_train_tokens,\n",
    "    max_albert_cased_val_tokens,\n",
    "    max_albert_cased_test_tokens,\n",
    ")\n",
    "\n",
    "print(\n",
    "    f\"Max number of tokens in tokenized train dataset: {max_albert_cased_train_tokens}\"\n",
    ")\n",
    "print(f\"Max number of tokens in tokenized val dataset: {max_albert_cased_val_tokens}\")\n",
    "print(f\"Max number of tokens in tokenized test dataset: {max_albert_cased_test_tokens}\")\n",
    "print(f\"Max number of tokens overall: {max_albert_cased_tokens}\")"
   ],
   "id": "444c9e4b7f71c4a5",
   "execution_count": 13,
   "outputs": []
  },
  {
   "metadata": {},
   "cell_type": "markdown",
   "source": "## Data samples structure",
   "id": "ac4639a6e267b144"
  },
  {
   "metadata": {},
   "cell_type": "markdown",
   "source": "#### Train sample with answer",
   "id": "e35f515bf95c0bc3"
  },
  {
   "metadata": {
    "ExecuteTime": {
     "end_time": "2024-04-28T11:17:48.016023Z",
     "start_time": "2024-04-28T11:17:48.005989Z"
    }
   },
   "cell_type": "code",
   "source": "sample_with_answer = val_dataset[0]",
   "id": "682d194088846bf6",
   "execution_count": 27,
   "outputs": []
  },
  {
   "metadata": {
    "ExecuteTime": {
     "end_time": "2024-04-28T11:39:37.032529Z",
     "start_time": "2024-04-28T11:39:37.022010Z"
    }
   },
   "cell_type": "code",
   "source": "sample_with_answer",
   "id": "11a8849f76c43a39",
   "execution_count": 30,
   "outputs": []
  },
  {
   "metadata": {},
   "cell_type": "markdown",
   "source": "#### Train sample without answer",
   "id": "7e8f3404bb5eafa9"
  },
  {
   "metadata": {
    "ExecuteTime": {
     "end_time": "2024-04-28T11:39:48.862406Z",
     "start_time": "2024-04-28T11:39:48.851016Z"
    }
   },
   "cell_type": "code",
   "source": "sample_without_answer = val_dataset[5]",
   "id": "e947bb27e8b2efae",
   "execution_count": 31,
   "outputs": []
  },
  {
   "metadata": {
    "ExecuteTime": {
     "end_time": "2024-04-28T11:39:49.128504Z",
     "start_time": "2024-04-28T11:39:49.116986Z"
    }
   },
   "cell_type": "code",
   "source": "sample_without_answer",
   "id": "d388f11bb8f61729",
   "execution_count": 32,
   "outputs": []
  },
  {
   "metadata": {},
   "cell_type": "markdown",
   "source": "#### Test sample with answer",
   "id": "9362533aab9057f9"
  },
  {
   "metadata": {
    "ExecuteTime": {
     "end_time": "2024-04-28T11:44:26.688330Z",
     "start_time": "2024-04-28T11:44:26.678325Z"
    }
   },
   "cell_type": "code",
   "source": "test_sample_with_answer = test_dataset[1]",
   "id": "30510ee129787f6",
   "execution_count": 67,
   "outputs": []
  },
  {
   "metadata": {
    "ExecuteTime": {
     "end_time": "2024-04-28T11:44:27.826855Z",
     "start_time": "2024-04-28T11:44:27.819852Z"
    }
   },
   "cell_type": "code",
   "source": "test_sample_with_answer",
   "id": "7d4c42c30d1d1cef",
   "execution_count": 68,
   "outputs": []
  },
  {
   "metadata": {},
   "cell_type": "markdown",
   "source": "#### Test sample without answer",
   "id": "4a200f0904f2324f"
  },
  {
   "metadata": {
    "ExecuteTime": {
     "end_time": "2024-04-28T11:44:32.558464Z",
     "start_time": "2024-04-28T11:44:32.544376Z"
    }
   },
   "cell_type": "code",
   "source": "test_sample_without_answer = test_dataset[0]",
   "id": "eb237dff9ae08c5d",
   "execution_count": 69,
   "outputs": []
  },
  {
   "metadata": {
    "ExecuteTime": {
     "end_time": "2024-04-28T11:44:32.856261Z",
     "start_time": "2024-04-28T11:44:32.852266Z"
    }
   },
   "cell_type": "code",
   "source": "test_sample_without_answer",
   "id": "84fad134210e1c3e",
   "execution_count": 70,
   "outputs": []
  },
  {
   "metadata": {},
   "cell_type": "code",
   "execution_count": null,
   "source": "",
   "id": "1cb01c23a8887700",
   "outputs": []
  }
 ],
 "metadata": {
  "kernelspec": {
   "display_name": "Python 3",
   "language": "python",
   "name": "python3"
  },
  "language_info": {
   "codemirror_mode": {
    "name": "ipython",
    "version": 2
   },
   "file_extension": ".py",
   "mimetype": "text/x-python",
   "name": "python",
   "nbconvert_exporter": "python",
   "pygments_lexer": "ipython2",
   "version": "2.7.6"
  }
 },
 "nbformat": 4,
 "nbformat_minor": 5
}
