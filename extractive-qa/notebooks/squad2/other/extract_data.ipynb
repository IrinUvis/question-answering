{
 "cells": [
  {
   "cell_type": "code",
   "id": "initial_id",
   "metadata": {
    "collapsed": true,
    "ExecuteTime": {
     "end_time": "2024-04-23T16:50:13.680699Z",
     "start_time": "2024-04-23T16:50:13.007161Z"
    }
   },
   "source": [
    "import datasets\n",
    "from question_answering.paths import extractive_qa_paths"
   ],
   "outputs": [],
   "execution_count": 1
  },
  {
   "metadata": {
    "ExecuteTime": {
     "end_time": "2024-04-23T16:50:13.696250Z",
     "start_time": "2024-04-23T16:50:13.683713Z"
    }
   },
   "cell_type": "code",
   "source": [
    "def preprocess_squad_dataset_sample(sample):\n",
    "    answer_texts = sample[\"answers\"][\"text\"]\n",
    "    answer_starts = sample[\"answers\"][\"answer_start\"]\n",
    "\n",
    "    sample[\"answer_text\"] = answer_texts\n",
    "    sample[\"answer_start\"] = answer_starts\n",
    "\n",
    "    return sample\n",
    "\n",
    "\n",
    "def load_and_save_squad_dataset():\n",
    "    squad_dataset = datasets.load_dataset(\"rajpurkar/squad_v2\")\n",
    "    train_dataset = squad_dataset[\"train\"]\n",
    "    test_dataset = squad_dataset[\"validation\"]\n",
    "\n",
    "    # Initial preprocessing so that data is usable after saving and reading\n",
    "    train_dataset = train_dataset.map(preprocess_squad_dataset_sample)\n",
    "    test_dataset = test_dataset.map(preprocess_squad_dataset_sample)\n",
    "\n",
    "    # Save dataset\n",
    "    path = extractive_qa_paths.squad2_dataset_dir\n",
    "    if not path.exists():\n",
    "        path.mkdir(parents=True)\n",
    "\n",
    "    train_dataset.to_json(path / \"original_train.json\")\n",
    "    test_dataset.to_json(path / \"original_test.json\")"
   ],
   "id": "34e5b41634488fa8",
   "outputs": [],
   "execution_count": 2
  },
  {
   "metadata": {
    "ExecuteTime": {
     "end_time": "2024-04-23T16:50:28.751104Z",
     "start_time": "2024-04-23T16:50:13.868148Z"
    }
   },
   "cell_type": "code",
   "source": "load_and_save_squad_dataset()",
   "id": "7f382385795d228d",
   "outputs": [
    {
     "data": {
      "text/plain": [
       "Map:   0%|          | 0/130319 [00:00<?, ? examples/s]"
      ],
      "application/vnd.jupyter.widget-view+json": {
       "version_major": 2,
       "version_minor": 0,
       "model_id": "8130beeb19674fd6bc635597ee9319df"
      }
     },
     "metadata": {},
     "output_type": "display_data"
    },
    {
     "data": {
      "text/plain": [
       "Map:   0%|          | 0/11873 [00:00<?, ? examples/s]"
      ],
      "application/vnd.jupyter.widget-view+json": {
       "version_major": 2,
       "version_minor": 0,
       "model_id": "a1303674de1b44fd914956b3ff3ee29f"
      }
     },
     "metadata": {},
     "output_type": "display_data"
    },
    {
     "data": {
      "text/plain": [
       "Creating json from Arrow format:   0%|          | 0/131 [00:00<?, ?ba/s]"
      ],
      "application/vnd.jupyter.widget-view+json": {
       "version_major": 2,
       "version_minor": 0,
       "model_id": "1c9bb031b23f4c8f930ffa5a3a68ed25"
      }
     },
     "metadata": {},
     "output_type": "display_data"
    },
    {
     "data": {
      "text/plain": [
       "Creating json from Arrow format:   0%|          | 0/12 [00:00<?, ?ba/s]"
      ],
      "application/vnd.jupyter.widget-view+json": {
       "version_major": 2,
       "version_minor": 0,
       "model_id": "d03145da179c45378b1611f14b2c2abf"
      }
     },
     "metadata": {},
     "output_type": "display_data"
    }
   ],
   "execution_count": 3
  },
  {
   "metadata": {},
   "cell_type": "code",
   "outputs": [],
   "execution_count": null,
   "source": "",
   "id": "222111feaf25f66f"
  }
 ],
 "metadata": {
  "kernelspec": {
   "display_name": "Python 3",
   "language": "python",
   "name": "python3"
  },
  "language_info": {
   "codemirror_mode": {
    "name": "ipython",
    "version": 2
   },
   "file_extension": ".py",
   "mimetype": "text/x-python",
   "name": "python",
   "nbconvert_exporter": "python",
   "pygments_lexer": "ipython2",
   "version": "2.7.6"
  }
 },
 "nbformat": 4,
 "nbformat_minor": 5
}
