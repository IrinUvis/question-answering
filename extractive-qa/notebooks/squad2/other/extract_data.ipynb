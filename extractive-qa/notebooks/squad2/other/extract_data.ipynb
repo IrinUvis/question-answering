{
 "cells": [
  {
   "cell_type": "code",
   "id": "initial_id",
   "metadata": {
    "collapsed": true,
    "ExecuteTime": {
     "end_time": "2024-04-28T11:11:20.866361Z",
     "start_time": "2024-04-28T11:11:20.086524Z"
    }
   },
   "source": [
    "import datasets\n",
    "from question_answering.paths import extractive_qa_paths"
   ],
   "outputs": [],
   "execution_count": 1
  },
  {
   "metadata": {
    "ExecuteTime": {
     "end_time": "2024-04-28T11:11:20.881949Z",
     "start_time": "2024-04-28T11:11:20.867927Z"
    }
   },
   "cell_type": "code",
   "source": [
    "def preprocess_squad_dataset_sample(sample):\n",
    "    answer_texts = sample[\"answers\"][\"text\"]\n",
    "    answer_starts = sample[\"answers\"][\"answer_start\"]\n",
    "\n",
    "    sample[\"answer_text\"] = answer_texts\n",
    "    sample[\"answer_start\"] = answer_starts\n",
    "\n",
    "    return sample\n",
    "\n",
    "\n",
    "def load_and_save_squad_dataset():\n",
    "    squad_dataset = datasets.load_dataset(\"rajpurkar/squad_v2\")\n",
    "    train_dataset = squad_dataset[\"train\"].shuffle(seed=42)\n",
    "    test_dataset = squad_dataset[\"validation\"].shuffle(seed=42)\n",
    "\n",
    "    # Initial preprocessing so that data is usable after saving and reading\n",
    "    train_dataset = train_dataset.map(preprocess_squad_dataset_sample)\n",
    "    test_dataset = test_dataset.map(preprocess_squad_dataset_sample)\n",
    "\n",
    "    # Save dataset\n",
    "    path = extractive_qa_paths.squad2_dataset_dir\n",
    "    if not path.exists():\n",
    "        path.mkdir(parents=True)\n",
    "\n",
    "    train_dataset.to_json(path / \"original_train.json\")\n",
    "    test_dataset.to_json(path / \"original_test.json\")"
   ],
   "id": "34e5b41634488fa8",
   "outputs": [],
   "execution_count": 2
  },
  {
   "metadata": {
    "ExecuteTime": {
     "end_time": "2024-04-28T11:11:39.390578Z",
     "start_time": "2024-04-28T11:11:20.883949Z"
    }
   },
   "cell_type": "code",
   "source": "load_and_save_squad_dataset()",
   "id": "7f382385795d228d",
   "outputs": [
    {
     "data": {
      "text/plain": [
       "Map:   0%|          | 0/130319 [00:00<?, ? examples/s]"
      ],
      "application/vnd.jupyter.widget-view+json": {
       "version_major": 2,
       "version_minor": 0,
       "model_id": "df21e89a3dc0482ba044a0983ed9432d"
      }
     },
     "metadata": {},
     "output_type": "display_data"
    },
    {
     "data": {
      "text/plain": [
       "Map:   0%|          | 0/11873 [00:00<?, ? examples/s]"
      ],
      "application/vnd.jupyter.widget-view+json": {
       "version_major": 2,
       "version_minor": 0,
       "model_id": "798b7fb9caaa46369e8a40226fd71793"
      }
     },
     "metadata": {},
     "output_type": "display_data"
    },
    {
     "data": {
      "text/plain": [
       "Creating json from Arrow format:   0%|          | 0/131 [00:00<?, ?ba/s]"
      ],
      "application/vnd.jupyter.widget-view+json": {
       "version_major": 2,
       "version_minor": 0,
       "model_id": "f757c70570074b3ba1085dc2629cdf32"
      }
     },
     "metadata": {},
     "output_type": "display_data"
    },
    {
     "data": {
      "text/plain": [
       "Creating json from Arrow format:   0%|          | 0/12 [00:00<?, ?ba/s]"
      ],
      "application/vnd.jupyter.widget-view+json": {
       "version_major": 2,
       "version_minor": 0,
       "model_id": "d3adc96427684b43a0ca9739da31f272"
      }
     },
     "metadata": {},
     "output_type": "display_data"
    }
   ],
   "execution_count": 3
  },
  {
   "metadata": {},
   "cell_type": "code",
   "outputs": [],
   "execution_count": null,
   "source": "",
   "id": "222111feaf25f66f"
  }
 ],
 "metadata": {
  "kernelspec": {
   "display_name": "Python 3",
   "language": "python",
   "name": "python3"
  },
  "language_info": {
   "codemirror_mode": {
    "name": "ipython",
    "version": 2
   },
   "file_extension": ".py",
   "mimetype": "text/x-python",
   "name": "python",
   "nbconvert_exporter": "python",
   "pygments_lexer": "ipython2",
   "version": "2.7.6"
  }
 },
 "nbformat": 4,
 "nbformat_minor": 5
}
