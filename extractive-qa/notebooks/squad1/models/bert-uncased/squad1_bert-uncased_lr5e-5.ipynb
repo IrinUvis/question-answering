{
 "cells": [
  {
   "cell_type": "markdown",
   "source": [
    "# Model details\n",
    "- ***Used base model***: bert-base-uncased\n",
    "- ***Used dataset***: SQuAD 1.0\n",
    "- ***Batch size***: 4\n",
    "- ***Early stopping patience***: 1\n",
    "- ***Datasets***: Train: original 80k train samples, Val: remaining 7599 samples, Test: original 10570 samples\n",
    "- ***Attempted train epochs***: 4\n",
    "- ***Initial learning rate***: 5e-5\n",
    "- ***Additional info***: Filtering below max tokens of the model = 512"
   ],
   "metadata": {
    "collapsed": false
   },
   "id": "83cff6ac1d025261"
  },
  {
   "cell_type": "code",
   "source": [
    "from transformers import (\n",
    "    AutoTokenizer,\n",
    "    TFAutoModelForQuestionAnswering,\n",
    "    DefaultDataCollator,\n",
    ")\n",
    "import tensorflow as tf\n",
    "from question_answering.constants import constants\n",
    "from question_answering.utils import (\n",
    "    core_qa_utils,\n",
    "    squad_preprocessing,\n",
    "    model_management,\n",
    "    predictions,\n",
    "    squad_metrics,\n",
    "    graphs,\n",
    "    core_preprocessing,\n",
    ")\n",
    "from question_answering.paths import extractive_qa_paths\n",
    "import ipynbname\n",
    "from question_answering.keras_callbacks.time_measure_callback import TimeMeasureCallback\n",
    "import numpy as np\n",
    "from datasets import Dataset"
   ],
   "metadata": {
    "collapsed": false,
    "ExecuteTime": {
     "end_time": "2024-04-27T09:10:56.568252Z",
     "start_time": "2024-04-27T09:10:52.729557Z"
    }
   },
   "id": "143ae7b201b745c0",
   "execution_count": 1,
   "outputs": []
  },
  {
   "cell_type": "markdown",
   "source": [
    "# Data loading"
   ],
   "metadata": {
    "collapsed": false
   },
   "id": "319fae1ec8d8aeca"
  },
  {
   "cell_type": "code",
   "source": [
    "raw_train_dataset, raw_test_dataset = core_qa_utils.load_datasets_from_json(\n",
    "    dataset_path=extractive_qa_paths.squad1_dataset_dir,\n",
    "    filenames=[\"original_train.json\", \"original_test.json\"],\n",
    ")"
   ],
   "metadata": {
    "collapsed": false,
    "ExecuteTime": {
     "end_time": "2024-04-27T09:10:56.614253Z",
     "start_time": "2024-04-27T09:10:56.569254Z"
    }
   },
   "id": "da69620bc10a6a32",
   "execution_count": 2,
   "outputs": []
  },
  {
   "cell_type": "code",
   "source": [
    "train_dataset = raw_train_dataset.select(range(80000))\n",
    "val_dataset = raw_train_dataset.select(range(80000, 87599))\n",
    "test_dataset = raw_test_dataset"
   ],
   "metadata": {
    "collapsed": false,
    "ExecuteTime": {
     "end_time": "2024-04-27T09:10:56.629815Z",
     "start_time": "2024-04-27T09:10:56.617253Z"
    }
   },
   "id": "ed5d0ed8c5547f57",
   "execution_count": 3,
   "outputs": []
  },
  {
   "cell_type": "code",
   "source": [
    "train_dataset, val_dataset, test_dataset"
   ],
   "metadata": {
    "collapsed": false,
    "ExecuteTime": {
     "end_time": "2024-04-27T09:10:56.644921Z",
     "start_time": "2024-04-27T09:10:56.630816Z"
    }
   },
   "id": "ba17dba501105212",
   "execution_count": 4,
   "outputs": []
  },
  {
   "cell_type": "markdown",
   "source": [
    "# Data preprocessing"
   ],
   "metadata": {
    "collapsed": false
   },
   "id": "da3e7b5af4497f6"
  },
  {
   "cell_type": "code",
   "source": [
    "model_checkpoint = \"google-bert/bert-base-uncased\"\n",
    "tokenizer = AutoTokenizer.from_pretrained(model_checkpoint)"
   ],
   "metadata": {
    "collapsed": false,
    "ExecuteTime": {
     "end_time": "2024-04-27T09:10:57.174505Z",
     "start_time": "2024-04-27T09:10:56.648923Z"
    }
   },
   "id": "edf9671bd665638c",
   "execution_count": 5,
   "outputs": []
  },
  {
   "cell_type": "markdown",
   "source": "### Filter out samples exceeding max number of tokens",
   "metadata": {
    "collapsed": false
   },
   "id": "6b098e08118e422d"
  },
  {
   "cell_type": "code",
   "source": "max_length = tokenizer.model_max_length",
   "metadata": {
    "collapsed": false,
    "ExecuteTime": {
     "end_time": "2024-04-27T09:10:57.189502Z",
     "start_time": "2024-04-27T09:10:57.174890Z"
    }
   },
   "id": "f27f846ee2072adf",
   "execution_count": 6,
   "outputs": []
  },
  {
   "cell_type": "code",
   "source": [
    "filtered_train_dataset = core_preprocessing.filter_samples_below_number_of_tokens(\n",
    "    tokenizer=tokenizer, dataset=train_dataset, max_tokens=max_length\n",
    ")\n",
    "filtered_val_dataset = core_preprocessing.filter_samples_below_number_of_tokens(\n",
    "    tokenizer=tokenizer, dataset=val_dataset, max_tokens=max_length\n",
    ")\n",
    "filtered_test_dataset = core_preprocessing.filter_samples_below_number_of_tokens(\n",
    "    tokenizer=tokenizer, dataset=test_dataset, max_tokens=max_length\n",
    ")"
   ],
   "metadata": {
    "collapsed": false,
    "ExecuteTime": {
     "end_time": "2024-04-27T09:11:00.835494Z",
     "start_time": "2024-04-27T09:10:57.190517Z"
    }
   },
   "id": "258ab3e59018615d",
   "execution_count": 7,
   "outputs": []
  },
  {
   "cell_type": "code",
   "source": [
    "print(f\"Train | BEFORE: {len(train_dataset)} | AFTER: {len(filtered_train_dataset)}\")\n",
    "print(f\"Val | BEFORE: {len(val_dataset)} | AFTER: {len(filtered_val_dataset)}\")\n",
    "print(f\"Test | BEFORE: {len(test_dataset)} | AFTER: {len(filtered_test_dataset)}\")"
   ],
   "metadata": {
    "collapsed": false,
    "ExecuteTime": {
     "end_time": "2024-04-27T09:11:00.850715Z",
     "start_time": "2024-04-27T09:11:00.836715Z"
    }
   },
   "id": "9f9d4df9250a0fbc",
   "execution_count": 8,
   "outputs": []
  },
  {
   "cell_type": "code",
   "source": [
    "tokenized_train_dataset = (\n",
    "    squad_preprocessing.preprocess_squad_training_dataset_no_stride(\n",
    "        dataset=filtered_train_dataset,\n",
    "        tokenizer=tokenizer,\n",
    "        max_length=max_length,\n",
    "        remove_columns=train_dataset.column_names,\n",
    "    )\n",
    ")\n",
    "tokenized_val_dataset = squad_preprocessing.preprocess_squad_training_dataset_no_stride(\n",
    "    dataset=filtered_val_dataset,\n",
    "    tokenizer=tokenizer,\n",
    "    max_length=max_length,\n",
    "    remove_columns=val_dataset.column_names,\n",
    ")"
   ],
   "metadata": {
    "collapsed": false,
    "ExecuteTime": {
     "end_time": "2024-04-27T09:11:00.898716Z",
     "start_time": "2024-04-27T09:11:00.851716Z"
    }
   },
   "id": "b576c8f7969877ec",
   "execution_count": 9,
   "outputs": []
  },
  {
   "cell_type": "code",
   "source": [
    "tokenized_test_dataset = squad_preprocessing.preprocess_squad_test_dataset_no_stride(\n",
    "    dataset=filtered_test_dataset,\n",
    "    tokenizer=tokenizer,\n",
    "    max_length=max_length,\n",
    "    remove_columns=test_dataset.column_names,\n",
    ")"
   ],
   "metadata": {
    "collapsed": false,
    "ExecuteTime": {
     "end_time": "2024-04-27T09:11:05.795434Z",
     "start_time": "2024-04-27T09:11:00.899716Z"
    }
   },
   "id": "3bc3b458a9df9f2b",
   "execution_count": 10,
   "outputs": []
  },
  {
   "cell_type": "markdown",
   "source": [
    "# Training preparation"
   ],
   "metadata": {
    "collapsed": false
   },
   "id": "c3e72dd48e4547a"
  },
  {
   "cell_type": "code",
   "source": [
    "# Model parameters\n",
    "full_model_name = \"-\".join(ipynbname.name().split(\"_\"))\n",
    "\n",
    "# Checkpoints\n",
    "checkpoint_filename_template = constants.checkpoint_filename_template\n",
    "checkpoints_path = (\n",
    "        extractive_qa_paths.training_checkpoints_dir\n",
    "        / full_model_name\n",
    "        / checkpoint_filename_template\n",
    ")\n",
    "\n",
    "# Saved models\n",
    "saved_models_path = extractive_qa_paths.saved_models_dir / full_model_name\n",
    "\n",
    "# Evaluation\n",
    "model_evaluation_dir = extractive_qa_paths.model_evaluation_dir / full_model_name\n",
    "figures_dir = model_evaluation_dir / constants.figures_dir_name\n",
    "\n",
    "# Hyper parameters\n",
    "batch_size = 4\n",
    "train_epochs = 4\n",
    "initial_learning_rate = 5e-5\n",
    "end_learning_rate = 0"
   ],
   "metadata": {
    "collapsed": false,
    "ExecuteTime": {
     "end_time": "2024-04-27T09:11:05.811435Z",
     "start_time": "2024-04-27T09:11:05.796436Z"
    }
   },
   "id": "75ddc66fb81b1139",
   "execution_count": 11,
   "outputs": []
  },
  {
   "cell_type": "code",
   "source": [
    "data_collator = DefaultDataCollator(return_tensors=\"tf\")\n",
    "\n",
    "tf_train_dataset = core_qa_utils.convert_to_tf_dataset(\n",
    "    hf_dataset=tokenized_train_dataset,\n",
    "    columns=[\"input_ids\", \"token_type_ids\", \"attention_mask\"],\n",
    "    label_cols=[\"start_positions\", \"end_positions\"],\n",
    "    collator=data_collator,\n",
    "    batch_size=batch_size,\n",
    ")\n",
    "tf_val_dataset = core_qa_utils.convert_to_tf_dataset(\n",
    "    hf_dataset=tokenized_val_dataset,\n",
    "    columns=[\"input_ids\", \"token_type_ids\", \"attention_mask\"],\n",
    "    label_cols=[\"start_positions\", \"end_positions\"],\n",
    "    collator=data_collator,\n",
    "    batch_size=batch_size,\n",
    ")\n",
    "tf_test_dataset = core_qa_utils.convert_to_tf_dataset(\n",
    "    hf_dataset=tokenized_test_dataset,\n",
    "    columns=[\"input_ids\", \"token_type_ids\", \"attention_mask\"],\n",
    "    label_cols=None,\n",
    "    collator=data_collator,\n",
    "    batch_size=batch_size,\n",
    ")"
   ],
   "metadata": {
    "collapsed": false,
    "ExecuteTime": {
     "end_time": "2024-04-27T09:11:06.848910Z",
     "start_time": "2024-04-27T09:11:05.812437Z"
    }
   },
   "id": "83913e4c39826731",
   "execution_count": 12,
   "outputs": []
  },
  {
   "cell_type": "code",
   "source": [
    "model = TFAutoModelForQuestionAnswering.from_pretrained(model_checkpoint)"
   ],
   "metadata": {
    "collapsed": false,
    "ExecuteTime": {
     "end_time": "2024-04-27T09:11:08.890106Z",
     "start_time": "2024-04-27T09:11:06.849910Z"
    }
   },
   "id": "ba5119d0b3f424bc",
   "execution_count": 13,
   "outputs": []
  },
  {
   "cell_type": "code",
   "source": [
    "checkpoint_cb = tf.keras.callbacks.ModelCheckpoint(\n",
    "    checkpoints_path, save_weights_only=True\n",
    ")\n",
    "early_stop_cb = tf.keras.callbacks.EarlyStopping(patience=1)\n",
    "time_measure_cb = TimeMeasureCallback()\n",
    "\n",
    "callbacks = [checkpoint_cb, early_stop_cb, time_measure_cb]"
   ],
   "metadata": {
    "collapsed": false,
    "ExecuteTime": {
     "end_time": "2024-04-27T09:11:08.906107Z",
     "start_time": "2024-04-27T09:11:08.893107Z"
    }
   },
   "id": "b1ff29b52a5abcd5",
   "execution_count": 14,
   "outputs": []
  },
  {
   "cell_type": "code",
   "source": [
    "num_train_steps = len(tf_train_dataset) * train_epochs\n",
    "\n",
    "lr_scheduler = tf.keras.optimizers.schedules.PolynomialDecay(\n",
    "    initial_learning_rate=initial_learning_rate,\n",
    "    end_learning_rate=end_learning_rate,\n",
    "    decay_steps=num_train_steps,\n",
    ")\n",
    "\n",
    "optimizer = tf.keras.optimizers.Adam(learning_rate=lr_scheduler)\n",
    "loss = tf.keras.losses.SparseCategoricalCrossentropy(from_logits=True)\n",
    "qa_metrics = [\"accuracy\"]\n",
    "\n",
    "model.compile(optimizer=optimizer, loss=loss, metrics=qa_metrics)"
   ],
   "metadata": {
    "collapsed": false,
    "ExecuteTime": {
     "end_time": "2024-04-27T09:11:08.938110Z",
     "start_time": "2024-04-27T09:11:08.907106Z"
    }
   },
   "id": "da49e555f4799d26",
   "execution_count": 15,
   "outputs": []
  },
  {
   "cell_type": "code",
   "source": [
    "tf.keras.mixed_precision.set_global_policy(\"mixed_float16\")"
   ],
   "metadata": {
    "collapsed": false,
    "ExecuteTime": {
     "end_time": "2024-04-27T09:11:08.953619Z",
     "start_time": "2024-04-27T09:11:08.939110Z"
    }
   },
   "id": "bb7796ad3f812abd",
   "execution_count": 16,
   "outputs": []
  },
  {
   "cell_type": "markdown",
   "source": [
    "# Model training"
   ],
   "metadata": {
    "collapsed": false
   },
   "id": "32514c497310e30f"
  },
  {
   "cell_type": "code",
   "source": [
    "history = model.fit(\n",
    "    tf_train_dataset,\n",
    "    validation_data=tf_val_dataset,\n",
    "    epochs=train_epochs,\n",
    "    callbacks=callbacks,\n",
    ")"
   ],
   "metadata": {
    "collapsed": false,
    "ExecuteTime": {
     "end_time": "2024-04-27T11:24:19.551017Z",
     "start_time": "2024-04-27T09:11:08.954619Z"
    }
   },
   "id": "69e9da3716d079d2",
   "execution_count": 17,
   "outputs": []
  },
  {
   "cell_type": "code",
   "source": "history = history.history",
   "metadata": {
    "collapsed": false,
    "ExecuteTime": {
     "end_time": "2024-04-27T11:24:19.566531Z",
     "start_time": "2024-04-27T11:24:19.552538Z"
    }
   },
   "id": "dbb40c8885071757",
   "execution_count": 18,
   "outputs": []
  },
  {
   "cell_type": "code",
   "source": [
    "core_qa_utils.save_dict_as_json(\n",
    "    dictionary=history, dir_path=model_evaluation_dir, filename=\"history.json\"\n",
    ")"
   ],
   "metadata": {
    "collapsed": false,
    "ExecuteTime": {
     "end_time": "2024-04-27T11:24:19.582529Z",
     "start_time": "2024-04-27T11:24:19.567530Z"
    }
   },
   "id": "9c7c36d2bef3b5bb",
   "execution_count": 19,
   "outputs": []
  },
  {
   "cell_type": "code",
   "source": [
    "# Plot training figures\n",
    "core_qa_utils.plot_and_save_fig_from_history(\n",
    "    history,\n",
    "    attributes=[\"start_logits_accuracy\", \"val_start_logits_accuracy\"],\n",
    "    title=\"Model start logits accuracy\",\n",
    "    y_label=\"Accuracy\",\n",
    "    x_label=\"Epoch\",\n",
    "    legend_descriptors=[\"Train\", \"Val\"],\n",
    "    figure_dir_path=figures_dir,\n",
    "    figure_filename=f\"start_accuracy.png\",\n",
    ")\n",
    "core_qa_utils.plot_and_save_fig_from_history(\n",
    "    history,\n",
    "    attributes=[\"end_logits_accuracy\", \"val_end_logits_accuracy\"],\n",
    "    title=\"Model end logits accuracy\",\n",
    "    y_label=\"Accuracy\",\n",
    "    x_label=\"Epoch\",\n",
    "    legend_descriptors=[\"Train\", \"Val\"],\n",
    "    figure_dir_path=figures_dir,\n",
    "    figure_filename=f\"end_accuracy.png\",\n",
    ")\n",
    "core_qa_utils.plot_and_save_fig_from_history(\n",
    "    history,\n",
    "    attributes=[\"loss\", \"val_loss\"],\n",
    "    title=\"Model loss\",\n",
    "    y_label=\"Loss\",\n",
    "    x_label=\"Epoch\",\n",
    "    legend_descriptors=[\"Train\", \"Val\"],\n",
    "    figure_dir_path=figures_dir,\n",
    "    figure_filename=f\"loss.png\",\n",
    ")\n",
    "core_qa_utils.plot_and_save_fig_from_history(\n",
    "    history,\n",
    "    attributes=[\"start_logits_loss\", \"val_start_logits_loss\"],\n",
    "    title=\"Model start logits loss\",\n",
    "    y_label=\"Loss\",\n",
    "    x_label=\"Epoch\",\n",
    "    legend_descriptors=[\"Train\", \"Val\"],\n",
    "    figure_dir_path=figures_dir,\n",
    "    figure_filename=f\"start_loss.png\",\n",
    ")\n",
    "core_qa_utils.plot_and_save_fig_from_history(\n",
    "    history,\n",
    "    attributes=[\"end_logits_loss\", \"val_end_logits_loss\"],\n",
    "    title=\"Model end logits loss\",\n",
    "    y_label=\"Loss\",\n",
    "    x_label=\"Epoch\",\n",
    "    legend_descriptors=[\"Train\", \"Val\"],\n",
    "    figure_dir_path=figures_dir,\n",
    "    figure_filename=f\"end_loss.png\",\n",
    ")"
   ],
   "metadata": {
    "collapsed": false,
    "ExecuteTime": {
     "end_time": "2024-04-27T11:24:20.265452Z",
     "start_time": "2024-04-27T11:24:19.583529Z"
    }
   },
   "id": "5ac4e46e59fa49f7",
   "execution_count": 20,
   "outputs": []
  },
  {
   "cell_type": "markdown",
   "source": [
    "# Saving model's best version & training data"
   ],
   "metadata": {
    "collapsed": false
   },
   "id": "93a52c999ea30b09"
  },
  {
   "cell_type": "code",
   "source": [
    "history = core_qa_utils.read_json_as_dict(model_evaluation_dir / \"history.json\")"
   ],
   "metadata": {
    "collapsed": false,
    "ExecuteTime": {
     "end_time": "2024-04-27T11:24:20.281513Z",
     "start_time": "2024-04-27T11:24:20.266459Z"
    }
   },
   "id": "eac7028fb72e801a",
   "execution_count": 21,
   "outputs": []
  },
  {
   "cell_type": "code",
   "source": [
    "best_epoch = core_qa_utils.get_best_epoch(\n",
    "    history=history, metric=\"val_loss\", metric_evaluator=\"min\"\n",
    ")"
   ],
   "metadata": {
    "collapsed": false,
    "ExecuteTime": {
     "end_time": "2024-04-27T11:24:20.297513Z",
     "start_time": "2024-04-27T11:24:20.282515Z"
    }
   },
   "id": "312471adf3c11d2d",
   "execution_count": 22,
   "outputs": []
  },
  {
   "cell_type": "code",
   "source": [
    "training_data = {\n",
    "    \"history\": history,\n",
    "    \"attempted_epochs\": train_epochs,\n",
    "    \"best_epoch\": best_epoch,\n",
    "    \"training_time\": time_measure_cb.total_training_time(),\n",
    "    \"gpu\": core_qa_utils.get_gpu_name(),\n",
    "}"
   ],
   "metadata": {
    "collapsed": false,
    "ExecuteTime": {
     "end_time": "2024-04-27T11:24:20.313513Z",
     "start_time": "2024-04-27T11:24:20.298514Z"
    }
   },
   "id": "f585e5facae05bc6",
   "execution_count": 23,
   "outputs": []
  },
  {
   "cell_type": "code",
   "source": [
    "core_qa_utils.save_dict_as_json(\n",
    "    training_data, dir_path=model_evaluation_dir, filename=\"training_data.json\"\n",
    ")"
   ],
   "metadata": {
    "collapsed": false,
    "ExecuteTime": {
     "end_time": "2024-04-27T11:24:20.328513Z",
     "start_time": "2024-04-27T11:24:20.314517Z"
    }
   },
   "id": "68b8edd0e5d21ab9",
   "execution_count": 24,
   "outputs": []
  },
  {
   "cell_type": "code",
   "source": [
    "best_model = model_management.load_best_model_from_checkpoints(\n",
    "    model=model, model_name=full_model_name, epoch=best_epoch, remove_checkpoints=True\n",
    ")"
   ],
   "metadata": {
    "collapsed": false,
    "ExecuteTime": {
     "end_time": "2024-04-27T11:24:22.064097Z",
     "start_time": "2024-04-27T11:24:20.329516Z"
    }
   },
   "id": "74bc75f641ea947b",
   "execution_count": 25,
   "outputs": []
  },
  {
   "cell_type": "code",
   "source": [
    "model_management.save_model(model=best_model, model_name=full_model_name)"
   ],
   "metadata": {
    "collapsed": false,
    "ExecuteTime": {
     "end_time": "2024-04-27T11:24:24.664491Z",
     "start_time": "2024-04-27T11:24:22.065098Z"
    }
   },
   "id": "dcec2ea8d6fd3e56",
   "execution_count": 26,
   "outputs": []
  },
  {
   "cell_type": "markdown",
   "source": [
    "# Getting predictions"
   ],
   "metadata": {
    "collapsed": false
   },
   "id": "d1379f37850fdce5"
  },
  {
   "cell_type": "code",
   "source": [
    "loaded_model = model_management.load_model(\n",
    "    model_checkpoint=model_checkpoint, model_name=full_model_name\n",
    ")"
   ],
   "metadata": {
    "collapsed": false,
    "ExecuteTime": {
     "end_time": "2024-04-27T11:24:37.365478Z",
     "start_time": "2024-04-27T11:24:24.665492Z"
    }
   },
   "id": "f0219b014b5f9c7e",
   "execution_count": 27,
   "outputs": []
  },
  {
   "cell_type": "code",
   "source": [
    "output = loaded_model.predict(tf_test_dataset)"
   ],
   "metadata": {
    "collapsed": false,
    "ExecuteTime": {
     "end_time": "2024-04-27T11:27:00.092794Z",
     "start_time": "2024-04-27T11:24:37.366487Z"
    }
   },
   "id": "242fd4d0ca939f9e",
   "execution_count": 28,
   "outputs": []
  },
  {
   "cell_type": "code",
   "source": [
    "# Get predictions\n",
    "output_start_logits = predictions.get_preds(\n",
    "    output, output_key=\"start_logits\", return_type=\"logits\"\n",
    ")\n",
    "output_end_logits = predictions.get_preds(\n",
    "    output, output_key=\"end_logits\", return_type=\"logits\"\n",
    ")\n",
    "\n",
    "output_start_positions = predictions.get_preds(\n",
    "    output, output_key=\"start_logits\", return_type=\"class\"\n",
    ")\n",
    "output_end_positions = predictions.get_preds(\n",
    "    output, output_key=\"end_logits\", return_type=\"class\"\n",
    ")"
   ],
   "metadata": {
    "collapsed": false,
    "ExecuteTime": {
     "end_time": "2024-04-27T11:27:00.139306Z",
     "start_time": "2024-04-27T11:27:00.093800Z"
    }
   },
   "id": "6b4a5f26d09850e6",
   "execution_count": 29,
   "outputs": []
  },
  {
   "cell_type": "code",
   "source": [
    "def get_predicted_texts_for_multiple_n_best(\n",
    "        start_logits: np.ndarray,\n",
    "        end_logits: np.ndarray,\n",
    "        features: Dataset,\n",
    "        examples: Dataset,\n",
    "        n_best_variants: list[int],\n",
    "):\n",
    "    predicted_texts_for_varying_n_best = []\n",
    "    for n_best_variant in n_best_variants:\n",
    "        predicted_texts = predictions.get_predicted_texts(\n",
    "            start_logits=start_logits,\n",
    "            end_logits=end_logits,\n",
    "            features=features,\n",
    "            examples=examples,\n",
    "            n_best=n_best_variant,\n",
    "        )\n",
    "        predicted_texts_for_varying_n_best.append(predicted_texts)\n",
    "\n",
    "    return predicted_texts_for_varying_n_best"
   ],
   "metadata": {
    "collapsed": false,
    "ExecuteTime": {
     "end_time": "2024-04-27T11:27:00.155309Z",
     "start_time": "2024-04-27T11:27:00.140310Z"
    }
   },
   "id": "baf1c360ad0486d8",
   "execution_count": 30,
   "outputs": []
  },
  {
   "cell_type": "code",
   "source": [
    "n_bests = [\"01\", \"02\", \"03\", \"05\"]\n",
    "\n",
    "textual_predictions_variants = get_predicted_texts_for_multiple_n_best(\n",
    "    start_logits=output_start_logits,\n",
    "    end_logits=output_end_logits,\n",
    "    features=tokenized_test_dataset,\n",
    "    examples=test_dataset,\n",
    "    n_best_variants=[int(n_best) for n_best in n_bests],\n",
    ")"
   ],
   "metadata": {
    "collapsed": false,
    "ExecuteTime": {
     "end_time": "2024-04-27T11:28:23.739746Z",
     "start_time": "2024-04-27T11:27:00.156312Z"
    }
   },
   "id": "bef045792bbbf40c",
   "execution_count": 31,
   "outputs": []
  },
  {
   "metadata": {},
   "cell_type": "markdown",
   "source": "# Metrics & evaluation",
   "id": "d48f3ab7e84701ed"
  },
  {
   "metadata": {},
   "cell_type": "markdown",
   "source": "### Stats",
   "id": "3edb7b2e8a720f16"
  },
  {
   "metadata": {
    "ExecuteTime": {
     "end_time": "2024-04-27T11:28:23.818263Z",
     "start_time": "2024-04-27T11:28:23.740795Z"
    }
   },
   "cell_type": "code",
   "source": [
    "metric_stats = squad_metrics.calculate_squad_metrics_stats(\n",
    "    start_actual=tokenized_test_dataset[\"start_positions\"],\n",
    "    end_actual=tokenized_test_dataset[\"end_positions\"],\n",
    "    start_preds=output_start_positions,\n",
    "    end_preds=output_end_positions,\n",
    ")\n",
    "metric_stats"
   ],
   "id": "e14cc918f601cb2",
   "execution_count": 32,
   "outputs": []
  },
  {
   "metadata": {},
   "cell_type": "markdown",
   "source": "### Accuracies",
   "id": "99e4a928d1cd921"
  },
  {
   "metadata": {
    "ExecuteTime": {
     "end_time": "2024-04-27T11:28:24.054317Z",
     "start_time": "2024-04-27T11:28:23.819265Z"
    }
   },
   "cell_type": "code",
   "source": [
    "accuracies_metrics = squad_metrics.calculate_squad_accuracies(\n",
    "    start_actual=tokenized_test_dataset[\"start_positions\"],\n",
    "    end_actual=tokenized_test_dataset[\"end_positions\"],\n",
    "    start_preds=output_start_positions,\n",
    "    end_preds=output_end_positions,\n",
    ")\n",
    "accuracies_metrics"
   ],
   "id": "e4ed2811214b2304",
   "execution_count": 33,
   "outputs": []
  },
  {
   "metadata": {},
   "cell_type": "markdown",
   "source": "### Precision, recall, F1-score, exact match",
   "id": "8c7634a7abe276b0"
  },
  {
   "metadata": {
    "ExecuteTime": {
     "end_time": "2024-04-27T11:28:24.069240Z",
     "start_time": "2024-04-27T11:28:24.055317Z"
    }
   },
   "cell_type": "code",
   "source": [
    "def calculate_all_variants_of_squad_qa_metrics(\n",
    "        answers: list[list[str]],\n",
    "        predicted_texts_variants: list[list[str]],\n",
    "):\n",
    "    metrics = []\n",
    "    for predicted_texts_variant in predicted_texts_variants:\n",
    "        non_normalized_metrics = squad_metrics.calculate_squad_qa_metrics(\n",
    "            answers=answers, predicted_texts=predicted_texts_variant, normalize=False\n",
    "        )\n",
    "        normalized_metrics = squad_metrics.calculate_squad_qa_metrics(\n",
    "            answers=answers, predicted_texts=predicted_texts_variant, normalize=True\n",
    "        )\n",
    "        metrics.append(non_normalized_metrics)\n",
    "        metrics.append(normalized_metrics)\n",
    "\n",
    "    return metrics"
   ],
   "id": "b866db8f9a8150d0",
   "execution_count": 34,
   "outputs": []
  },
  {
   "metadata": {
    "ExecuteTime": {
     "end_time": "2024-04-27T11:28:33.634553Z",
     "start_time": "2024-04-27T11:28:24.070258Z"
    }
   },
   "cell_type": "code",
   "source": [
    "qa_metrics = calculate_all_variants_of_squad_qa_metrics(\n",
    "    answers=test_dataset[\"answer_text\"],\n",
    "    predicted_texts_variants=textual_predictions_variants,\n",
    ")"
   ],
   "id": "746ccf281bf0defb",
   "execution_count": 35,
   "outputs": []
  },
  {
   "metadata": {},
   "cell_type": "markdown",
   "source": "### Correct predictions by sentence lengths",
   "id": "20f97cea56095eb5"
  },
  {
   "metadata": {
    "ExecuteTime": {
     "end_time": "2024-04-27T11:28:33.650685Z",
     "start_time": "2024-04-27T11:28:33.635561Z"
    }
   },
   "cell_type": "code",
   "source": [
    "non_normalized_qa_metrics = qa_metrics[::2]\n",
    "non_normalized_f1_scores = [qa_metric[\"f1\"] for qa_metric in non_normalized_qa_metrics]\n",
    "best_n_best = non_normalized_f1_scores.index(max(non_normalized_f1_scores))"
   ],
   "id": "597f351cc7a00ead",
   "execution_count": 36,
   "outputs": []
  },
  {
   "metadata": {
    "ExecuteTime": {
     "end_time": "2024-04-27T11:28:33.966230Z",
     "start_time": "2024-04-27T11:28:33.651561Z"
    }
   },
   "cell_type": "code",
   "source": [
    "best_textual_predictions = textual_predictions_variants[best_n_best]\n",
    "correctly_predicted = squad_metrics.get_is_correctly_predicted(\n",
    "    answers=test_dataset[\"answer_text\"],\n",
    "    predicted_texts=best_textual_predictions,\n",
    "    normalize=True,\n",
    ")"
   ],
   "id": "14249815fbfb5ff8",
   "execution_count": 37,
   "outputs": []
  },
  {
   "metadata": {
    "ExecuteTime": {
     "end_time": "2024-04-27T11:28:35.032500Z",
     "start_time": "2024-04-27T11:28:33.967234Z"
    }
   },
   "cell_type": "code",
   "source": [
    "# Plot correctness of the model by sentence length\n",
    "graphs.plot_correct_predictions_by_sentence_length(\n",
    "    sentences=test_dataset[\"context\"],\n",
    "    correctly_predicted=correctly_predicted,\n",
    "    figure_path=figures_dir / \"context_correctness_by_sentence_length_0_300_50.png\",\n",
    "    figure_title=\"Correctness by sentence length\",\n",
    "    divider=50,\n",
    "    min_threshold=0,\n",
    "    max_threshold=300,\n",
    ")\n",
    "graphs.plot_correct_predictions_by_sentence_length(\n",
    "    sentences=test_dataset[\"context\"],\n",
    "    correctly_predicted=correctly_predicted,\n",
    "    figure_path=figures_dir / \"context_correctness_by_sentence_length_0_400_80.png\",\n",
    "    figure_title=\"Correctness by sentence length\",\n",
    "    divider=80,\n",
    "    min_threshold=0,\n",
    "    max_threshold=400,\n",
    ")\n",
    "graphs.plot_correct_predictions_by_sentence_length(\n",
    "    sentences=test_dataset[\"context\"],\n",
    "    correctly_predicted=correctly_predicted,\n",
    "    figure_path=figures_dir / \"context_correctness_by_sentence_length_0_400_100.png\",\n",
    "    figure_title=\"Correctness by sentence length\",\n",
    "    divider=100,\n",
    "    min_threshold=0,\n",
    "    max_threshold=400,\n",
    ")\n",
    "graphs.plot_correct_predictions_by_sentence_length(\n",
    "    sentences=test_dataset[\"context\"],\n",
    "    correctly_predicted=correctly_predicted,\n",
    "    figure_path=figures_dir / \"context_correctness_by_sentence_length_30_180_30.png\",\n",
    "    figure_title=\"Correctness by sentence length\",\n",
    "    divider=30,\n",
    "    min_threshold=30,\n",
    "    max_threshold=180,\n",
    ")"
   ],
   "id": "eed8ca89875683c1",
   "execution_count": 38,
   "outputs": []
  },
  {
   "metadata": {},
   "cell_type": "markdown",
   "source": "### Saving evaluation data",
   "id": "967da3c783a9e35e"
  },
  {
   "metadata": {
    "ExecuteTime": {
     "end_time": "2024-04-27T11:28:35.048501Z",
     "start_time": "2024-04-27T11:28:35.033541Z"
    }
   },
   "cell_type": "code",
   "source": [
    "def get_all_variants_of_qa_metric(all_metrics, metric_name: str):\n",
    "    return {\n",
    "        f\"{n_bests[i // 2]}_best_{'normalized' if i % 2 else 'standard'}\": all_metrics[\n",
    "            i\n",
    "        ][metric_name]\n",
    "        for i in range(len(n_bests) * 2)\n",
    "    }"
   ],
   "id": "5f15fa679b2357cc",
   "execution_count": 39,
   "outputs": []
  },
  {
   "metadata": {
    "ExecuteTime": {
     "end_time": "2024-04-27T11:28:35.064500Z",
     "start_time": "2024-04-27T11:28:35.049502Z"
    }
   },
   "cell_type": "code",
   "source": [
    "evaluation_data = {\n",
    "    \"accuracy\": accuracies_metrics,\n",
    "    \"metric_stats\": metric_stats,\n",
    "    \"precision\": get_all_variants_of_qa_metric(qa_metrics, \"precision\"),\n",
    "    \"recall\": get_all_variants_of_qa_metric(qa_metrics, \"recall\"),\n",
    "    \"f1\": get_all_variants_of_qa_metric(qa_metrics, \"f1\"),\n",
    "    \"exact_match\": get_all_variants_of_qa_metric(qa_metrics, \"exact_match\"),\n",
    "}"
   ],
   "id": "4d94626e752573d5",
   "execution_count": 40,
   "outputs": []
  },
  {
   "metadata": {
    "ExecuteTime": {
     "end_time": "2024-04-27T11:28:35.080504Z",
     "start_time": "2024-04-27T11:28:35.067505Z"
    }
   },
   "cell_type": "code",
   "source": [
    "core_qa_utils.save_dict_as_json(\n",
    "    evaluation_data, dir_path=model_evaluation_dir, filename=\"evaluation_data.json\"\n",
    ")"
   ],
   "id": "6074c321adc0924f",
   "execution_count": 41,
   "outputs": []
  },
  {
   "metadata": {
    "ExecuteTime": {
     "end_time": "2024-04-27T11:28:35.095650Z",
     "start_time": "2024-04-27T11:28:35.081506Z"
    }
   },
   "cell_type": "code",
   "source": "",
   "id": "27a70c393dc2fd40",
   "execution_count": 41,
   "outputs": []
  }
 ],
 "metadata": {
  "kernelspec": {
   "display_name": "Python 3",
   "language": "python",
   "name": "python3"
  },
  "language_info": {
   "codemirror_mode": {
    "name": "ipython",
    "version": 2
   },
   "file_extension": ".py",
   "mimetype": "text/x-python",
   "name": "python",
   "nbconvert_exporter": "python",
   "pygments_lexer": "ipython2",
   "version": "2.7.6"
  }
 },
 "nbformat": 4,
 "nbformat_minor": 5
}
