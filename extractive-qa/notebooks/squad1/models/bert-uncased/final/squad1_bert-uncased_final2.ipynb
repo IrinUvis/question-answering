{
 "cells": [
  {
   "cell_type": "markdown",
   "source": [
    "# Model details\n",
    "- ***Used base model***: bert-base-uncased\n",
    "- ***Used dataset***: SQuAD 1.0\n",
    "- ***Batch size***: 4\n",
    "- ***Datasets***: Train: original 87599 train samples, Test: original 10570 samples\n",
    "- ***Attempted train epochs***: 4\n",
    "- ***Best epoch***: 1\n",
    "- ***Initial learning rate***: 2e-5\n",
    "- ***Additional info***: Filtering below max tokens of the model = 512"
   ],
   "metadata": {
    "collapsed": false
   },
   "id": "83cff6ac1d025261"
  },
  {
   "cell_type": "code",
   "source": [
    "from transformers import (\n",
    "    AutoTokenizer,\n",
    "    TFAutoModelForQuestionAnswering,\n",
    "    DefaultDataCollator,\n",
    ")\n",
    "import tensorflow as tf\n",
    "from question_answering.constants import constants\n",
    "from question_answering.utils import (\n",
    "    core_qa_utils,\n",
    "    squad_preprocessing,\n",
    "    model_management,\n",
    "    predictions,\n",
    "    squad_metrics,\n",
    "    graphs,\n",
    "    core_preprocessing,\n",
    ")\n",
    "from question_answering.paths import extractive_qa_paths\n",
    "import ipynbname\n",
    "from question_answering.keras_callbacks.time_measure_callback import TimeMeasureCallback\n",
    "import numpy as np\n",
    "from datasets import Dataset"
   ],
   "metadata": {
    "collapsed": false,
    "ExecuteTime": {
     "end_time": "2024-04-29T03:45:20.172354Z",
     "start_time": "2024-04-29T03:45:16.443709Z"
    }
   },
   "id": "143ae7b201b745c0",
   "outputs": [
    {
     "name": "stderr",
     "output_type": "stream",
     "text": [
      "C:\\Users\\Karol\\miniconda3\\envs\\question_answering\\lib\\site-packages\\transformers\\utils\\generic.py:441: UserWarning: torch.utils._pytree._register_pytree_node is deprecated. Please use torch.utils._pytree.register_pytree_node instead.\n",
      "  _torch_pytree._register_pytree_node(\n",
      "C:\\Users\\Karol\\miniconda3\\envs\\question_answering\\lib\\site-packages\\transformers\\utils\\generic.py:309: UserWarning: torch.utils._pytree._register_pytree_node is deprecated. Please use torch.utils._pytree.register_pytree_node instead.\n",
      "  _torch_pytree._register_pytree_node(\n"
     ]
    }
   ],
   "execution_count": 1
  },
  {
   "cell_type": "markdown",
   "source": [
    "# Data loading"
   ],
   "metadata": {
    "collapsed": false
   },
   "id": "319fae1ec8d8aeca"
  },
  {
   "cell_type": "code",
   "source": [
    "raw_train_dataset, raw_test_dataset = core_qa_utils.load_datasets_from_json(\n",
    "    dataset_path=extractive_qa_paths.squad1_dataset_dir,\n",
    "    filenames=[\"original_train.json\", \"original_test.json\"],\n",
    ")"
   ],
   "metadata": {
    "collapsed": false,
    "ExecuteTime": {
     "end_time": "2024-04-29T03:45:20.234726Z",
     "start_time": "2024-04-29T03:45:20.173362Z"
    }
   },
   "id": "da69620bc10a6a32",
   "outputs": [],
   "execution_count": 2
  },
  {
   "cell_type": "code",
   "source": [
    "train_dataset = raw_train_dataset\n",
    "test_dataset = raw_test_dataset"
   ],
   "metadata": {
    "collapsed": false,
    "ExecuteTime": {
     "end_time": "2024-04-29T03:45:20.249736Z",
     "start_time": "2024-04-29T03:45:20.235728Z"
    }
   },
   "id": "ed5d0ed8c5547f57",
   "outputs": [],
   "execution_count": 3
  },
  {
   "cell_type": "code",
   "source": "train_dataset, test_dataset",
   "metadata": {
    "collapsed": false,
    "ExecuteTime": {
     "end_time": "2024-04-29T03:45:20.265748Z",
     "start_time": "2024-04-29T03:45:20.250736Z"
    }
   },
   "id": "ba17dba501105212",
   "outputs": [
    {
     "data": {
      "text/plain": [
       "(Dataset({\n",
       "     features: ['id', 'title', 'context', 'question', 'answers', 'answer_text', 'answer_start'],\n",
       "     num_rows: 87599\n",
       " }),\n",
       " Dataset({\n",
       "     features: ['id', 'title', 'context', 'question', 'answers', 'answer_text', 'answer_start'],\n",
       "     num_rows: 10570\n",
       " }))"
      ]
     },
     "execution_count": 4,
     "metadata": {},
     "output_type": "execute_result"
    }
   ],
   "execution_count": 4
  },
  {
   "cell_type": "markdown",
   "source": [
    "# Data preprocessing"
   ],
   "metadata": {
    "collapsed": false
   },
   "id": "da3e7b5af4497f6"
  },
  {
   "cell_type": "code",
   "source": [
    "model_checkpoint = \"google-bert/bert-base-uncased\"\n",
    "tokenizer = AutoTokenizer.from_pretrained(model_checkpoint)"
   ],
   "metadata": {
    "collapsed": false,
    "ExecuteTime": {
     "end_time": "2024-04-29T03:45:21.084274Z",
     "start_time": "2024-04-29T03:45:20.267750Z"
    }
   },
   "id": "edf9671bd665638c",
   "outputs": [],
   "execution_count": 5
  },
  {
   "cell_type": "markdown",
   "source": "### Filter out samples exceeding max number of tokens",
   "metadata": {
    "collapsed": false
   },
   "id": "6b098e08118e422d"
  },
  {
   "cell_type": "code",
   "source": "max_length = tokenizer.model_max_length",
   "metadata": {
    "collapsed": false,
    "ExecuteTime": {
     "end_time": "2024-04-29T03:45:21.099274Z",
     "start_time": "2024-04-29T03:45:21.085274Z"
    }
   },
   "id": "f27f846ee2072adf",
   "outputs": [],
   "execution_count": 6
  },
  {
   "cell_type": "code",
   "source": [
    "filtered_train_dataset = core_preprocessing.filter_samples_below_number_of_tokens(\n",
    "    tokenizer=tokenizer, dataset=train_dataset, max_tokens=max_length\n",
    ")\n",
    "filtered_test_dataset = core_preprocessing.filter_samples_below_number_of_tokens(\n",
    "    tokenizer=tokenizer, dataset=test_dataset, max_tokens=max_length\n",
    ")"
   ],
   "metadata": {
    "collapsed": false,
    "ExecuteTime": {
     "end_time": "2024-04-29T03:45:21.130277Z",
     "start_time": "2024-04-29T03:45:21.100275Z"
    }
   },
   "id": "258ab3e59018615d",
   "outputs": [],
   "execution_count": 7
  },
  {
   "cell_type": "code",
   "source": [
    "print(f\"Train | BEFORE: {len(train_dataset)} | AFTER: {len(filtered_train_dataset)}\")\n",
    "print(f\"Test | BEFORE: {len(test_dataset)} | AFTER: {len(filtered_test_dataset)}\")"
   ],
   "metadata": {
    "collapsed": false,
    "ExecuteTime": {
     "end_time": "2024-04-29T03:45:21.146279Z",
     "start_time": "2024-04-29T03:45:21.131275Z"
    }
   },
   "id": "9f9d4df9250a0fbc",
   "outputs": [
    {
     "name": "stdout",
     "output_type": "stream",
     "text": [
      "Train | BEFORE: 87599 | AFTER: 87484\n",
      "Test | BEFORE: 10570 | AFTER: 10514\n"
     ]
    }
   ],
   "execution_count": 8
  },
  {
   "cell_type": "code",
   "source": [
    "tokenized_train_dataset = (\n",
    "    squad_preprocessing.preprocess_squad_training_dataset_no_stride(\n",
    "        dataset=filtered_train_dataset,\n",
    "        tokenizer=tokenizer,\n",
    "        max_length=max_length,\n",
    "        remove_columns=train_dataset.column_names,\n",
    "    )\n",
    ")"
   ],
   "metadata": {
    "collapsed": false,
    "ExecuteTime": {
     "end_time": "2024-04-29T03:45:45.896503Z",
     "start_time": "2024-04-29T03:45:21.147280Z"
    }
   },
   "id": "b576c8f7969877ec",
   "outputs": [
    {
     "data": {
      "text/plain": [
       "Map:   0%|          | 0/87484 [00:00<?, ? examples/s]"
      ],
      "application/vnd.jupyter.widget-view+json": {
       "version_major": 2,
       "version_minor": 0,
       "model_id": "765338ca8c014d19b9f59ec687abbe50"
      }
     },
     "metadata": {},
     "output_type": "display_data"
    }
   ],
   "execution_count": 9
  },
  {
   "cell_type": "code",
   "source": [
    "tokenized_test_dataset = squad_preprocessing.preprocess_squad_test_dataset_no_stride(\n",
    "    dataset=filtered_test_dataset,\n",
    "    tokenizer=tokenizer,\n",
    "    max_length=max_length,\n",
    "    remove_columns=test_dataset.column_names,\n",
    ")"
   ],
   "metadata": {
    "collapsed": false,
    "ExecuteTime": {
     "end_time": "2024-04-29T03:45:45.928542Z",
     "start_time": "2024-04-29T03:45:45.898504Z"
    }
   },
   "id": "3bc3b458a9df9f2b",
   "outputs": [],
   "execution_count": 10
  },
  {
   "cell_type": "markdown",
   "source": [
    "# Training preparation"
   ],
   "metadata": {
    "collapsed": false
   },
   "id": "c3e72dd48e4547a"
  },
  {
   "cell_type": "code",
   "source": [
    "# Model parameters\n",
    "full_model_name = \"-\".join(ipynbname.name().split(\"_\"))\n",
    "\n",
    "# Checkpoints\n",
    "checkpoint_filename_template = constants.checkpoint_filename_template\n",
    "checkpoints_path = (\n",
    "    extractive_qa_paths.training_checkpoints_dir\n",
    "    / full_model_name\n",
    "    / checkpoint_filename_template\n",
    ")\n",
    "\n",
    "# Saved models\n",
    "saved_models_path = extractive_qa_paths.saved_models_dir / full_model_name\n",
    "\n",
    "# Evaluation\n",
    "model_evaluation_dir = extractive_qa_paths.model_evaluation_dir / full_model_name\n",
    "figures_dir = model_evaluation_dir / constants.figures_dir_name\n",
    "\n",
    "# Hyper parameters\n",
    "batch_size = 4\n",
    "planned_train_epochs = 4\n",
    "actual_epochs = 1\n",
    "initial_learning_rate = 2e-5\n",
    "end_learning_rate = 0"
   ],
   "metadata": {
    "collapsed": false,
    "ExecuteTime": {
     "end_time": "2024-04-29T03:45:45.944548Z",
     "start_time": "2024-04-29T03:45:45.930546Z"
    }
   },
   "id": "75ddc66fb81b1139",
   "outputs": [],
   "execution_count": 11
  },
  {
   "cell_type": "code",
   "source": [
    "data_collator = DefaultDataCollator(return_tensors=\"tf\")\n",
    "\n",
    "tf_train_dataset = core_qa_utils.convert_to_tf_dataset(\n",
    "    hf_dataset=tokenized_train_dataset,\n",
    "    columns=[\"input_ids\", \"token_type_ids\", \"attention_mask\"],\n",
    "    label_cols=[\"start_positions\", \"end_positions\"],\n",
    "    collator=data_collator,\n",
    "    batch_size=batch_size,\n",
    ")\n",
    "tf_test_dataset = core_qa_utils.convert_to_tf_dataset(\n",
    "    hf_dataset=tokenized_test_dataset,\n",
    "    columns=[\"input_ids\", \"token_type_ids\", \"attention_mask\"],\n",
    "    label_cols=None,\n",
    "    collator=data_collator,\n",
    "    batch_size=batch_size,\n",
    ")"
   ],
   "metadata": {
    "collapsed": false,
    "ExecuteTime": {
     "end_time": "2024-04-29T03:45:46.850250Z",
     "start_time": "2024-04-29T03:45:45.945543Z"
    }
   },
   "id": "83913e4c39826731",
   "outputs": [],
   "execution_count": 12
  },
  {
   "cell_type": "code",
   "source": [
    "model = TFAutoModelForQuestionAnswering.from_pretrained(model_checkpoint)"
   ],
   "metadata": {
    "collapsed": false,
    "ExecuteTime": {
     "end_time": "2024-04-29T03:45:48.755618Z",
     "start_time": "2024-04-29T03:45:46.851257Z"
    }
   },
   "id": "ba5119d0b3f424bc",
   "outputs": [
    {
     "name": "stderr",
     "output_type": "stream",
     "text": [
      "All PyTorch model weights were used when initializing TFBertForQuestionAnswering.\n",
      "\n",
      "Some weights or buffers of the TF 2.0 model TFBertForQuestionAnswering were not initialized from the PyTorch model and are newly initialized: ['qa_outputs.weight', 'qa_outputs.bias']\n",
      "You should probably TRAIN this model on a down-stream task to be able to use it for predictions and inference.\n"
     ]
    }
   ],
   "execution_count": 13
  },
  {
   "cell_type": "code",
   "source": [
    "checkpoint_cb = tf.keras.callbacks.ModelCheckpoint(\n",
    "    checkpoints_path, save_weights_only=True\n",
    ")\n",
    "time_measure_cb = TimeMeasureCallback()\n",
    "\n",
    "callbacks = [checkpoint_cb, time_measure_cb]"
   ],
   "metadata": {
    "collapsed": false,
    "ExecuteTime": {
     "end_time": "2024-04-29T03:45:48.771515Z",
     "start_time": "2024-04-29T03:45:48.757620Z"
    }
   },
   "id": "b1ff29b52a5abcd5",
   "outputs": [],
   "execution_count": 14
  },
  {
   "cell_type": "code",
   "source": [
    "num_train_steps = len(tf_train_dataset) * planned_train_epochs\n",
    "\n",
    "lr_scheduler = tf.keras.optimizers.schedules.PolynomialDecay(\n",
    "    initial_learning_rate=initial_learning_rate,\n",
    "    end_learning_rate=end_learning_rate,\n",
    "    decay_steps=num_train_steps,\n",
    ")\n",
    "\n",
    "optimizer = tf.keras.optimizers.Adam(learning_rate=lr_scheduler)\n",
    "loss = tf.keras.losses.SparseCategoricalCrossentropy(from_logits=True)\n",
    "qa_metrics = [\"accuracy\"]\n",
    "\n",
    "model.compile(optimizer=optimizer, loss=loss, metrics=qa_metrics)"
   ],
   "metadata": {
    "collapsed": false,
    "ExecuteTime": {
     "end_time": "2024-04-29T03:45:48.787514Z",
     "start_time": "2024-04-29T03:45:48.772516Z"
    }
   },
   "id": "da49e555f4799d26",
   "outputs": [],
   "execution_count": 15
  },
  {
   "cell_type": "code",
   "source": [
    "tf.keras.mixed_precision.set_global_policy(\"mixed_float16\")"
   ],
   "metadata": {
    "collapsed": false,
    "ExecuteTime": {
     "end_time": "2024-04-29T03:45:48.803515Z",
     "start_time": "2024-04-29T03:45:48.788515Z"
    }
   },
   "id": "bb7796ad3f812abd",
   "outputs": [
    {
     "name": "stdout",
     "output_type": "stream",
     "text": [
      "INFO:tensorflow:Mixed precision compatibility check (mixed_float16): OK\n",
      "Your GPU will likely run quickly with dtype policy mixed_float16 as it has compute capability of at least 7.0. Your GPU: NVIDIA GeForce RTX 3070 Ti, compute capability 8.6\n"
     ]
    }
   ],
   "execution_count": 16
  },
  {
   "cell_type": "markdown",
   "source": [
    "# Model training"
   ],
   "metadata": {
    "collapsed": false
   },
   "id": "32514c497310e30f"
  },
  {
   "cell_type": "code",
   "source": [
    "history = model.fit(\n",
    "    tf_train_dataset,\n",
    "    epochs=actual_epochs,\n",
    "    callbacks=callbacks,\n",
    ")"
   ],
   "metadata": {
    "collapsed": false,
    "ExecuteTime": {
     "end_time": "2024-04-29T05:01:49.665519Z",
     "start_time": "2024-04-29T03:45:48.804514Z"
    }
   },
   "id": "69e9da3716d079d2",
   "outputs": [
    {
     "name": "stdout",
     "output_type": "stream",
     "text": [
      "Epoch 1/2\n",
      "21871/21871 [==============================] - 4159s 190ms/step - loss: 2.4513 - end_logits_loss: 1.1784 - start_logits_loss: 1.2729 - end_logits_accuracy: 0.6714 - start_logits_accuracy: 0.6329\n",
      "Epoch 2/2\n",
      " 2069/21871 [=>............................] - ETA: 1:03:50 - loss: 1.6655 - end_logits_loss: 0.8358 - start_logits_loss: 0.8297 - end_logits_accuracy: 0.7679 - start_logits_accuracy: 0.7488"
     ]
    },
    {
     "ename": "KeyboardInterrupt",
     "evalue": "",
     "output_type": "error",
     "traceback": [
      "\u001B[1;31m---------------------------------------------------------------------------\u001B[0m",
      "\u001B[1;31mKeyboardInterrupt\u001B[0m                         Traceback (most recent call last)",
      "Cell \u001B[1;32mIn[17], line 1\u001B[0m\n\u001B[1;32m----> 1\u001B[0m history \u001B[38;5;241m=\u001B[39m \u001B[43mmodel\u001B[49m\u001B[38;5;241;43m.\u001B[39;49m\u001B[43mfit\u001B[49m\u001B[43m(\u001B[49m\n\u001B[0;32m      2\u001B[0m \u001B[43m    \u001B[49m\u001B[43mtf_train_dataset\u001B[49m\u001B[43m,\u001B[49m\n\u001B[0;32m      3\u001B[0m \u001B[43m    \u001B[49m\u001B[43mepochs\u001B[49m\u001B[38;5;241;43m=\u001B[39;49m\u001B[43mactual_epochs\u001B[49m\u001B[43m,\u001B[49m\n\u001B[0;32m      4\u001B[0m \u001B[43m    \u001B[49m\u001B[43mcallbacks\u001B[49m\u001B[38;5;241;43m=\u001B[39;49m\u001B[43mcallbacks\u001B[49m\u001B[43m,\u001B[49m\n\u001B[0;32m      5\u001B[0m \u001B[43m)\u001B[49m\n",
      "File \u001B[1;32m~\\miniconda3\\envs\\question_answering\\lib\\site-packages\\keras\\utils\\traceback_utils.py:65\u001B[0m, in \u001B[0;36mfilter_traceback.<locals>.error_handler\u001B[1;34m(*args, **kwargs)\u001B[0m\n\u001B[0;32m     63\u001B[0m filtered_tb \u001B[38;5;241m=\u001B[39m \u001B[38;5;28;01mNone\u001B[39;00m\n\u001B[0;32m     64\u001B[0m \u001B[38;5;28;01mtry\u001B[39;00m:\n\u001B[1;32m---> 65\u001B[0m     \u001B[38;5;28;01mreturn\u001B[39;00m fn(\u001B[38;5;241m*\u001B[39margs, \u001B[38;5;241m*\u001B[39m\u001B[38;5;241m*\u001B[39mkwargs)\n\u001B[0;32m     66\u001B[0m \u001B[38;5;28;01mexcept\u001B[39;00m \u001B[38;5;167;01mException\u001B[39;00m \u001B[38;5;28;01mas\u001B[39;00m e:\n\u001B[0;32m     67\u001B[0m     filtered_tb \u001B[38;5;241m=\u001B[39m _process_traceback_frames(e\u001B[38;5;241m.\u001B[39m__traceback__)\n",
      "File \u001B[1;32m~\\miniconda3\\envs\\question_answering\\lib\\site-packages\\keras\\engine\\training.py:1564\u001B[0m, in \u001B[0;36mModel.fit\u001B[1;34m(self, x, y, batch_size, epochs, verbose, callbacks, validation_split, validation_data, shuffle, class_weight, sample_weight, initial_epoch, steps_per_epoch, validation_steps, validation_batch_size, validation_freq, max_queue_size, workers, use_multiprocessing)\u001B[0m\n\u001B[0;32m   1556\u001B[0m \u001B[38;5;28;01mwith\u001B[39;00m tf\u001B[38;5;241m.\u001B[39mprofiler\u001B[38;5;241m.\u001B[39mexperimental\u001B[38;5;241m.\u001B[39mTrace(\n\u001B[0;32m   1557\u001B[0m     \u001B[38;5;124m\"\u001B[39m\u001B[38;5;124mtrain\u001B[39m\u001B[38;5;124m\"\u001B[39m,\n\u001B[0;32m   1558\u001B[0m     epoch_num\u001B[38;5;241m=\u001B[39mepoch,\n\u001B[1;32m   (...)\u001B[0m\n\u001B[0;32m   1561\u001B[0m     _r\u001B[38;5;241m=\u001B[39m\u001B[38;5;241m1\u001B[39m,\n\u001B[0;32m   1562\u001B[0m ):\n\u001B[0;32m   1563\u001B[0m     callbacks\u001B[38;5;241m.\u001B[39mon_train_batch_begin(step)\n\u001B[1;32m-> 1564\u001B[0m     tmp_logs \u001B[38;5;241m=\u001B[39m \u001B[38;5;28;43mself\u001B[39;49m\u001B[38;5;241;43m.\u001B[39;49m\u001B[43mtrain_function\u001B[49m\u001B[43m(\u001B[49m\u001B[43miterator\u001B[49m\u001B[43m)\u001B[49m\n\u001B[0;32m   1565\u001B[0m     \u001B[38;5;28;01mif\u001B[39;00m data_handler\u001B[38;5;241m.\u001B[39mshould_sync:\n\u001B[0;32m   1566\u001B[0m         context\u001B[38;5;241m.\u001B[39masync_wait()\n",
      "File \u001B[1;32m~\\miniconda3\\envs\\question_answering\\lib\\site-packages\\tensorflow\\python\\util\\traceback_utils.py:150\u001B[0m, in \u001B[0;36mfilter_traceback.<locals>.error_handler\u001B[1;34m(*args, **kwargs)\u001B[0m\n\u001B[0;32m    148\u001B[0m filtered_tb \u001B[38;5;241m=\u001B[39m \u001B[38;5;28;01mNone\u001B[39;00m\n\u001B[0;32m    149\u001B[0m \u001B[38;5;28;01mtry\u001B[39;00m:\n\u001B[1;32m--> 150\u001B[0m   \u001B[38;5;28;01mreturn\u001B[39;00m fn(\u001B[38;5;241m*\u001B[39margs, \u001B[38;5;241m*\u001B[39m\u001B[38;5;241m*\u001B[39mkwargs)\n\u001B[0;32m    151\u001B[0m \u001B[38;5;28;01mexcept\u001B[39;00m \u001B[38;5;167;01mException\u001B[39;00m \u001B[38;5;28;01mas\u001B[39;00m e:\n\u001B[0;32m    152\u001B[0m   filtered_tb \u001B[38;5;241m=\u001B[39m _process_traceback_frames(e\u001B[38;5;241m.\u001B[39m__traceback__)\n",
      "File \u001B[1;32m~\\miniconda3\\envs\\question_answering\\lib\\site-packages\\tensorflow\\python\\eager\\def_function.py:915\u001B[0m, in \u001B[0;36mFunction.__call__\u001B[1;34m(self, *args, **kwds)\u001B[0m\n\u001B[0;32m    912\u001B[0m compiler \u001B[38;5;241m=\u001B[39m \u001B[38;5;124m\"\u001B[39m\u001B[38;5;124mxla\u001B[39m\u001B[38;5;124m\"\u001B[39m \u001B[38;5;28;01mif\u001B[39;00m \u001B[38;5;28mself\u001B[39m\u001B[38;5;241m.\u001B[39m_jit_compile \u001B[38;5;28;01melse\u001B[39;00m \u001B[38;5;124m\"\u001B[39m\u001B[38;5;124mnonXla\u001B[39m\u001B[38;5;124m\"\u001B[39m\n\u001B[0;32m    914\u001B[0m \u001B[38;5;28;01mwith\u001B[39;00m OptionalXlaContext(\u001B[38;5;28mself\u001B[39m\u001B[38;5;241m.\u001B[39m_jit_compile):\n\u001B[1;32m--> 915\u001B[0m   result \u001B[38;5;241m=\u001B[39m \u001B[38;5;28mself\u001B[39m\u001B[38;5;241m.\u001B[39m_call(\u001B[38;5;241m*\u001B[39margs, \u001B[38;5;241m*\u001B[39m\u001B[38;5;241m*\u001B[39mkwds)\n\u001B[0;32m    917\u001B[0m new_tracing_count \u001B[38;5;241m=\u001B[39m \u001B[38;5;28mself\u001B[39m\u001B[38;5;241m.\u001B[39mexperimental_get_tracing_count()\n\u001B[0;32m    918\u001B[0m without_tracing \u001B[38;5;241m=\u001B[39m (tracing_count \u001B[38;5;241m==\u001B[39m new_tracing_count)\n",
      "File \u001B[1;32m~\\miniconda3\\envs\\question_answering\\lib\\site-packages\\tensorflow\\python\\eager\\def_function.py:947\u001B[0m, in \u001B[0;36mFunction._call\u001B[1;34m(self, *args, **kwds)\u001B[0m\n\u001B[0;32m    944\u001B[0m   \u001B[38;5;28mself\u001B[39m\u001B[38;5;241m.\u001B[39m_lock\u001B[38;5;241m.\u001B[39mrelease()\n\u001B[0;32m    945\u001B[0m   \u001B[38;5;66;03m# In this case we have created variables on the first call, so we run the\u001B[39;00m\n\u001B[0;32m    946\u001B[0m   \u001B[38;5;66;03m# defunned version which is guaranteed to never create variables.\u001B[39;00m\n\u001B[1;32m--> 947\u001B[0m   \u001B[38;5;28;01mreturn\u001B[39;00m \u001B[38;5;28mself\u001B[39m\u001B[38;5;241m.\u001B[39m_stateless_fn(\u001B[38;5;241m*\u001B[39margs, \u001B[38;5;241m*\u001B[39m\u001B[38;5;241m*\u001B[39mkwds)  \u001B[38;5;66;03m# pylint: disable=not-callable\u001B[39;00m\n\u001B[0;32m    948\u001B[0m \u001B[38;5;28;01melif\u001B[39;00m \u001B[38;5;28mself\u001B[39m\u001B[38;5;241m.\u001B[39m_stateful_fn \u001B[38;5;129;01mis\u001B[39;00m \u001B[38;5;129;01mnot\u001B[39;00m \u001B[38;5;28;01mNone\u001B[39;00m:\n\u001B[0;32m    949\u001B[0m   \u001B[38;5;66;03m# Release the lock early so that multiple threads can perform the call\u001B[39;00m\n\u001B[0;32m    950\u001B[0m   \u001B[38;5;66;03m# in parallel.\u001B[39;00m\n\u001B[0;32m    951\u001B[0m   \u001B[38;5;28mself\u001B[39m\u001B[38;5;241m.\u001B[39m_lock\u001B[38;5;241m.\u001B[39mrelease()\n",
      "File \u001B[1;32m~\\miniconda3\\envs\\question_answering\\lib\\site-packages\\tensorflow\\python\\eager\\function.py:2496\u001B[0m, in \u001B[0;36mFunction.__call__\u001B[1;34m(self, *args, **kwargs)\u001B[0m\n\u001B[0;32m   2493\u001B[0m \u001B[38;5;28;01mwith\u001B[39;00m \u001B[38;5;28mself\u001B[39m\u001B[38;5;241m.\u001B[39m_lock:\n\u001B[0;32m   2494\u001B[0m   (graph_function,\n\u001B[0;32m   2495\u001B[0m    filtered_flat_args) \u001B[38;5;241m=\u001B[39m \u001B[38;5;28mself\u001B[39m\u001B[38;5;241m.\u001B[39m_maybe_define_function(args, kwargs)\n\u001B[1;32m-> 2496\u001B[0m \u001B[38;5;28;01mreturn\u001B[39;00m \u001B[43mgraph_function\u001B[49m\u001B[38;5;241;43m.\u001B[39;49m\u001B[43m_call_flat\u001B[49m\u001B[43m(\u001B[49m\n\u001B[0;32m   2497\u001B[0m \u001B[43m    \u001B[49m\u001B[43mfiltered_flat_args\u001B[49m\u001B[43m,\u001B[49m\u001B[43m \u001B[49m\u001B[43mcaptured_inputs\u001B[49m\u001B[38;5;241;43m=\u001B[39;49m\u001B[43mgraph_function\u001B[49m\u001B[38;5;241;43m.\u001B[39;49m\u001B[43mcaptured_inputs\u001B[49m\u001B[43m)\u001B[49m\n",
      "File \u001B[1;32m~\\miniconda3\\envs\\question_answering\\lib\\site-packages\\tensorflow\\python\\eager\\function.py:1862\u001B[0m, in \u001B[0;36mConcreteFunction._call_flat\u001B[1;34m(self, args, captured_inputs, cancellation_manager)\u001B[0m\n\u001B[0;32m   1858\u001B[0m possible_gradient_type \u001B[38;5;241m=\u001B[39m gradients_util\u001B[38;5;241m.\u001B[39mPossibleTapeGradientTypes(args)\n\u001B[0;32m   1859\u001B[0m \u001B[38;5;28;01mif\u001B[39;00m (possible_gradient_type \u001B[38;5;241m==\u001B[39m gradients_util\u001B[38;5;241m.\u001B[39mPOSSIBLE_GRADIENT_TYPES_NONE\n\u001B[0;32m   1860\u001B[0m     \u001B[38;5;129;01mand\u001B[39;00m executing_eagerly):\n\u001B[0;32m   1861\u001B[0m   \u001B[38;5;66;03m# No tape is watching; skip to running the function.\u001B[39;00m\n\u001B[1;32m-> 1862\u001B[0m   \u001B[38;5;28;01mreturn\u001B[39;00m \u001B[38;5;28mself\u001B[39m\u001B[38;5;241m.\u001B[39m_build_call_outputs(\u001B[38;5;28;43mself\u001B[39;49m\u001B[38;5;241;43m.\u001B[39;49m\u001B[43m_inference_function\u001B[49m\u001B[38;5;241;43m.\u001B[39;49m\u001B[43mcall\u001B[49m\u001B[43m(\u001B[49m\n\u001B[0;32m   1863\u001B[0m \u001B[43m      \u001B[49m\u001B[43mctx\u001B[49m\u001B[43m,\u001B[49m\u001B[43m \u001B[49m\u001B[43margs\u001B[49m\u001B[43m,\u001B[49m\u001B[43m \u001B[49m\u001B[43mcancellation_manager\u001B[49m\u001B[38;5;241;43m=\u001B[39;49m\u001B[43mcancellation_manager\u001B[49m\u001B[43m)\u001B[49m)\n\u001B[0;32m   1864\u001B[0m forward_backward \u001B[38;5;241m=\u001B[39m \u001B[38;5;28mself\u001B[39m\u001B[38;5;241m.\u001B[39m_select_forward_and_backward_functions(\n\u001B[0;32m   1865\u001B[0m     args,\n\u001B[0;32m   1866\u001B[0m     possible_gradient_type,\n\u001B[0;32m   1867\u001B[0m     executing_eagerly)\n\u001B[0;32m   1868\u001B[0m forward_function, args_with_tangents \u001B[38;5;241m=\u001B[39m forward_backward\u001B[38;5;241m.\u001B[39mforward()\n",
      "File \u001B[1;32m~\\miniconda3\\envs\\question_answering\\lib\\site-packages\\tensorflow\\python\\eager\\function.py:499\u001B[0m, in \u001B[0;36m_EagerDefinedFunction.call\u001B[1;34m(self, ctx, args, cancellation_manager)\u001B[0m\n\u001B[0;32m    497\u001B[0m \u001B[38;5;28;01mwith\u001B[39;00m _InterpolateFunctionError(\u001B[38;5;28mself\u001B[39m):\n\u001B[0;32m    498\u001B[0m   \u001B[38;5;28;01mif\u001B[39;00m cancellation_manager \u001B[38;5;129;01mis\u001B[39;00m \u001B[38;5;28;01mNone\u001B[39;00m:\n\u001B[1;32m--> 499\u001B[0m     outputs \u001B[38;5;241m=\u001B[39m \u001B[43mexecute\u001B[49m\u001B[38;5;241;43m.\u001B[39;49m\u001B[43mexecute\u001B[49m\u001B[43m(\u001B[49m\n\u001B[0;32m    500\u001B[0m \u001B[43m        \u001B[49m\u001B[38;5;28;43mstr\u001B[39;49m\u001B[43m(\u001B[49m\u001B[38;5;28;43mself\u001B[39;49m\u001B[38;5;241;43m.\u001B[39;49m\u001B[43msignature\u001B[49m\u001B[38;5;241;43m.\u001B[39;49m\u001B[43mname\u001B[49m\u001B[43m)\u001B[49m\u001B[43m,\u001B[49m\n\u001B[0;32m    501\u001B[0m \u001B[43m        \u001B[49m\u001B[43mnum_outputs\u001B[49m\u001B[38;5;241;43m=\u001B[39;49m\u001B[38;5;28;43mself\u001B[39;49m\u001B[38;5;241;43m.\u001B[39;49m\u001B[43m_num_outputs\u001B[49m\u001B[43m,\u001B[49m\n\u001B[0;32m    502\u001B[0m \u001B[43m        \u001B[49m\u001B[43minputs\u001B[49m\u001B[38;5;241;43m=\u001B[39;49m\u001B[43margs\u001B[49m\u001B[43m,\u001B[49m\n\u001B[0;32m    503\u001B[0m \u001B[43m        \u001B[49m\u001B[43mattrs\u001B[49m\u001B[38;5;241;43m=\u001B[39;49m\u001B[43mattrs\u001B[49m\u001B[43m,\u001B[49m\n\u001B[0;32m    504\u001B[0m \u001B[43m        \u001B[49m\u001B[43mctx\u001B[49m\u001B[38;5;241;43m=\u001B[39;49m\u001B[43mctx\u001B[49m\u001B[43m)\u001B[49m\n\u001B[0;32m    505\u001B[0m   \u001B[38;5;28;01melse\u001B[39;00m:\n\u001B[0;32m    506\u001B[0m     outputs \u001B[38;5;241m=\u001B[39m execute\u001B[38;5;241m.\u001B[39mexecute_with_cancellation(\n\u001B[0;32m    507\u001B[0m         \u001B[38;5;28mstr\u001B[39m(\u001B[38;5;28mself\u001B[39m\u001B[38;5;241m.\u001B[39msignature\u001B[38;5;241m.\u001B[39mname),\n\u001B[0;32m    508\u001B[0m         num_outputs\u001B[38;5;241m=\u001B[39m\u001B[38;5;28mself\u001B[39m\u001B[38;5;241m.\u001B[39m_num_outputs,\n\u001B[1;32m   (...)\u001B[0m\n\u001B[0;32m    511\u001B[0m         ctx\u001B[38;5;241m=\u001B[39mctx,\n\u001B[0;32m    512\u001B[0m         cancellation_manager\u001B[38;5;241m=\u001B[39mcancellation_manager)\n",
      "File \u001B[1;32m~\\miniconda3\\envs\\question_answering\\lib\\site-packages\\tensorflow\\python\\eager\\execute.py:54\u001B[0m, in \u001B[0;36mquick_execute\u001B[1;34m(op_name, num_outputs, inputs, attrs, ctx, name)\u001B[0m\n\u001B[0;32m     52\u001B[0m \u001B[38;5;28;01mtry\u001B[39;00m:\n\u001B[0;32m     53\u001B[0m   ctx\u001B[38;5;241m.\u001B[39mensure_initialized()\n\u001B[1;32m---> 54\u001B[0m   tensors \u001B[38;5;241m=\u001B[39m \u001B[43mpywrap_tfe\u001B[49m\u001B[38;5;241;43m.\u001B[39;49m\u001B[43mTFE_Py_Execute\u001B[49m\u001B[43m(\u001B[49m\u001B[43mctx\u001B[49m\u001B[38;5;241;43m.\u001B[39;49m\u001B[43m_handle\u001B[49m\u001B[43m,\u001B[49m\u001B[43m \u001B[49m\u001B[43mdevice_name\u001B[49m\u001B[43m,\u001B[49m\u001B[43m \u001B[49m\u001B[43mop_name\u001B[49m\u001B[43m,\u001B[49m\n\u001B[0;32m     55\u001B[0m \u001B[43m                                      \u001B[49m\u001B[43minputs\u001B[49m\u001B[43m,\u001B[49m\u001B[43m \u001B[49m\u001B[43mattrs\u001B[49m\u001B[43m,\u001B[49m\u001B[43m \u001B[49m\u001B[43mnum_outputs\u001B[49m\u001B[43m)\u001B[49m\n\u001B[0;32m     56\u001B[0m \u001B[38;5;28;01mexcept\u001B[39;00m core\u001B[38;5;241m.\u001B[39m_NotOkStatusException \u001B[38;5;28;01mas\u001B[39;00m e:\n\u001B[0;32m     57\u001B[0m   \u001B[38;5;28;01mif\u001B[39;00m name \u001B[38;5;129;01mis\u001B[39;00m \u001B[38;5;129;01mnot\u001B[39;00m \u001B[38;5;28;01mNone\u001B[39;00m:\n",
      "\u001B[1;31mKeyboardInterrupt\u001B[0m: "
     ]
    }
   ],
   "execution_count": 17
  },
  {
   "cell_type": "code",
   "source": "history = history.history",
   "metadata": {
    "collapsed": false
   },
   "id": "dbb40c8885071757",
   "outputs": [],
   "execution_count": null
  },
  {
   "cell_type": "code",
   "source": [
    "core_qa_utils.save_dict_as_json(\n",
    "    dictionary=history, dir_path=model_evaluation_dir, filename=\"history.json\"\n",
    ")"
   ],
   "metadata": {
    "collapsed": false,
    "ExecuteTime": {
     "end_time": "2024-04-29T05:01:49.667551Z",
     "start_time": "2024-04-29T05:01:49.667551Z"
    }
   },
   "id": "9c7c36d2bef3b5bb",
   "outputs": [],
   "execution_count": null
  },
  {
   "cell_type": "code",
   "source": [
    "# Plot training figures\n",
    "core_qa_utils.plot_and_save_fig_from_history(\n",
    "    history,\n",
    "    attributes=[\"start_logits_accuracy\"],\n",
    "    title=\"Model start logits accuracy\",\n",
    "    y_label=\"Accuracy\",\n",
    "    x_label=\"Epoch\",\n",
    "    legend_descriptors=[\"Train\"],\n",
    "    figure_dir_path=figures_dir,\n",
    "    figure_filename=f\"start_accuracy.png\",\n",
    ")\n",
    "core_qa_utils.plot_and_save_fig_from_history(\n",
    "    history,\n",
    "    attributes=[\"end_logits_accuracy\"],\n",
    "    title=\"Model end logits accuracy\",\n",
    "    y_label=\"Accuracy\",\n",
    "    x_label=\"Epoch\",\n",
    "    legend_descriptors=[\"Train\"],\n",
    "    figure_dir_path=figures_dir,\n",
    "    figure_filename=f\"end_accuracy.png\",\n",
    ")\n",
    "core_qa_utils.plot_and_save_fig_from_history(\n",
    "    history,\n",
    "    attributes=[\"loss\"],\n",
    "    title=\"Model loss\",\n",
    "    y_label=\"Loss\",\n",
    "    x_label=\"Epoch\",\n",
    "    legend_descriptors=[\"Train\"],\n",
    "    figure_dir_path=figures_dir,\n",
    "    figure_filename=f\"loss.png\",\n",
    ")\n",
    "core_qa_utils.plot_and_save_fig_from_history(\n",
    "    history,\n",
    "    attributes=[\"start_logits_loss\"],\n",
    "    title=\"Model start logits loss\",\n",
    "    y_label=\"Loss\",\n",
    "    x_label=\"Epoch\",\n",
    "    legend_descriptors=[\"Train\"],\n",
    "    figure_dir_path=figures_dir,\n",
    "    figure_filename=f\"start_loss.png\",\n",
    ")\n",
    "core_qa_utils.plot_and_save_fig_from_history(\n",
    "    history,\n",
    "    attributes=[\"end_logits_loss\"],\n",
    "    title=\"Model end logits loss\",\n",
    "    y_label=\"Loss\",\n",
    "    x_label=\"Epoch\",\n",
    "    legend_descriptors=[\"Train\"],\n",
    "    figure_dir_path=figures_dir,\n",
    "    figure_filename=f\"end_loss.png\",\n",
    ")"
   ],
   "metadata": {
    "collapsed": false
   },
   "id": "5ac4e46e59fa49f7",
   "outputs": [],
   "execution_count": null
  },
  {
   "cell_type": "markdown",
   "source": [
    "# Saving model's best version & training data"
   ],
   "metadata": {
    "collapsed": false
   },
   "id": "93a52c999ea30b09"
  },
  {
   "cell_type": "code",
   "source": [
    "history = core_qa_utils.read_json_as_dict(model_evaluation_dir / \"history.json\")"
   ],
   "metadata": {
    "collapsed": false
   },
   "id": "eac7028fb72e801a",
   "outputs": [],
   "execution_count": null
  },
  {
   "cell_type": "code",
   "source": "best_epoch = actual_epochs",
   "metadata": {
    "collapsed": false
   },
   "id": "312471adf3c11d2d",
   "outputs": [],
   "execution_count": null
  },
  {
   "cell_type": "code",
   "source": [
    "training_data = {\n",
    "    \"history\": history,\n",
    "    \"attempted_epochs\": actual_epochs,\n",
    "    \"best_epoch\": best_epoch,\n",
    "    \"training_time\": time_measure_cb.total_training_time(),\n",
    "    \"gpu\": core_qa_utils.get_gpu_name(),\n",
    "}"
   ],
   "metadata": {
    "collapsed": false
   },
   "id": "f585e5facae05bc6",
   "outputs": [],
   "execution_count": null
  },
  {
   "cell_type": "code",
   "source": [
    "core_qa_utils.save_dict_as_json(\n",
    "    training_data, dir_path=model_evaluation_dir, filename=\"training_data.json\"\n",
    ")"
   ],
   "metadata": {
    "collapsed": false
   },
   "id": "68b8edd0e5d21ab9",
   "outputs": [],
   "execution_count": null
  },
  {
   "cell_type": "code",
   "source": [
    "best_model = model_management.load_best_model_from_checkpoints(\n",
    "    model=model, model_name=full_model_name, epoch=best_epoch, remove_checkpoints=True\n",
    ")"
   ],
   "metadata": {
    "collapsed": false
   },
   "id": "74bc75f641ea947b",
   "outputs": [],
   "execution_count": null
  },
  {
   "cell_type": "code",
   "source": [
    "model_management.save_model(model=best_model, model_name=full_model_name)"
   ],
   "metadata": {
    "collapsed": false
   },
   "id": "dcec2ea8d6fd3e56",
   "outputs": [],
   "execution_count": null
  },
  {
   "cell_type": "markdown",
   "source": [
    "# Getting predictions"
   ],
   "metadata": {
    "collapsed": false
   },
   "id": "d1379f37850fdce5"
  },
  {
   "cell_type": "code",
   "source": [
    "loaded_model = model_management.load_model(\n",
    "    model_checkpoint=model_checkpoint, model_name=full_model_name\n",
    ")"
   ],
   "metadata": {
    "collapsed": false
   },
   "id": "f0219b014b5f9c7e",
   "outputs": [],
   "execution_count": null
  },
  {
   "cell_type": "code",
   "source": [
    "output = loaded_model.predict(tf_test_dataset)"
   ],
   "metadata": {
    "collapsed": false
   },
   "id": "242fd4d0ca939f9e",
   "outputs": [],
   "execution_count": null
  },
  {
   "cell_type": "code",
   "source": [
    "# Get predictions\n",
    "output_start_logits = predictions.get_preds(\n",
    "    output, output_key=\"start_logits\", return_type=\"logits\"\n",
    ")\n",
    "output_end_logits = predictions.get_preds(\n",
    "    output, output_key=\"end_logits\", return_type=\"logits\"\n",
    ")\n",
    "\n",
    "output_start_positions = predictions.get_preds(\n",
    "    output, output_key=\"start_logits\", return_type=\"class\"\n",
    ")\n",
    "output_end_positions = predictions.get_preds(\n",
    "    output, output_key=\"end_logits\", return_type=\"class\"\n",
    ")"
   ],
   "metadata": {
    "collapsed": false
   },
   "id": "6b4a5f26d09850e6",
   "outputs": [],
   "execution_count": null
  },
  {
   "cell_type": "code",
   "source": [
    "def get_predicted_texts_for_multiple_n_best(\n",
    "    start_logits: np.ndarray,\n",
    "    end_logits: np.ndarray,\n",
    "    features: Dataset,\n",
    "    examples: Dataset,\n",
    "    n_best_variants: list[int],\n",
    "):\n",
    "    predicted_texts_for_varying_n_best = []\n",
    "    for n_best_variant in n_best_variants:\n",
    "        predicted_texts = predictions.get_predicted_texts(\n",
    "            start_logits=start_logits,\n",
    "            end_logits=end_logits,\n",
    "            features=features,\n",
    "            examples=examples,\n",
    "            n_best=n_best_variant,\n",
    "        )\n",
    "        predicted_texts_for_varying_n_best.append(predicted_texts)\n",
    "\n",
    "    return predicted_texts_for_varying_n_best"
   ],
   "metadata": {
    "collapsed": false
   },
   "id": "baf1c360ad0486d8",
   "outputs": [],
   "execution_count": null
  },
  {
   "cell_type": "code",
   "source": [
    "n_bests = [\"01\", \"02\", \"03\", \"05\"]\n",
    "\n",
    "textual_predictions_variants = get_predicted_texts_for_multiple_n_best(\n",
    "    start_logits=output_start_logits,\n",
    "    end_logits=output_end_logits,\n",
    "    features=tokenized_test_dataset,\n",
    "    examples=test_dataset,\n",
    "    n_best_variants=[int(n_best) for n_best in n_bests],\n",
    ")"
   ],
   "metadata": {
    "collapsed": false
   },
   "id": "bef045792bbbf40c",
   "outputs": [],
   "execution_count": null
  },
  {
   "metadata": {},
   "cell_type": "markdown",
   "source": "# Metrics & evaluation",
   "id": "d48f3ab7e84701ed"
  },
  {
   "metadata": {},
   "cell_type": "markdown",
   "source": "### Stats",
   "id": "3edb7b2e8a720f16"
  },
  {
   "metadata": {},
   "cell_type": "code",
   "source": [
    "metric_stats = squad_metrics.calculate_squad_metrics_stats(\n",
    "    start_actual=tokenized_test_dataset[\"start_positions\"],\n",
    "    end_actual=tokenized_test_dataset[\"end_positions\"],\n",
    "    start_preds=output_start_positions,\n",
    "    end_preds=output_end_positions,\n",
    ")\n",
    "metric_stats"
   ],
   "id": "e14cc918f601cb2",
   "outputs": [],
   "execution_count": null
  },
  {
   "metadata": {},
   "cell_type": "markdown",
   "source": "### Accuracies",
   "id": "99e4a928d1cd921"
  },
  {
   "metadata": {},
   "cell_type": "code",
   "source": [
    "accuracies_metrics = squad_metrics.calculate_squad_accuracies(\n",
    "    start_actual=tokenized_test_dataset[\"start_positions\"],\n",
    "    end_actual=tokenized_test_dataset[\"end_positions\"],\n",
    "    start_preds=output_start_positions,\n",
    "    end_preds=output_end_positions,\n",
    ")\n",
    "accuracies_metrics"
   ],
   "id": "e4ed2811214b2304",
   "outputs": [],
   "execution_count": null
  },
  {
   "metadata": {},
   "cell_type": "markdown",
   "source": "### Precision, recall, F1-score, exact match",
   "id": "8c7634a7abe276b0"
  },
  {
   "metadata": {},
   "cell_type": "code",
   "source": [
    "def calculate_all_variants_of_squad_qa_metrics(\n",
    "    answers: list[list[str]],\n",
    "    predicted_texts_variants: list[list[str]],\n",
    "):\n",
    "    metrics = []\n",
    "    for predicted_texts_variant in predicted_texts_variants:\n",
    "        non_normalized_metrics = squad_metrics.calculate_squad_qa_metrics(\n",
    "            answers=answers, predicted_texts=predicted_texts_variant, normalize=False\n",
    "        )\n",
    "        normalized_metrics = squad_metrics.calculate_squad_qa_metrics(\n",
    "            answers=answers, predicted_texts=predicted_texts_variant, normalize=True\n",
    "        )\n",
    "        metrics.append(non_normalized_metrics)\n",
    "        metrics.append(normalized_metrics)\n",
    "\n",
    "    return metrics"
   ],
   "id": "b866db8f9a8150d0",
   "outputs": [],
   "execution_count": null
  },
  {
   "metadata": {},
   "cell_type": "code",
   "source": [
    "qa_metrics = calculate_all_variants_of_squad_qa_metrics(\n",
    "    answers=test_dataset[\"answer_text\"],\n",
    "    predicted_texts_variants=textual_predictions_variants,\n",
    ")"
   ],
   "id": "746ccf281bf0defb",
   "outputs": [],
   "execution_count": null
  },
  {
   "metadata": {},
   "cell_type": "markdown",
   "source": "### Correct predictions by sentence lengths",
   "id": "20f97cea56095eb5"
  },
  {
   "metadata": {},
   "cell_type": "code",
   "source": [
    "non_normalized_qa_metrics = qa_metrics[::2]\n",
    "non_normalized_f1_scores = [qa_metric[\"f1\"] for qa_metric in non_normalized_qa_metrics]\n",
    "best_n_best = non_normalized_f1_scores.index(max(non_normalized_f1_scores))"
   ],
   "id": "597f351cc7a00ead",
   "outputs": [],
   "execution_count": null
  },
  {
   "metadata": {},
   "cell_type": "code",
   "source": [
    "best_textual_predictions = textual_predictions_variants[best_n_best]\n",
    "correctly_predicted = squad_metrics.get_is_correctly_predicted(\n",
    "    answers=test_dataset[\"answer_text\"],\n",
    "    predicted_texts=best_textual_predictions,\n",
    "    normalize=True,\n",
    ")"
   ],
   "id": "14249815fbfb5ff8",
   "outputs": [],
   "execution_count": null
  },
  {
   "metadata": {},
   "cell_type": "code",
   "source": [
    "# Plot correctness of the model by sentence length\n",
    "graphs.plot_correct_predictions_by_sentence_length(\n",
    "    sentences=test_dataset[\"context\"],\n",
    "    correctly_predicted=correctly_predicted,\n",
    "    figure_path=figures_dir / \"context_correctness_by_sentence_length_0_300_50.png\",\n",
    "    figure_title=\"Correctness by sentence length\",\n",
    "    divider=50,\n",
    "    min_threshold=0,\n",
    "    max_threshold=300,\n",
    ")\n",
    "graphs.plot_correct_predictions_by_sentence_length(\n",
    "    sentences=test_dataset[\"context\"],\n",
    "    correctly_predicted=correctly_predicted,\n",
    "    figure_path=figures_dir / \"context_correctness_by_sentence_length_0_400_80.png\",\n",
    "    figure_title=\"Correctness by sentence length\",\n",
    "    divider=80,\n",
    "    min_threshold=0,\n",
    "    max_threshold=400,\n",
    ")\n",
    "graphs.plot_correct_predictions_by_sentence_length(\n",
    "    sentences=test_dataset[\"context\"],\n",
    "    correctly_predicted=correctly_predicted,\n",
    "    figure_path=figures_dir / \"context_correctness_by_sentence_length_0_400_100.png\",\n",
    "    figure_title=\"Correctness by sentence length\",\n",
    "    divider=100,\n",
    "    min_threshold=0,\n",
    "    max_threshold=400,\n",
    ")\n",
    "graphs.plot_correct_predictions_by_sentence_length(\n",
    "    sentences=test_dataset[\"context\"],\n",
    "    correctly_predicted=correctly_predicted,\n",
    "    figure_path=figures_dir / \"context_correctness_by_sentence_length_30_180_30.png\",\n",
    "    figure_title=\"Correctness by sentence length\",\n",
    "    divider=30,\n",
    "    min_threshold=30,\n",
    "    max_threshold=180,\n",
    ")"
   ],
   "id": "eed8ca89875683c1",
   "outputs": [],
   "execution_count": null
  },
  {
   "metadata": {},
   "cell_type": "markdown",
   "source": "### Saving evaluation data",
   "id": "967da3c783a9e35e"
  },
  {
   "metadata": {},
   "cell_type": "code",
   "source": [
    "def get_all_variants_of_qa_metric(all_metrics, metric_name: str):\n",
    "    return {\n",
    "        f\"{n_bests[i // 2]}_best_{'normalized' if i % 2 else 'standard'}\": all_metrics[\n",
    "            i\n",
    "        ][metric_name]\n",
    "        for i in range(len(n_bests) * 2)\n",
    "    }"
   ],
   "id": "5f15fa679b2357cc",
   "outputs": [],
   "execution_count": null
  },
  {
   "metadata": {},
   "cell_type": "code",
   "source": [
    "evaluation_data = {\n",
    "    \"accuracy\": accuracies_metrics,\n",
    "    \"metric_stats\": metric_stats,\n",
    "    \"precision\": get_all_variants_of_qa_metric(qa_metrics, \"precision\"),\n",
    "    \"recall\": get_all_variants_of_qa_metric(qa_metrics, \"recall\"),\n",
    "    \"f1\": get_all_variants_of_qa_metric(qa_metrics, \"f1\"),\n",
    "    \"exact_match\": get_all_variants_of_qa_metric(qa_metrics, \"exact_match\"),\n",
    "}"
   ],
   "id": "4d94626e752573d5",
   "outputs": [],
   "execution_count": null
  },
  {
   "metadata": {},
   "cell_type": "code",
   "source": [
    "core_qa_utils.save_dict_as_json(\n",
    "    evaluation_data, dir_path=model_evaluation_dir, filename=\"evaluation_data.json\"\n",
    ")"
   ],
   "id": "6074c321adc0924f",
   "outputs": [],
   "execution_count": null
  },
  {
   "metadata": {},
   "cell_type": "code",
   "source": "",
   "id": "27a70c393dc2fd40",
   "outputs": [],
   "execution_count": null
  }
 ],
 "metadata": {
  "kernelspec": {
   "display_name": "Python 3",
   "language": "python",
   "name": "python3"
  },
  "language_info": {
   "codemirror_mode": {
    "name": "ipython",
    "version": 2
   },
   "file_extension": ".py",
   "mimetype": "text/x-python",
   "name": "python",
   "nbconvert_exporter": "python",
   "pygments_lexer": "ipython2",
   "version": "2.7.6"
  }
 },
 "nbformat": 4,
 "nbformat_minor": 5
}
