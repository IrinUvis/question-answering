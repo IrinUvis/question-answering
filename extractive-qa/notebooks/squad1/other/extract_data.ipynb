{
 "cells": [
  {
   "cell_type": "code",
   "id": "initial_id",
   "metadata": {
    "collapsed": true,
    "ExecuteTime": {
     "end_time": "2024-04-23T16:45:30.647764Z",
     "start_time": "2024-04-23T16:45:30.010376Z"
    }
   },
   "source": [
    "import datasets\n",
    "from question_answering.paths import extractive_qa_paths"
   ],
   "outputs": [],
   "execution_count": 1
  },
  {
   "metadata": {
    "ExecuteTime": {
     "end_time": "2024-04-23T16:45:31.208186Z",
     "start_time": "2024-04-23T16:45:31.192172Z"
    }
   },
   "cell_type": "code",
   "source": [
    "def preprocess_squad_dataset_sample(sample):\n",
    "    answer_texts = sample[\"answers\"][\"text\"]\n",
    "    answer_starts = sample[\"answers\"][\"answer_start\"]\n",
    "\n",
    "    sample[\"answer_text\"] = answer_texts\n",
    "    sample[\"answer_start\"] = answer_starts\n",
    "\n",
    "    return sample\n",
    "\n",
    "\n",
    "def load_and_save_squad_dataset():\n",
    "    squad_dataset = datasets.load_dataset(\"rajpurkar/squad\")\n",
    "    train_dataset = squad_dataset[\"train\"]\n",
    "    test_dataset = squad_dataset[\"validation\"]\n",
    "\n",
    "    # Initial preprocessing so that data is usable after saving and reading\n",
    "    train_dataset = train_dataset.map(preprocess_squad_dataset_sample)\n",
    "    test_dataset = test_dataset.map(preprocess_squad_dataset_sample)\n",
    "\n",
    "    # Save dataset\n",
    "    path = extractive_qa_paths.squad1_dataset_dir\n",
    "    if not path.exists():\n",
    "        path.mkdir(parents=True)\n",
    "\n",
    "    train_dataset.to_json(path / \"original_train.json\")\n",
    "    test_dataset.to_json(path / \"original_test.json\")"
   ],
   "id": "34e5b41634488fa8",
   "outputs": [],
   "execution_count": 2
  },
  {
   "metadata": {
    "ExecuteTime": {
     "end_time": "2024-04-23T16:45:53.818096Z",
     "start_time": "2024-04-23T16:45:32.004359Z"
    }
   },
   "cell_type": "code",
   "source": "load_and_save_squad_dataset()",
   "id": "7f382385795d228d",
   "outputs": [
    {
     "data": {
      "text/plain": [
       "Downloading readme:   0%|          | 0.00/7.62k [00:00<?, ?B/s]"
      ],
      "application/vnd.jupyter.widget-view+json": {
       "version_major": 2,
       "version_minor": 0,
       "model_id": "6d754925dea848c29aba802f736daa95"
      }
     },
     "metadata": {},
     "output_type": "display_data"
    },
    {
     "data": {
      "text/plain": [
       "Downloading data files:   0%|          | 0/2 [00:00<?, ?it/s]"
      ],
      "application/vnd.jupyter.widget-view+json": {
       "version_major": 2,
       "version_minor": 0,
       "model_id": "918cf053f1cd448fa941dd835c4177e3"
      }
     },
     "metadata": {},
     "output_type": "display_data"
    },
    {
     "data": {
      "text/plain": [
       "Downloading data:   0%|          | 0.00/14.5M [00:00<?, ?B/s]"
      ],
      "application/vnd.jupyter.widget-view+json": {
       "version_major": 2,
       "version_minor": 0,
       "model_id": "6e0a24344894433baeae5a5973d18eae"
      }
     },
     "metadata": {},
     "output_type": "display_data"
    },
    {
     "data": {
      "text/plain": [
       "Downloading data:   0%|          | 0.00/1.82M [00:00<?, ?B/s]"
      ],
      "application/vnd.jupyter.widget-view+json": {
       "version_major": 2,
       "version_minor": 0,
       "model_id": "26396f4f2272456488d111c7ad834c20"
      }
     },
     "metadata": {},
     "output_type": "display_data"
    },
    {
     "data": {
      "text/plain": [
       "Extracting data files:   0%|          | 0/2 [00:00<?, ?it/s]"
      ],
      "application/vnd.jupyter.widget-view+json": {
       "version_major": 2,
       "version_minor": 0,
       "model_id": "bc0f108efb424763b6d5ff8c1077a9ea"
      }
     },
     "metadata": {},
     "output_type": "display_data"
    },
    {
     "data": {
      "text/plain": [
       "Generating train split:   0%|          | 0/87599 [00:00<?, ? examples/s]"
      ],
      "application/vnd.jupyter.widget-view+json": {
       "version_major": 2,
       "version_minor": 0,
       "model_id": "682984b3582e40b2b829df0d3686691b"
      }
     },
     "metadata": {},
     "output_type": "display_data"
    },
    {
     "data": {
      "text/plain": [
       "Generating validation split:   0%|          | 0/10570 [00:00<?, ? examples/s]"
      ],
      "application/vnd.jupyter.widget-view+json": {
       "version_major": 2,
       "version_minor": 0,
       "model_id": "494eef05c9604751949f63d96a3e1c0d"
      }
     },
     "metadata": {},
     "output_type": "display_data"
    },
    {
     "data": {
      "text/plain": [
       "Map:   0%|          | 0/87599 [00:00<?, ? examples/s]"
      ],
      "application/vnd.jupyter.widget-view+json": {
       "version_major": 2,
       "version_minor": 0,
       "model_id": "018d6cf106474dc4b4d70fb74bf3db74"
      }
     },
     "metadata": {},
     "output_type": "display_data"
    },
    {
     "data": {
      "text/plain": [
       "Map:   0%|          | 0/10570 [00:00<?, ? examples/s]"
      ],
      "application/vnd.jupyter.widget-view+json": {
       "version_major": 2,
       "version_minor": 0,
       "model_id": "733e7d9b55244cfa9c85d72c24bd5f45"
      }
     },
     "metadata": {},
     "output_type": "display_data"
    },
    {
     "data": {
      "text/plain": [
       "Creating json from Arrow format:   0%|          | 0/88 [00:00<?, ?ba/s]"
      ],
      "application/vnd.jupyter.widget-view+json": {
       "version_major": 2,
       "version_minor": 0,
       "model_id": "b2b7d8f77c5c4676a7515811ca563690"
      }
     },
     "metadata": {},
     "output_type": "display_data"
    },
    {
     "data": {
      "text/plain": [
       "Creating json from Arrow format:   0%|          | 0/11 [00:00<?, ?ba/s]"
      ],
      "application/vnd.jupyter.widget-view+json": {
       "version_major": 2,
       "version_minor": 0,
       "model_id": "7271f3546d9f4b27a14cc91876f13e2c"
      }
     },
     "metadata": {},
     "output_type": "display_data"
    }
   ],
   "execution_count": 3
  },
  {
   "metadata": {},
   "cell_type": "code",
   "outputs": [],
   "execution_count": null,
   "source": "",
   "id": "222111feaf25f66f"
  }
 ],
 "metadata": {
  "kernelspec": {
   "display_name": "Python 3",
   "language": "python",
   "name": "python3"
  },
  "language_info": {
   "codemirror_mode": {
    "name": "ipython",
    "version": 2
   },
   "file_extension": ".py",
   "mimetype": "text/x-python",
   "name": "python",
   "nbconvert_exporter": "python",
   "pygments_lexer": "ipython2",
   "version": "2.7.6"
  }
 },
 "nbformat": 4,
 "nbformat_minor": 5
}
