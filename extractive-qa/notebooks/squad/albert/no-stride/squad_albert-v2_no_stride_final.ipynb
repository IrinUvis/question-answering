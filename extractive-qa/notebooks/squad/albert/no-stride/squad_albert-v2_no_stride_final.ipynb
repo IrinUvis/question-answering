{
 "cells": [
  {
   "cell_type": "markdown",
   "source": [
    "# Model details\n",
    "***Used base model***: albert-base-v2\n",
    "***Used dataset***: SQuAD\n",
    "***Batch size***: 4\n",
    "***Datasets***: Train: original 87599 train samples, Test: original 10570 samples\n",
    "***Max length***: 384 tokens\n",
    "***Loss function***: Sparse categorical crossentropy\n",
    "***Attempted train epochs***: 4\n",
    "***Best epoch***: 1\n",
    "***Initial learning rate***: 2e-5\n",
    "***End learning rate***: 0\n",
    "***Additional info***: Filtered out samples with number of tokens exceeding 384, stride mechanism isn't used, no val data -> early stopping not used\n",
    "***BASED ON***: ALBERT V2 NO STRIDE 1\n",
    "***Status***: TRAINED"
   ],
   "metadata": {
    "collapsed": false
   },
   "id": "83cff6ac1d025261"
  },
  {
   "cell_type": "code",
   "execution_count": 1,
   "source": [
    "from transformers import (\n",
    "    AutoTokenizer,\n",
    "    TFAutoModelForQuestionAnswering,\n",
    "    DefaultDataCollator,\n",
    ")\n",
    "import tensorflow as tf\n",
    "from question_answering.constants import constants\n",
    "from question_answering.utils import core_qa_utils\n",
    "from question_answering.utils.extractive_qa import (\n",
    "    graphs,\n",
    "    model_management,\n",
    "    predictions,\n",
    "    squad_metrics,\n",
    "    pure_metrics,\n",
    "    core_preprocessing,\n",
    "    squad_preprocessing,\n",
    "    medical_preprocessing,\n",
    ")\n",
    "from question_answering.paths import extractive_qa_paths\n",
    "import ipynbname\n",
    "from question_answering.keras_callbacks.time_measure_callback import TimeMeasureCallback\n",
    "import numpy as np\n",
    "from datasets import Dataset"
   ],
   "metadata": {
    "collapsed": false,
    "ExecuteTime": {
     "end_time": "2024-01-03T22:11:50.446428Z",
     "start_time": "2024-01-03T22:11:38.970812200Z"
    }
   },
   "id": "143ae7b201b745c0",
   "outputs": []
  },
  {
   "cell_type": "markdown",
   "source": [
    "# Data loading"
   ],
   "metadata": {
    "collapsed": false
   },
   "id": "319fae1ec8d8aeca"
  },
  {
   "cell_type": "code",
   "execution_count": 2,
   "source": [
    "raw_train_dataset, raw_test_dataset = core_qa_utils.load_datasets_from_json(\n",
    "    dataset_path=extractive_qa_paths.squad_dataset_dir,\n",
    "    filenames=[\"original_train.json\", \"original_test.json\"],\n",
    ")"
   ],
   "metadata": {
    "collapsed": false,
    "ExecuteTime": {
     "end_time": "2024-01-03T22:11:50.745819600Z",
     "start_time": "2024-01-03T22:11:50.447428100Z"
    }
   },
   "id": "da69620bc10a6a32",
   "outputs": []
  },
  {
   "cell_type": "code",
   "execution_count": 3,
   "source": [
    "train_dataset = raw_train_dataset\n",
    "test_dataset = raw_test_dataset"
   ],
   "metadata": {
    "collapsed": false,
    "ExecuteTime": {
     "end_time": "2024-01-03T22:11:50.761818800Z",
     "start_time": "2024-01-03T22:11:50.747819300Z"
    }
   },
   "id": "ed5d0ed8c5547f57",
   "outputs": []
  },
  {
   "cell_type": "code",
   "execution_count": 4,
   "source": [
    "train_dataset, test_dataset"
   ],
   "metadata": {
    "collapsed": false,
    "ExecuteTime": {
     "end_time": "2024-01-03T22:11:50.816331400Z",
     "start_time": "2024-01-03T22:11:50.763823100Z"
    }
   },
   "id": "ba17dba501105212",
   "outputs": []
  },
  {
   "cell_type": "markdown",
   "source": [
    "# Data preprocessing"
   ],
   "metadata": {
    "collapsed": false
   },
   "id": "da3e7b5af4497f6"
  },
  {
   "cell_type": "code",
   "execution_count": 5,
   "source": [
    "model_checkpoint = \"albert-base-v2\"\n",
    "tokenizer = AutoTokenizer.from_pretrained(model_checkpoint)"
   ],
   "metadata": {
    "collapsed": false,
    "ExecuteTime": {
     "end_time": "2024-01-03T22:11:52.421545100Z",
     "start_time": "2024-01-03T22:11:50.777824900Z"
    }
   },
   "id": "edf9671bd665638c",
   "outputs": []
  },
  {
   "cell_type": "markdown",
   "source": [
    "### Filter out samples exceeding 384 tokens"
   ],
   "metadata": {
    "collapsed": false
   },
   "id": "6b098e08118e422d"
  },
  {
   "cell_type": "code",
   "execution_count": 6,
   "source": [
    "max_length = 384"
   ],
   "metadata": {
    "collapsed": false,
    "ExecuteTime": {
     "end_time": "2024-01-03T22:11:52.437534100Z",
     "start_time": "2024-01-03T22:11:52.421545100Z"
    }
   },
   "id": "f27f846ee2072adf",
   "outputs": []
  },
  {
   "cell_type": "code",
   "execution_count": 7,
   "source": [
    "filtered_train_dataset = core_preprocessing.filter_samples_below_number_of_tokens(\n",
    "    tokenizer=tokenizer, dataset=train_dataset, max_tokens=max_length\n",
    ")\n",
    "filtered_test_dataset = core_preprocessing.filter_samples_below_number_of_tokens(\n",
    "    tokenizer=tokenizer, dataset=test_dataset, max_tokens=max_length\n",
    ")"
   ],
   "metadata": {
    "collapsed": false,
    "ExecuteTime": {
     "end_time": "2024-01-03T22:12:36.264124200Z",
     "start_time": "2024-01-03T22:11:52.439535100Z"
    }
   },
   "id": "258ab3e59018615d",
   "outputs": []
  },
  {
   "cell_type": "code",
   "execution_count": 8,
   "source": [
    "print(f\"Train | BEFORE: {len(train_dataset)} | AFTER: {len(filtered_train_dataset)}\")\n",
    "print(f\"Test | BEFORE: {len(test_dataset)} | AFTER: {len(filtered_test_dataset)}\")"
   ],
   "metadata": {
    "collapsed": false,
    "ExecuteTime": {
     "end_time": "2024-01-03T22:12:36.290127200Z",
     "start_time": "2024-01-03T22:12:36.265124800Z"
    }
   },
   "id": "9f9d4df9250a0fbc",
   "outputs": []
  },
  {
   "cell_type": "code",
   "execution_count": 9,
   "source": [
    "tokenized_train_dataset = squad_preprocessing.preprocess_squad_training_dataset_no_stride(\n",
    "    dataset=filtered_train_dataset,\n",
    "    tokenizer=tokenizer,\n",
    "    max_length=max_length,\n",
    "    remove_columns=train_dataset.column_names,\n",
    ")"
   ],
   "metadata": {
    "collapsed": false,
    "ExecuteTime": {
     "end_time": "2024-01-03T22:12:59.247401500Z",
     "start_time": "2024-01-03T22:12:36.282129400Z"
    }
   },
   "id": "b576c8f7969877ec",
   "outputs": []
  },
  {
   "cell_type": "code",
   "execution_count": 10,
   "source": [
    "tokenized_test_dataset = squad_preprocessing.preprocess_squad_test_dataset_no_stride(\n",
    "    dataset=filtered_test_dataset,\n",
    "    tokenizer=tokenizer,\n",
    "    max_length=max_length,\n",
    "    remove_columns=test_dataset.column_names,\n",
    ")"
   ],
   "metadata": {
    "collapsed": false,
    "ExecuteTime": {
     "end_time": "2024-01-03T22:12:59.317917900Z",
     "start_time": "2024-01-03T22:12:59.251403200Z"
    }
   },
   "id": "3bc3b458a9df9f2b",
   "outputs": []
  },
  {
   "cell_type": "markdown",
   "source": [
    "# Training preparation"
   ],
   "metadata": {
    "collapsed": false
   },
   "id": "c3e72dd48e4547a"
  },
  {
   "cell_type": "code",
   "execution_count": 11,
   "source": [
    "# Model parameters\n",
    "full_model_name = \"-\".join(ipynbname.name().split(\"_\"))\n",
    "\n",
    "# Checkpoints\n",
    "checkpoint_filename_template = constants.checkpoint_filename_template\n",
    "checkpoints_path = (\n",
    "        extractive_qa_paths.training_checkpoints_dir\n",
    "        / full_model_name\n",
    "        / checkpoint_filename_template\n",
    ")\n",
    "\n",
    "# Saved models\n",
    "saved_models_path = extractive_qa_paths.saved_models_dir / full_model_name\n",
    "\n",
    "# Evaluation\n",
    "model_evaluation_dir = extractive_qa_paths.model_evaluation_dir / full_model_name\n",
    "figures_dir = model_evaluation_dir / constants.figures_dir_name\n",
    "\n",
    "# Hyper parameters\n",
    "batch_size = 4\n",
    "train_epochs = 4\n",
    "initial_learning_rate = 2e-5\n",
    "end_learning_rate = 0"
   ],
   "metadata": {
    "collapsed": false,
    "ExecuteTime": {
     "end_time": "2024-01-03T22:12:59.373918200Z",
     "start_time": "2024-01-03T22:12:59.313912200Z"
    }
   },
   "id": "75ddc66fb81b1139",
   "outputs": []
  },
  {
   "cell_type": "code",
   "execution_count": 12,
   "source": [
    "data_collator = DefaultDataCollator(return_tensors=\"tf\")\n",
    "\n",
    "tf_train_dataset = core_qa_utils.convert_to_tf_dataset(\n",
    "    hf_dataset=tokenized_train_dataset,\n",
    "    columns=[\"input_ids\", \"token_type_ids\", \"attention_mask\"],\n",
    "    label_cols=[\"start_positions\", \"end_positions\"],\n",
    "    collator=data_collator,\n",
    "    batch_size=batch_size,\n",
    ")\n",
    "tf_test_dataset = core_qa_utils.convert_to_tf_dataset(\n",
    "    hf_dataset=tokenized_test_dataset,\n",
    "    columns=[\"input_ids\", \"token_type_ids\", \"attention_mask\"],\n",
    "    label_cols=None,\n",
    "    collator=data_collator,\n",
    "    batch_size=batch_size,\n",
    ")"
   ],
   "metadata": {
    "collapsed": false,
    "ExecuteTime": {
     "end_time": "2024-01-03T22:13:02.046952Z",
     "start_time": "2024-01-03T22:12:59.361917500Z"
    }
   },
   "id": "83913e4c39826731",
   "outputs": []
  },
  {
   "cell_type": "code",
   "execution_count": 13,
   "source": [
    "model = TFAutoModelForQuestionAnswering.from_pretrained(model_checkpoint)"
   ],
   "metadata": {
    "collapsed": false,
    "ExecuteTime": {
     "end_time": "2024-01-03T22:13:05.725769900Z",
     "start_time": "2024-01-03T22:13:02.048952800Z"
    }
   },
   "id": "b97c2bdc9a64f65d",
   "outputs": []
  },
  {
   "cell_type": "code",
   "execution_count": 14,
   "source": [
    "checkpoint_cb = tf.keras.callbacks.ModelCheckpoint(\n",
    "    checkpoints_path, verbose=1, save_weights_only=True\n",
    ")\n",
    "time_measure_cb = TimeMeasureCallback()\n",
    "\n",
    "callbacks = [checkpoint_cb, time_measure_cb]"
   ],
   "metadata": {
    "collapsed": false,
    "ExecuteTime": {
     "end_time": "2024-01-03T22:13:05.728771100Z",
     "start_time": "2024-01-03T22:13:05.704256700Z"
    }
   },
   "id": "b1ff29b52a5abcd5",
   "outputs": []
  },
  {
   "cell_type": "code",
   "execution_count": 15,
   "source": [
    "num_train_steps = len(tf_train_dataset) * train_epochs\n",
    "\n",
    "lr_scheduler = tf.keras.optimizers.schedules.PolynomialDecay(\n",
    "    initial_learning_rate=initial_learning_rate,\n",
    "    end_learning_rate=end_learning_rate,\n",
    "    decay_steps=num_train_steps,\n",
    ")\n",
    "\n",
    "optimizer = tf.keras.optimizers.Adam(learning_rate=lr_scheduler)\n",
    "loss = tf.keras.losses.SparseCategoricalCrossentropy(from_logits=True)\n",
    "qa_metrics = [\"accuracy\"]\n",
    "\n",
    "model.compile(optimizer=optimizer, loss=loss, metrics=qa_metrics)"
   ],
   "metadata": {
    "collapsed": false,
    "ExecuteTime": {
     "end_time": "2024-01-03T22:13:05.763766200Z",
     "start_time": "2024-01-03T22:13:05.721768100Z"
    }
   },
   "id": "da49e555f4799d26",
   "outputs": []
  },
  {
   "cell_type": "code",
   "execution_count": 16,
   "source": [
    "tf.keras.mixed_precision.set_global_policy(\"mixed_float16\")"
   ],
   "metadata": {
    "collapsed": false,
    "ExecuteTime": {
     "end_time": "2024-01-03T22:13:05.765767100Z",
     "start_time": "2024-01-03T22:13:05.736767300Z"
    }
   },
   "id": "bb7796ad3f812abd",
   "outputs": []
  },
  {
   "cell_type": "markdown",
   "source": [
    "# Model training"
   ],
   "metadata": {
    "collapsed": false
   },
   "id": "32514c497310e30f"
  },
  {
   "cell_type": "code",
   "execution_count": 17,
   "source": [
    "history = model.fit(\n",
    "    tf_train_dataset,\n",
    "    epochs=train_epochs,\n",
    "    callbacks=callbacks,\n",
    ")"
   ],
   "metadata": {
    "collapsed": false,
    "ExecuteTime": {
     "end_time": "2024-01-04T01:33:24.536355800Z",
     "start_time": "2024-01-03T22:13:05.750766400Z"
    }
   },
   "id": "69e9da3716d079d2",
   "outputs": []
  },
  {
   "cell_type": "code",
   "execution_count": 18,
   "source": [
    "history = history.history"
   ],
   "metadata": {
    "collapsed": false,
    "ExecuteTime": {
     "end_time": "2024-01-04T01:33:24.603357200Z",
     "start_time": "2024-01-04T01:33:24.540357300Z"
    }
   },
   "id": "dbb40c8885071757",
   "outputs": []
  },
  {
   "cell_type": "code",
   "execution_count": 19,
   "source": [
    "core_qa_utils.save_dict_as_json(\n",
    "    dictionary=history, dir_path=model_evaluation_dir, filename=\"history.json\"\n",
    ")"
   ],
   "metadata": {
    "collapsed": false,
    "ExecuteTime": {
     "end_time": "2024-01-04T01:33:24.605355900Z",
     "start_time": "2024-01-04T01:33:24.557356200Z"
    }
   },
   "id": "9c7c36d2bef3b5bb",
   "outputs": []
  },
  {
   "cell_type": "code",
   "execution_count": 20,
   "source": [
    "# Plot training figures\n",
    "core_qa_utils.plot_and_save_fig_from_history(\n",
    "    history,\n",
    "    attributes=[\"start_logits_accuracy\"],\n",
    "    title=\"Model start logits accuracy\",\n",
    "    y_label=\"Accuracy\",\n",
    "    x_label=\"Epoch\",\n",
    "    legend_descriptors=[\"Train\"],\n",
    "    figure_dir_path=figures_dir,\n",
    "    figure_filename=f\"start_accuracy.png\",\n",
    ")\n",
    "core_qa_utils.plot_and_save_fig_from_history(\n",
    "    history,\n",
    "    attributes=[\"end_logits_accuracy\"],\n",
    "    title=\"Model end logits accuracy\",\n",
    "    y_label=\"Accuracy\",\n",
    "    x_label=\"Epoch\",\n",
    "    legend_descriptors=[\"Train\"],\n",
    "    figure_dir_path=figures_dir,\n",
    "    figure_filename=f\"end_accuracy.png\",\n",
    ")\n",
    "core_qa_utils.plot_and_save_fig_from_history(\n",
    "    history,\n",
    "    attributes=[\"loss\"],\n",
    "    title=\"Model loss\",\n",
    "    y_label=\"Loss\",\n",
    "    x_label=\"Epoch\",\n",
    "    legend_descriptors=[\"Train\"],\n",
    "    figure_dir_path=figures_dir,\n",
    "    figure_filename=f\"loss.png\",\n",
    ")\n",
    "core_qa_utils.plot_and_save_fig_from_history(\n",
    "    history,\n",
    "    attributes=[\"start_logits_loss\"],\n",
    "    title=\"Model start logits loss\",\n",
    "    y_label=\"Loss\",\n",
    "    x_label=\"Epoch\",\n",
    "    legend_descriptors=[\"Train\"],\n",
    "    figure_dir_path=figures_dir,\n",
    "    figure_filename=f\"start_loss.png\",\n",
    ")\n",
    "core_qa_utils.plot_and_save_fig_from_history(\n",
    "    history,\n",
    "    attributes=[\"end_logits_loss\"],\n",
    "    title=\"Model end logits loss\",\n",
    "    y_label=\"Loss\",\n",
    "    x_label=\"Epoch\",\n",
    "    legend_descriptors=[\"Train\"],\n",
    "    figure_dir_path=figures_dir,\n",
    "    figure_filename=f\"end_loss.png\",\n",
    ")"
   ],
   "metadata": {
    "collapsed": false,
    "ExecuteTime": {
     "end_time": "2024-01-04T01:33:25.670723100Z",
     "start_time": "2024-01-04T01:33:24.581355500Z"
    }
   },
   "id": "5ac4e46e59fa49f7",
   "outputs": []
  },
  {
   "cell_type": "markdown",
   "source": [
    "# Saving model's best version & training data"
   ],
   "metadata": {
    "collapsed": false
   },
   "id": "93a52c999ea30b09"
  },
  {
   "cell_type": "code",
   "execution_count": 21,
   "source": [
    "history = core_qa_utils.read_json_as_dict(model_evaluation_dir / \"history.json\")"
   ],
   "metadata": {
    "collapsed": false,
    "ExecuteTime": {
     "end_time": "2024-01-04T01:33:25.726721600Z",
     "start_time": "2024-01-04T01:33:25.673722600Z"
    }
   },
   "id": "eac7028fb72e801a",
   "outputs": []
  },
  {
   "cell_type": "code",
   "execution_count": 22,
   "source": [
    "best_epoch = 1"
   ],
   "metadata": {
    "collapsed": false,
    "ExecuteTime": {
     "end_time": "2024-01-04T01:33:25.728721800Z",
     "start_time": "2024-01-04T01:33:25.688722600Z"
    }
   },
   "id": "312471adf3c11d2d",
   "outputs": []
  },
  {
   "cell_type": "code",
   "execution_count": 23,
   "source": [
    "training_data = {\n",
    "    \"history\": history,\n",
    "    \"attempted_epochs\": train_epochs,\n",
    "    \"best_epoch\": best_epoch,\n",
    "    \"training_time\": time_measure_cb.total_training_time(),\n",
    "    \"gpu\": core_qa_utils.get_gpu_name(),\n",
    "}"
   ],
   "metadata": {
    "collapsed": false,
    "ExecuteTime": {
     "end_time": "2024-01-04T01:33:25.746723Z",
     "start_time": "2024-01-04T01:33:25.701723600Z"
    }
   },
   "id": "f585e5facae05bc6",
   "outputs": []
  },
  {
   "cell_type": "code",
   "execution_count": 24,
   "source": [
    "core_qa_utils.save_dict_as_json(\n",
    "    training_data, dir_path=model_evaluation_dir, filename=\"training_data.json\"\n",
    ")"
   ],
   "metadata": {
    "collapsed": false,
    "ExecuteTime": {
     "end_time": "2024-01-04T01:33:25.751723Z",
     "start_time": "2024-01-04T01:33:25.717723800Z"
    }
   },
   "id": "68b8edd0e5d21ab9",
   "outputs": []
  },
  {
   "cell_type": "code",
   "execution_count": 25,
   "source": [
    "best_model = model_management.load_best_model_from_checkpoints(\n",
    "    model=model, model_name=full_model_name, epoch=best_epoch, remove_checkpoints=True\n",
    ")"
   ],
   "metadata": {
    "collapsed": false,
    "ExecuteTime": {
     "end_time": "2024-01-04T01:33:25.991846500Z",
     "start_time": "2024-01-04T01:33:25.733722400Z"
    }
   },
   "id": "74bc75f641ea947b",
   "outputs": []
  },
  {
   "cell_type": "code",
   "execution_count": 26,
   "source": [
    "model_management.save_model(model=best_model, model_name=full_model_name)"
   ],
   "metadata": {
    "collapsed": false,
    "ExecuteTime": {
     "end_time": "2024-01-04T01:33:26.308923700Z",
     "start_time": "2024-01-04T01:33:25.991846500Z"
    }
   },
   "id": "dcec2ea8d6fd3e56",
   "outputs": []
  },
  {
   "cell_type": "markdown",
   "source": [
    "# Getting predictions"
   ],
   "metadata": {
    "collapsed": false
   },
   "id": "d1379f37850fdce5"
  },
  {
   "cell_type": "code",
   "execution_count": 27,
   "source": [
    "loaded_model = model_management.load_model(\n",
    "    model_checkpoint=model_checkpoint, model_name=full_model_name\n",
    ")"
   ],
   "metadata": {
    "collapsed": false,
    "ExecuteTime": {
     "end_time": "2024-01-04T01:33:27.637422Z",
     "start_time": "2024-01-04T01:33:26.311924900Z"
    }
   },
   "id": "f0219b014b5f9c7e",
   "outputs": []
  },
  {
   "cell_type": "code",
   "execution_count": 28,
   "source": [
    "output = model.predict(tf_test_dataset)"
   ],
   "metadata": {
    "collapsed": false,
    "ExecuteTime": {
     "end_time": "2024-01-04T01:36:06.382837600Z",
     "start_time": "2024-01-04T01:33:27.642422800Z"
    }
   },
   "id": "242fd4d0ca939f9e",
   "outputs": []
  },
  {
   "cell_type": "code",
   "execution_count": 29,
   "source": [
    "# Get predictions\n",
    "output_start_logits = predictions.get_preds(\n",
    "    output, output_key=\"start_logits\", return_type=\"logits\"\n",
    ")\n",
    "output_end_logits = predictions.get_preds(\n",
    "    output, output_key=\"end_logits\", return_type=\"logits\"\n",
    ")\n",
    "\n",
    "output_start_positions = predictions.get_preds(\n",
    "    output, output_key=\"start_logits\", return_type=\"class\"\n",
    ")\n",
    "output_end_positions = predictions.get_preds(\n",
    "    output, output_key=\"end_logits\", return_type=\"class\"\n",
    ")"
   ],
   "metadata": {
    "collapsed": false,
    "ExecuteTime": {
     "end_time": "2024-01-04T01:36:06.424835700Z",
     "start_time": "2024-01-04T01:36:06.383838400Z"
    }
   },
   "id": "6b4a5f26d09850e6",
   "outputs": []
  },
  {
   "cell_type": "code",
   "execution_count": 30,
   "source": [
    "def get_predicted_texts_for_multiple_n_best(\n",
    "        start_logits: np.ndarray,\n",
    "        end_logits: np.ndarray,\n",
    "        features: Dataset,\n",
    "        examples: Dataset,\n",
    "        n_best_variants: list[int],\n",
    "):\n",
    "    predicted_texts_for_varying_n_best = []\n",
    "    for n_best_variant in n_best_variants:\n",
    "        predicted_texts = predictions.get_predicted_texts(\n",
    "            start_logits=start_logits,\n",
    "            end_logits=end_logits,\n",
    "            features=features,\n",
    "            examples=examples,\n",
    "            n_best=n_best_variant,\n",
    "        )\n",
    "        predicted_texts_for_varying_n_best.append(predicted_texts)\n",
    "\n",
    "    return predicted_texts_for_varying_n_best"
   ],
   "metadata": {
    "collapsed": false,
    "ExecuteTime": {
     "end_time": "2024-01-04T01:36:06.435836800Z",
     "start_time": "2024-01-04T01:36:06.415838100Z"
    }
   },
   "id": "baf1c360ad0486d8",
   "outputs": []
  },
  {
   "cell_type": "code",
   "execution_count": 31,
   "source": [
    "n_bests = [\"01\", \"02\", \"03\", \"05\", \"10\", \"20\"]\n",
    "\n",
    "textual_predictions_variants = get_predicted_texts_for_multiple_n_best(\n",
    "    start_logits=output_start_logits,\n",
    "    end_logits=output_end_logits,\n",
    "    features=tokenized_test_dataset,\n",
    "    examples=test_dataset,\n",
    "    n_best_variants=[int(n_best) for n_best in n_bests],\n",
    ")"
   ],
   "metadata": {
    "collapsed": false,
    "ExecuteTime": {
     "end_time": "2024-01-04T01:37:54.312767200Z",
     "start_time": "2024-01-04T01:36:06.430837400Z"
    }
   },
   "id": "bef045792bbbf40c",
   "outputs": []
  },
  {
   "cell_type": "markdown",
   "source": [
    "# Metrics & evaluation"
   ],
   "metadata": {
    "collapsed": false
   },
   "id": "170bbb1a00e2fd6"
  },
  {
   "cell_type": "markdown",
   "source": [
    "### Stats"
   ],
   "metadata": {
    "collapsed": false
   },
   "id": "e6c0837ab0710249"
  },
  {
   "cell_type": "code",
   "execution_count": 32,
   "source": [
    "metric_stats = squad_metrics.calculate_squad_metrics_stats(\n",
    "    start_actual=tokenized_test_dataset[\"start_positions\"],\n",
    "    end_actual=tokenized_test_dataset[\"end_positions\"],\n",
    "    start_preds=output_start_positions,\n",
    "    end_preds=output_end_positions,\n",
    ")\n",
    "metric_stats"
   ],
   "metadata": {
    "collapsed": false,
    "ExecuteTime": {
     "end_time": "2024-01-04T01:37:54.378769100Z",
     "start_time": "2024-01-04T01:37:54.317766700Z"
    }
   },
   "id": "e936949689c55947",
   "outputs": []
  },
  {
   "cell_type": "markdown",
   "source": [
    "### Accuracies"
   ],
   "metadata": {
    "collapsed": false
   },
   "id": "f53a74579b729d7f"
  },
  {
   "cell_type": "code",
   "execution_count": 33,
   "source": [
    "accuracies_metrics = squad_metrics.calculate_squad_accuracies(\n",
    "    start_actual=tokenized_test_dataset[\"start_positions\"],\n",
    "    end_actual=tokenized_test_dataset[\"end_positions\"],\n",
    "    start_preds=output_start_positions,\n",
    "    end_preds=output_end_positions,\n",
    ")\n",
    "accuracies_metrics"
   ],
   "metadata": {
    "collapsed": false,
    "ExecuteTime": {
     "end_time": "2024-01-04T01:37:54.453767600Z",
     "start_time": "2024-01-04T01:37:54.377767900Z"
    }
   },
   "id": "146355ea50497b84",
   "outputs": []
  },
  {
   "cell_type": "markdown",
   "source": [
    "### Precision, recall, F1-score, exact match"
   ],
   "metadata": {
    "collapsed": false
   },
   "id": "987f4514b3173567"
  },
  {
   "cell_type": "code",
   "execution_count": 34,
   "source": [
    "def calculate_all_variants_of_squad_qa_metrics(\n",
    "        answers: list[list[str]],\n",
    "        predicted_texts_variants: list[list[str]],\n",
    "):\n",
    "    metrics = []\n",
    "    for predicted_texts_variant in predicted_texts_variants:\n",
    "        non_normalized_metrics = squad_metrics.calculate_squad_qa_metrics(\n",
    "            answers=answers, predicted_texts=predicted_texts_variant, normalize=False\n",
    "        )\n",
    "        normalized_metrics = squad_metrics.calculate_squad_qa_metrics(\n",
    "            answers=answers, predicted_texts=predicted_texts_variant, normalize=True\n",
    "        )\n",
    "        metrics.append(non_normalized_metrics)\n",
    "        metrics.append(normalized_metrics)\n",
    "\n",
    "    return metrics"
   ],
   "metadata": {
    "collapsed": false,
    "ExecuteTime": {
     "end_time": "2024-01-04T01:37:54.471768700Z",
     "start_time": "2024-01-04T01:37:54.453767600Z"
    }
   },
   "id": "ef2748ea9de601f3",
   "outputs": []
  },
  {
   "cell_type": "code",
   "execution_count": 35,
   "source": [
    "qa_metrics = calculate_all_variants_of_squad_qa_metrics(\n",
    "    answers=test_dataset[\"answer_text\"],\n",
    "    predicted_texts_variants=textual_predictions_variants,\n",
    ")"
   ],
   "metadata": {
    "collapsed": false,
    "ExecuteTime": {
     "end_time": "2024-01-04T01:38:09.378353400Z",
     "start_time": "2024-01-04T01:37:54.470769700Z"
    }
   },
   "id": "8307e988fe617ca4",
   "outputs": []
  },
  {
   "cell_type": "markdown",
   "source": [
    "### Correct predictions by sentence lengths"
   ],
   "metadata": {
    "collapsed": false
   },
   "id": "9a4c7274bbb31ca3"
  },
  {
   "cell_type": "code",
   "execution_count": 36,
   "source": [
    "qa_metrics"
   ],
   "metadata": {
    "collapsed": false,
    "ExecuteTime": {
     "end_time": "2024-01-04T01:38:09.397354100Z",
     "start_time": "2024-01-04T01:38:09.379353400Z"
    }
   },
   "id": "eb14c3ff5cee5b17",
   "outputs": []
  },
  {
   "cell_type": "code",
   "execution_count": 37,
   "source": [
    "best_textual_predictions = textual_predictions_variants[2]\n",
    "correctly_predicted = squad_metrics.get_is_correctly_predicted(\n",
    "    answers=test_dataset[\"answer_text\"],\n",
    "    predicted_texts=best_textual_predictions,\n",
    "    normalize=True,\n",
    ")"
   ],
   "metadata": {
    "collapsed": false,
    "ExecuteTime": {
     "end_time": "2024-01-04T01:38:09.713535400Z",
     "start_time": "2024-01-04T01:38:09.398354900Z"
    }
   },
   "id": "5750921edc8a6f49",
   "outputs": []
  },
  {
   "cell_type": "code",
   "execution_count": 38,
   "source": [
    "# Plot correctness of the model by sentence length\n",
    "graphs.plot_correct_predictions_by_sentence_length(\n",
    "    sentences=test_dataset[\"context\"],\n",
    "    correctly_predicted=correctly_predicted,\n",
    "    figure_path=figures_dir / \"context_correctness_by_sentence_length_0_300_50.png\",\n",
    "    figure_title=\"Correctness by sentence length\",\n",
    "    divider=50,\n",
    "    min_threshold=0,\n",
    "    max_threshold=300,\n",
    ")\n",
    "graphs.plot_correct_predictions_by_sentence_length(\n",
    "    sentences=test_dataset[\"context\"],\n",
    "    correctly_predicted=correctly_predicted,\n",
    "    figure_path=figures_dir / \"context_correctness_by_sentence_length_0_320_80.png\",\n",
    "    figure_title=\"Correctness by sentence length\",\n",
    "    divider=80,\n",
    "    min_threshold=0,\n",
    "    max_threshold=320,\n",
    ")\n",
    "graphs.plot_correct_predictions_by_sentence_length(\n",
    "    sentences=test_dataset[\"context\"],\n",
    "    correctly_predicted=correctly_predicted,\n",
    "    figure_path=figures_dir / \"context_correctness_by_sentence_length_0_400_100.png\",\n",
    "    figure_title=\"Correctness by sentence length\",\n",
    "    divider=100,\n",
    "    min_threshold=0,\n",
    "    max_threshold=300,\n",
    ")\n",
    "graphs.plot_correct_predictions_by_sentence_length(\n",
    "    sentences=test_dataset[\"context\"],\n",
    "    correctly_predicted=correctly_predicted,\n",
    "    figure_path=figures_dir / \"context_correctness_by_sentence_length_30_180_30.png\",\n",
    "    figure_title=\"Correctness by sentence length\",\n",
    "    divider=30,\n",
    "    min_threshold=30,\n",
    "    max_threshold=180,\n",
    ")"
   ],
   "metadata": {
    "collapsed": false,
    "ExecuteTime": {
     "end_time": "2024-01-04T01:38:10.748361300Z",
     "start_time": "2024-01-04T01:38:09.714536Z"
    }
   },
   "id": "d1f498addb11ec85",
   "outputs": []
  },
  {
   "cell_type": "markdown",
   "source": [
    "### Saving evaluation data"
   ],
   "metadata": {
    "collapsed": false
   },
   "id": "b3f224f34abb4069"
  },
  {
   "cell_type": "code",
   "execution_count": 39,
   "source": [
    "evaluation_data = {\n",
    "    \"accuracy\": accuracies_metrics,\n",
    "    \"metric_stats\": metric_stats,\n",
    "    \"precision\": {\n",
    "        f\"{n_bests[i // 2]}_best_{'normalized' if i % 2 else 'standard'}\": qa_metrics[\n",
    "            i\n",
    "        ][\"precision\"]\n",
    "        for i in range(len(n_bests) * 2)\n",
    "    },\n",
    "    \"recall\": {\n",
    "        f\"{n_bests[i // 2]}_best_{'normalized' if i % 2 else 'standard'}\": qa_metrics[\n",
    "            i\n",
    "        ][\"recall\"]\n",
    "        for i in range(len(n_bests) * 2)\n",
    "    },\n",
    "    \"f1\": {\n",
    "        f\"{n_bests[i // 2]}_best_{'normalized' if i % 2 else 'standard'}\": qa_metrics[\n",
    "            i\n",
    "        ][\"f1\"]\n",
    "        for i in range(len(n_bests) * 2)\n",
    "    },\n",
    "    \"exact_match\": {\n",
    "        f\"{n_bests[i // 2]}_best_{'normalized' if i % 2 else 'standard'}\": qa_metrics[\n",
    "            i\n",
    "        ][\"exact_match\"]\n",
    "        for i in range(len(n_bests) * 2)\n",
    "    },\n",
    "}"
   ],
   "metadata": {
    "collapsed": false,
    "ExecuteTime": {
     "end_time": "2024-01-04T01:38:10.758361700Z",
     "start_time": "2024-01-04T01:38:10.746360900Z"
    }
   },
   "id": "48e7282092beec13",
   "outputs": []
  },
  {
   "cell_type": "code",
   "execution_count": 40,
   "source": [
    "core_qa_utils.save_dict_as_json(\n",
    "    evaluation_data, dir_path=model_evaluation_dir, filename=\"evaluation_data.json\"\n",
    ")"
   ],
   "metadata": {
    "collapsed": false,
    "ExecuteTime": {
     "end_time": "2024-01-04T01:38:10.821839800Z",
     "start_time": "2024-01-04T01:38:10.760362300Z"
    }
   },
   "id": "544224b9ade1f65",
   "outputs": []
  },
  {
   "cell_type": "markdown",
   "source": [
    "# Medical dataset evaluation"
   ],
   "metadata": {
    "collapsed": false
   },
   "id": "3ce42b75d20b8ae6"
  },
  {
   "cell_type": "code",
   "execution_count": 41,
   "source": [
    "raw_medical_dataset = core_qa_utils.load_datasets_from_json(\n",
    "    dataset_path=extractive_qa_paths.medical_dataset_dir,\n",
    "    filenames=[\"original_medical.json\"],\n",
    ")[0]"
   ],
   "metadata": {
    "collapsed": false,
    "ExecuteTime": {
     "end_time": "2024-01-04T01:38:10.857851600Z",
     "start_time": "2024-01-04T01:38:10.775361500Z"
    }
   },
   "id": "ed2d361ca25bcbfe",
   "outputs": []
  },
  {
   "cell_type": "code",
   "execution_count": 42,
   "source": [
    "window_size = 550"
   ],
   "metadata": {
    "collapsed": false,
    "ExecuteTime": {
     "end_time": "2024-01-04T01:38:10.868858900Z",
     "start_time": "2024-01-04T01:38:10.852839300Z"
    }
   },
   "id": "f0da7869352cdab6",
   "outputs": []
  },
  {
   "cell_type": "code",
   "execution_count": 43,
   "source": [
    "spanned_medical_dataset = medical_preprocessing.span_dataset(\n",
    "    dataset=raw_medical_dataset,\n",
    "    window=window_size,\n",
    ")"
   ],
   "metadata": {
    "collapsed": false,
    "ExecuteTime": {
     "end_time": "2024-01-04T01:38:10.900857800Z",
     "start_time": "2024-01-04T01:38:10.869856300Z"
    }
   },
   "id": "fb7a681cd24c63fd",
   "outputs": []
  },
  {
   "cell_type": "code",
   "execution_count": 44,
   "source": [
    "filtered_medical_dataset = core_preprocessing.filter_samples_below_number_of_tokens(\n",
    "    tokenizer=tokenizer, dataset=spanned_medical_dataset, max_tokens=max_length\n",
    ")"
   ],
   "metadata": {
    "collapsed": false,
    "ExecuteTime": {
     "end_time": "2024-01-04T01:38:10.939862500Z",
     "start_time": "2024-01-04T01:38:10.901853900Z"
    }
   },
   "id": "a07826ea2a1ad241",
   "outputs": []
  },
  {
   "cell_type": "code",
   "execution_count": 45,
   "source": [
    "print(f\"Medical | BEFORE: {len(spanned_medical_dataset)} | AFTER: {len(filtered_medical_dataset)}\")"
   ],
   "metadata": {
    "collapsed": false,
    "ExecuteTime": {
     "end_time": "2024-01-04T01:38:10.953863300Z",
     "start_time": "2024-01-04T01:38:10.933864100Z"
    }
   },
   "id": "eb35c8559dcc850e",
   "outputs": []
  },
  {
   "cell_type": "code",
   "execution_count": 46,
   "source": [
    "tokenized_medical_dataset = medical_preprocessing.preprocess_medical_test_dataset_no_stride(\n",
    "    dataset=filtered_medical_dataset,\n",
    "    tokenizer=tokenizer,\n",
    "    max_length=max_length,\n",
    "    remove_columns=spanned_medical_dataset.column_names,\n",
    ")"
   ],
   "metadata": {
    "collapsed": false,
    "ExecuteTime": {
     "end_time": "2024-01-04T01:38:12.041119900Z",
     "start_time": "2024-01-04T01:38:10.950863300Z"
    }
   },
   "id": "2c75370f2ffd9cbe",
   "outputs": []
  },
  {
   "cell_type": "code",
   "execution_count": 47,
   "source": [
    "tf_medical_dataset = core_qa_utils.convert_to_tf_dataset(\n",
    "    hf_dataset=tokenized_medical_dataset,\n",
    "    columns=[\"input_ids\", \"token_type_ids\", \"attention_mask\"],\n",
    "    label_cols=None,\n",
    "    collator=data_collator,\n",
    "    batch_size=batch_size,\n",
    ")"
   ],
   "metadata": {
    "collapsed": false,
    "ExecuteTime": {
     "end_time": "2024-01-04T01:38:12.105140900Z",
     "start_time": "2024-01-04T01:38:12.041119900Z"
    }
   },
   "id": "881e5f6c2df56da5",
   "outputs": []
  },
  {
   "cell_type": "markdown",
   "source": [
    "### Getting predictions"
   ],
   "metadata": {
    "collapsed": false
   },
   "id": "20cedbffbee43b64"
  },
  {
   "cell_type": "code",
   "execution_count": 48,
   "source": [
    "medical_output = loaded_model.predict(tf_medical_dataset)"
   ],
   "metadata": {
    "collapsed": false,
    "ExecuteTime": {
     "end_time": "2024-01-04T01:38:35.625911200Z",
     "start_time": "2024-01-04T01:38:12.106140900Z"
    }
   },
   "id": "c45e3ed2be190e09",
   "outputs": []
  },
  {
   "cell_type": "code",
   "execution_count": 49,
   "source": [
    "# Get predictions\n",
    "medical_output_start_logits = predictions.get_preds(\n",
    "    medical_output, output_key=\"start_logits\", return_type=\"logits\"\n",
    ")\n",
    "medical_output_end_logits = predictions.get_preds(\n",
    "    medical_output, output_key=\"end_logits\", return_type=\"logits\"\n",
    ")\n",
    "\n",
    "medical_output_start_positions = predictions.get_preds(\n",
    "    medical_output, output_key=\"start_logits\", return_type=\"class\"\n",
    ")\n",
    "medical_output_end_positions = predictions.get_preds(\n",
    "    medical_output, output_key=\"end_logits\", return_type=\"class\"\n",
    ")"
   ],
   "metadata": {
    "collapsed": false,
    "ExecuteTime": {
     "end_time": "2024-01-04T01:38:35.640909400Z",
     "start_time": "2024-01-04T01:38:35.628913Z"
    }
   },
   "id": "632a5181833863a9",
   "outputs": []
  },
  {
   "cell_type": "code",
   "execution_count": 50,
   "source": [
    "n_bests = [\"01\", \"02\", \"03\", \"05\", \"10\", \"20\"]\n",
    "\n",
    "medical_textual_predictions_variants = get_predicted_texts_for_multiple_n_best(\n",
    "    start_logits=medical_output_start_logits,\n",
    "    end_logits=medical_output_end_logits,\n",
    "    features=tokenized_medical_dataset,\n",
    "    examples=spanned_medical_dataset,\n",
    "    n_best_variants=[int(n_best) for n_best in n_bests],\n",
    ")"
   ],
   "metadata": {
    "collapsed": false,
    "ExecuteTime": {
     "end_time": "2024-01-04T01:38:57.704437100Z",
     "start_time": "2024-01-04T01:38:35.643911600Z"
    }
   },
   "id": "b8061b2913302ee5",
   "outputs": []
  },
  {
   "cell_type": "markdown",
   "source": [
    "# Metrics & evaluation of medical dataset"
   ],
   "metadata": {
    "collapsed": false
   },
   "id": "1db0bd5f20842aff"
  },
  {
   "cell_type": "markdown",
   "source": [
    "### Stats"
   ],
   "metadata": {
    "collapsed": false
   },
   "id": "dfdda784c34933c9"
  },
  {
   "cell_type": "code",
   "execution_count": 51,
   "source": [
    "medical_metric_stats = pure_metrics.calculate_pure_metrics_stats(\n",
    "    start_actual=tokenized_medical_dataset[\"start_positions\"],\n",
    "    end_actual=tokenized_medical_dataset[\"end_positions\"],\n",
    "    start_preds=medical_output_start_positions,\n",
    "    end_preds=medical_output_end_positions,\n",
    ")\n",
    "medical_metric_stats"
   ],
   "metadata": {
    "collapsed": false,
    "ExecuteTime": {
     "end_time": "2024-01-04T01:38:57.727436300Z",
     "start_time": "2024-01-04T01:38:57.708441900Z"
    }
   },
   "id": "3845021fd0db8c6a",
   "outputs": []
  },
  {
   "cell_type": "markdown",
   "source": [
    "### Accuracies"
   ],
   "metadata": {
    "collapsed": false
   },
   "id": "d967e406a06b244b"
  },
  {
   "cell_type": "code",
   "execution_count": 52,
   "source": [
    "medical_accuracies_metrics = pure_metrics.calculate_pure_accuracies(\n",
    "    start_actual=tokenized_medical_dataset[\"start_positions\"],\n",
    "    end_actual=tokenized_medical_dataset[\"end_positions\"],\n",
    "    start_preds=medical_output_start_positions,\n",
    "    end_preds=medical_output_end_positions,\n",
    ")\n",
    "medical_accuracies_metrics"
   ],
   "metadata": {
    "collapsed": false,
    "ExecuteTime": {
     "end_time": "2024-01-04T01:38:57.767435100Z",
     "start_time": "2024-01-04T01:38:57.724436300Z"
    }
   },
   "id": "ecad578a8dfce421",
   "outputs": []
  },
  {
   "cell_type": "markdown",
   "source": [
    "### Precision, recall, F1-score, exact match"
   ],
   "metadata": {
    "collapsed": false
   },
   "id": "6089e8046c9084c6"
  },
  {
   "cell_type": "code",
   "execution_count": 53,
   "source": [
    "def calculate_all_variants_of_pure_qa_metrics(\n",
    "        answers: list[str],\n",
    "        predicted_texts_variants: list[list[str]],\n",
    "):\n",
    "    metrics = []\n",
    "    for predicted_texts_variant in predicted_texts_variants:\n",
    "        non_normalized_metrics = pure_metrics.calculate_pure_qa_metrics(\n",
    "            answers=answers, predicted_texts=predicted_texts_variant, normalize=False\n",
    "        )\n",
    "        normalized_metrics = pure_metrics.calculate_pure_qa_metrics(\n",
    "            answers=answers, predicted_texts=predicted_texts_variant, normalize=True\n",
    "        )\n",
    "        metrics.append(non_normalized_metrics)\n",
    "        metrics.append(normalized_metrics)\n",
    "\n",
    "    return metrics"
   ],
   "metadata": {
    "collapsed": false,
    "ExecuteTime": {
     "end_time": "2024-01-04T01:38:57.769435600Z",
     "start_time": "2024-01-04T01:38:57.738438100Z"
    }
   },
   "id": "1ce9565052f0fc34",
   "outputs": []
  },
  {
   "cell_type": "code",
   "execution_count": 54,
   "source": [
    "valid_answers = [sample[\"answer_text\"][0] for sample in spanned_medical_dataset]\n",
    "medical_qa_metrics = calculate_all_variants_of_pure_qa_metrics(\n",
    "    answers=valid_answers,\n",
    "    predicted_texts_variants=medical_textual_predictions_variants,\n",
    ")"
   ],
   "metadata": {
    "collapsed": false,
    "ExecuteTime": {
     "end_time": "2024-01-04T01:38:59.363661900Z",
     "start_time": "2024-01-04T01:38:57.754437600Z"
    }
   },
   "id": "3feb4110c2664c2",
   "outputs": []
  },
  {
   "cell_type": "markdown",
   "source": [
    "### Correct predictions by sentence lengths"
   ],
   "metadata": {
    "collapsed": false
   },
   "id": "a77e508c3405260b"
  },
  {
   "cell_type": "code",
   "execution_count": 55,
   "source": [
    "medical_best_textual_predictions = medical_textual_predictions_variants[4]\n",
    "medical_correctly_predicted = pure_metrics.get_is_correctly_predicted(\n",
    "    answers=valid_answers,\n",
    "    predicted_texts=medical_best_textual_predictions,\n",
    "    normalize=True,\n",
    ")"
   ],
   "metadata": {
    "collapsed": false,
    "ExecuteTime": {
     "end_time": "2024-01-04T01:38:59.412661900Z",
     "start_time": "2024-01-04T01:38:59.378659700Z"
    }
   },
   "id": "e4dc37e8efd1d86e",
   "outputs": []
  },
  {
   "cell_type": "code",
   "execution_count": 56,
   "source": [
    "# Plot correctness of the model by sentence length\n",
    "graphs.plot_correct_predictions_by_sentence_length(\n",
    "    sentences=spanned_medical_dataset[\"context\"],\n",
    "    correctly_predicted=medical_correctly_predicted,\n",
    "    figure_path=figures_dir\n",
    "                / \"medical_context_correctness_by_sentence_length_0_200_40.png\",\n",
    "    figure_title=\"Correctness by sentence length\",\n",
    "    divider=40,\n",
    "    min_threshold=0,\n",
    "    max_threshold=200,\n",
    ")\n",
    "graphs.plot_correct_predictions_by_sentence_length(\n",
    "    sentences=spanned_medical_dataset[\"context\"],\n",
    "    correctly_predicted=medical_correctly_predicted,\n",
    "    figure_path=figures_dir\n",
    "                / \"medical_context_correctness_by_sentence_length_60_240_60.png\",\n",
    "    figure_title=\"Correctness by sentence length\",\n",
    "    divider=60,\n",
    "    min_threshold=60,\n",
    "    max_threshold=240,\n",
    ")\n",
    "graphs.plot_correct_predictions_by_sentence_length(\n",
    "    sentences=spanned_medical_dataset[\"context\"],\n",
    "    correctly_predicted=medical_correctly_predicted,\n",
    "    figure_path=figures_dir\n",
    "                / \"medical_context_correctness_by_sentence_length_100_200_20.png\",\n",
    "    figure_title=\"Correctness by sentence length\",\n",
    "    divider=20,\n",
    "    min_threshold=100,\n",
    "    max_threshold=200,\n",
    ")"
   ],
   "metadata": {
    "collapsed": false,
    "ExecuteTime": {
     "end_time": "2024-01-04T01:38:59.938730100Z",
     "start_time": "2024-01-04T01:38:59.415661100Z"
    }
   },
   "id": "197d9e6306496b8c",
   "outputs": []
  },
  {
   "cell_type": "markdown",
   "source": [
    "### Saving evaluation data"
   ],
   "metadata": {
    "collapsed": false
   },
   "id": "f94282dee4ed898a"
  },
  {
   "cell_type": "code",
   "execution_count": 57,
   "source": [
    "medical_evaluation_data = {\n",
    "    \"accuracy\": medical_accuracies_metrics,\n",
    "    \"metric_stats\": medical_metric_stats,\n",
    "    \"precision\": {\n",
    "        f\"{n_bests[i // 2]}_best_{'normalized' if i % 2 else 'standard'}\": medical_qa_metrics[\n",
    "            i\n",
    "        ][\n",
    "            \"precision\"\n",
    "        ]\n",
    "        for i in range(len(n_bests) * 2)\n",
    "    },\n",
    "    \"recall\": {\n",
    "        f\"{n_bests[i // 2]}_best_{'normalized' if i % 2 else 'standard'}\": medical_qa_metrics[\n",
    "            i\n",
    "        ][\n",
    "            \"recall\"\n",
    "        ]\n",
    "        for i in range(len(n_bests) * 2)\n",
    "    },\n",
    "    \"f1\": {\n",
    "        f\"{n_bests[i // 2]}_best_{'normalized' if i % 2 else 'standard'}\": medical_qa_metrics[\n",
    "            i\n",
    "        ][\n",
    "            \"f1\"\n",
    "        ]\n",
    "        for i in range(len(n_bests) * 2)\n",
    "    },\n",
    "    \"exact_match\": {\n",
    "        f\"{n_bests[i // 2]}_best_{'normalized' if i % 2 else 'standard'}\": medical_qa_metrics[\n",
    "            i\n",
    "        ][\n",
    "            \"exact_match\"\n",
    "        ]\n",
    "        for i in range(len(n_bests) * 2)\n",
    "    },\n",
    "}"
   ],
   "metadata": {
    "collapsed": false,
    "ExecuteTime": {
     "end_time": "2024-01-04T01:38:59.947727800Z",
     "start_time": "2024-01-04T01:38:59.935715300Z"
    }
   },
   "id": "38240f26bc7b736d",
   "outputs": []
  },
  {
   "cell_type": "code",
   "execution_count": 58,
   "source": [
    "core_qa_utils.save_dict_as_json(\n",
    "    medical_evaluation_data,\n",
    "    dir_path=model_evaluation_dir,\n",
    "    filename=\"medical_evaluation_data.json\",\n",
    ")"
   ],
   "metadata": {
    "collapsed": false,
    "ExecuteTime": {
     "end_time": "2024-01-04T01:39:00.008727Z",
     "start_time": "2024-01-04T01:38:59.950729200Z"
    }
   },
   "id": "4f27f14061acebbe",
   "outputs": []
  },
  {
   "cell_type": "markdown",
   "source": [
    "# Saving complete results"
   ],
   "metadata": {
    "collapsed": false
   },
   "id": "c84b432412a8c031"
  },
  {
   "cell_type": "code",
   "execution_count": 59,
   "source": [
    "training_data = core_qa_utils.read_json_as_dict(\n",
    "    model_evaluation_dir / \"training_data.json\"\n",
    ")"
   ],
   "metadata": {
    "collapsed": false,
    "ExecuteTime": {
     "end_time": "2024-01-04T01:39:00.011729200Z",
     "start_time": "2024-01-04T01:38:59.967729600Z"
    }
   },
   "id": "2540bcfcdaecb3b6",
   "outputs": []
  },
  {
   "cell_type": "code",
   "execution_count": 60,
   "source": [
    "evaluation_data = core_qa_utils.read_json_as_dict(\n",
    "    model_evaluation_dir / \"evaluation_data.json\"\n",
    ")"
   ],
   "metadata": {
    "collapsed": false,
    "ExecuteTime": {
     "end_time": "2024-01-04T01:39:00.021727500Z",
     "start_time": "2024-01-04T01:38:59.980730700Z"
    }
   },
   "id": "eff15265ed0c0a",
   "outputs": []
  },
  {
   "cell_type": "code",
   "execution_count": 61,
   "source": [
    "medical_evaluation_data = core_qa_utils.read_json_as_dict(\n",
    "    model_evaluation_dir / \"medical_evaluation_data.json\"\n",
    ")"
   ],
   "metadata": {
    "collapsed": false,
    "ExecuteTime": {
     "end_time": "2024-01-04T01:39:00.045726900Z",
     "start_time": "2024-01-04T01:38:59.995728900Z"
    }
   },
   "id": "c30f281865f15644",
   "outputs": []
  },
  {
   "cell_type": "code",
   "execution_count": 62,
   "source": [
    "complete_evaluation_data = {\n",
    "    \"training\": training_data,\n",
    "    \"evaluation\": evaluation_data,\n",
    "    \"medical_evaluation\": medical_evaluation_data,\n",
    "}"
   ],
   "metadata": {
    "collapsed": false,
    "ExecuteTime": {
     "end_time": "2024-01-04T01:39:00.061748200Z",
     "start_time": "2024-01-04T01:39:00.012728900Z"
    }
   },
   "id": "6b3910609c447d10",
   "outputs": []
  },
  {
   "cell_type": "code",
   "execution_count": 63,
   "source": [
    "core_qa_utils.save_dict_as_json(\n",
    "    complete_evaluation_data,\n",
    "    dir_path=model_evaluation_dir,\n",
    "    filename=\"complete_evaluation_data.json\",\n",
    ")"
   ],
   "metadata": {
    "collapsed": false,
    "ExecuteTime": {
     "end_time": "2024-01-04T01:39:00.062748100Z",
     "start_time": "2024-01-04T01:39:00.028727600Z"
    }
   },
   "id": "7db76a5c2fea551",
   "outputs": []
  },
  {
   "cell_type": "code",
   "execution_count": null,
   "source": [],
   "metadata": {
    "collapsed": false
   },
   "id": "10ff60e36548a61b",
   "outputs": []
  }
 ],
 "metadata": {
  "kernelspec": {
   "display_name": "Python 3",
   "language": "python",
   "name": "python3"
  },
  "language_info": {
   "codemirror_mode": {
    "name": "ipython",
    "version": 2
   },
   "file_extension": ".py",
   "mimetype": "text/x-python",
   "name": "python",
   "nbconvert_exporter": "python",
   "pygments_lexer": "ipython2",
   "version": "2.7.6"
  }
 },
 "nbformat": 4,
 "nbformat_minor": 5
}
