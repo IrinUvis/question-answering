{
 "cells": [
  {
   "cell_type": "markdown",
   "source": [
    "# Analysis of SQuAD dataset"
   ],
   "metadata": {
    "collapsed": false
   },
   "id": "f18a267a67779688"
  },
  {
   "cell_type": "code",
   "execution_count": 1,
   "source": [
    "from question_answering.paths import extractive_qa_paths\n",
    "from question_answering.utils import core_qa_utils\n",
    "from transformers import AutoTokenizer"
   ],
   "metadata": {
    "collapsed": false,
    "ExecuteTime": {
     "end_time": "2023-11-07T15:27:47.552983500Z",
     "start_time": "2023-11-07T15:27:43.604780700Z"
    }
   },
   "id": "68acc3d9832e466d",
   "outputs": []
  },
  {
   "cell_type": "code",
   "execution_count": 2,
   "source": [
    "# Load SQuAD dataset\n",
    "df_train, df_val, df_test = core_qa_utils.load_train_val_test_datasets(\n",
    "    extractive_qa_paths.squad_dataset_dir\n",
    ")\n",
    "\n",
    "train_dataset, val_dataset, test_dataset = core_qa_utils.convert_dataframes_to_datasets(\n",
    "    [df_train, df_val, df_test]\n",
    ")"
   ],
   "metadata": {
    "collapsed": false,
    "ExecuteTime": {
     "end_time": "2023-11-07T15:27:48.305158Z",
     "start_time": "2023-11-07T15:27:47.554981400Z"
    }
   },
   "id": "1fd6d28e085d855c",
   "outputs": []
  },
  {
   "cell_type": "markdown",
   "source": [
    "# Maximum number of tokens in any sample across datasets for various tokenizers"
   ],
   "metadata": {
    "collapsed": false
   },
   "id": "de2f9669081b969d"
  },
  {
   "cell_type": "code",
   "execution_count": 3,
   "source": [
    "# Check the maximum nuber of tokens in any sample across datasets\n",
    "def tokenize_sample(sample, tokenizer, max_tokens=None, padding=False):\n",
    "    question = sample[\"question\"].strip()\n",
    "    context = sample[\"context\"].strip()\n",
    "\n",
    "    return tokenizer(question, context, max_length=max_tokens, padding=padding)"
   ],
   "metadata": {
    "collapsed": false,
    "ExecuteTime": {
     "end_time": "2023-11-07T15:28:43.477777100Z",
     "start_time": "2023-11-07T15:28:43.458617800Z"
    }
   },
   "id": "8b68337cee705b64",
   "outputs": []
  },
  {
   "cell_type": "markdown",
   "source": [
    "## Bert Base Uncased"
   ],
   "metadata": {
    "collapsed": false
   },
   "id": "d05c0fa17ee23d1d"
  },
  {
   "cell_type": "code",
   "execution_count": 4,
   "source": [
    "bert_base_uncased_tokenizer = AutoTokenizer.from_pretrained(\"bert-base-uncased\")"
   ],
   "metadata": {
    "collapsed": false,
    "ExecuteTime": {
     "end_time": "2023-11-07T15:28:58.633118400Z",
     "start_time": "2023-11-07T15:28:58.096463100Z"
    }
   },
   "id": "f63acff88bcb60d8",
   "outputs": []
  },
  {
   "cell_type": "code",
   "execution_count": 5,
   "source": [
    "tokenized_train_dataset = train_dataset.map(\n",
    "    lambda row: tokenize_sample(row, bert_base_uncased_tokenizer)\n",
    ")\n",
    "tokenized_val_dataset = val_dataset.map(\n",
    "    lambda row: tokenize_sample(row, bert_base_uncased_tokenizer)\n",
    ")\n",
    "tokenized_test_dataset = test_dataset.map(\n",
    "    lambda row: tokenize_sample(row, bert_base_uncased_tokenizer)\n",
    ")\n",
    "\n",
    "print(\n",
    "    \"Max number of tokens in tokenized train dataset: \",\n",
    "    len(max(tokenized_train_dataset[\"input_ids\"], key=len)),\n",
    ")\n",
    "print(\n",
    "    \"Max number of tokens in tokenized val dataset: \",\n",
    "    len(max(tokenized_val_dataset[\"input_ids\"], key=len)),\n",
    ")\n",
    "print(\n",
    "    \"Max number of tokens in tokenized test dataset: \",\n",
    "    len(max(tokenized_test_dataset[\"input_ids\"], key=len)),\n",
    ")"
   ],
   "metadata": {
    "collapsed": false,
    "ExecuteTime": {
     "end_time": "2023-11-07T15:30:48.346150300Z",
     "start_time": "2023-11-07T15:29:52.846516800Z"
    }
   },
   "id": "69613d10b7d907d7",
   "outputs": []
  },
  {
   "cell_type": "markdown",
   "source": [
    "## Bert Base Cased"
   ],
   "metadata": {
    "collapsed": false
   },
   "id": "9b515bba484e1c59"
  },
  {
   "cell_type": "code",
   "execution_count": 7,
   "source": [
    "bert_base_cased_tokenizer = AutoTokenizer.from_pretrained(\"bert-base-cased\")"
   ],
   "metadata": {
    "collapsed": false,
    "ExecuteTime": {
     "end_time": "2023-11-07T15:31:06.194678500Z",
     "start_time": "2023-11-07T15:31:03.324184200Z"
    }
   },
   "id": "f66722a4d693c154",
   "outputs": []
  },
  {
   "cell_type": "code",
   "execution_count": 8,
   "source": [
    "tokenized_train_dataset = train_dataset.map(\n",
    "    lambda row: tokenize_sample(row, bert_base_cased_tokenizer)\n",
    ")\n",
    "tokenized_val_dataset = val_dataset.map(\n",
    "    lambda row: tokenize_sample(row, bert_base_cased_tokenizer)\n",
    ")\n",
    "tokenized_test_dataset = test_dataset.map(\n",
    "    lambda row: tokenize_sample(row, bert_base_cased_tokenizer)\n",
    ")\n",
    "\n",
    "print(\n",
    "    \"Max number of tokens in tokenized train dataset: \",\n",
    "    len(max(tokenized_train_dataset[\"input_ids\"], key=len)),\n",
    ")\n",
    "print(\n",
    "    \"Max number of tokens in tokenized val dataset: \",\n",
    "    len(max(tokenized_val_dataset[\"input_ids\"], key=len)),\n",
    ")\n",
    "print(\n",
    "    \"Max number of tokens in tokenized test dataset: \",\n",
    "    len(max(tokenized_test_dataset[\"input_ids\"], key=len)),\n",
    ")"
   ],
   "metadata": {
    "collapsed": false,
    "ExecuteTime": {
     "end_time": "2023-11-07T15:31:59.507924200Z",
     "start_time": "2023-11-07T15:31:12.443894200Z"
    }
   },
   "id": "66024b9be6c6a9c3",
   "outputs": []
  },
  {
   "cell_type": "code",
   "execution_count": 9,
   "source": [
    "# Plot number of words in context sentences depending on range for the training set\n",
    "core_qa_utils.plot_sentence_lengths_histogram(\n",
    "    sentences=train_dataset[\"context\"],\n",
    "    figure_path=extractive_qa_paths.general_figures_dir\n",
    "    / \"train_squad_context_sentence_lengths_histogram_0_700_100.png\",\n",
    "    figure_title=\"SQuAD context sentence lengths histogram\",\n",
    "    min_threshold=0,\n",
    "    max_threshold=700,\n",
    "    divider=100,\n",
    ")\n",
    "\n",
    "core_qa_utils.plot_sentence_lengths_histogram(\n",
    "    sentences=train_dataset[\"context\"],\n",
    "    figure_path=extractive_qa_paths.general_figures_dir\n",
    "    / \"train_squad_context_sentence_lengths_histogram_0_400_80.png\",\n",
    "    figure_title=\"SQuAD context sentence lengths histogram\",\n",
    "    min_threshold=0,\n",
    "    max_threshold=400,\n",
    "    divider=80,\n",
    ")\n",
    "\n",
    "core_qa_utils.plot_sentence_lengths_histogram(\n",
    "    sentences=train_dataset[\"context\"],\n",
    "    figure_path=extractive_qa_paths.general_figures_dir\n",
    "    / \"train_squad_context_sentence_lengths_histogram_0_300_50.png\",\n",
    "    figure_title=\"SQuAD context sentence lengths histogram\",\n",
    "    min_threshold=0,\n",
    "    max_threshold=300,\n",
    "    divider=50,\n",
    ")\n",
    "\n",
    "core_qa_utils.plot_sentence_lengths_histogram(\n",
    "    sentences=train_dataset[\"context\"],\n",
    "    figure_path=extractive_qa_paths.general_figures_dir\n",
    "    / \"train_squad_context_sentence_lengths_histogram_30_180_30.png\",\n",
    "    figure_title=\"SQuAD context sentence lengths histogram\",\n",
    "    min_threshold=30,\n",
    "    max_threshold=180,\n",
    "    divider=30,\n",
    ")"
   ],
   "metadata": {
    "collapsed": false,
    "ExecuteTime": {
     "end_time": "2023-11-07T15:58:27.049815200Z",
     "start_time": "2023-11-07T15:58:24.325971500Z"
    }
   },
   "id": "cdf1a7d13c25f59",
   "outputs": []
  },
  {
   "cell_type": "code",
   "execution_count": 12,
   "source": [
    "# Plot number of words in context sentences depending on range for the training set\n",
    "core_qa_utils.plot_sentence_lengths_histogram(\n",
    "    sentences=train_dataset[\"question\"],\n",
    "    figure_path=extractive_qa_paths.general_figures_dir\n",
    "    / \"train_squad_question_sentence_lengths_histogram_0_50_10.png\",\n",
    "    figure_title=\"SQuAD question sentence lengths histogram\",\n",
    "    min_threshold=0,\n",
    "    max_threshold=50,\n",
    "    divider=10,\n",
    ")\n",
    "\n",
    "core_qa_utils.plot_sentence_lengths_histogram(\n",
    "    sentences=train_dataset[\"question\"],\n",
    "    figure_path=extractive_qa_paths.general_figures_dir\n",
    "    / \"train_squad_question_sentence_lengths_histogram_0_30_5.png\",\n",
    "    figure_title=\"SQuAD question sentence lengths histogram\",\n",
    "    min_threshold=0,\n",
    "    max_threshold=30,\n",
    "    divider=5,\n",
    ")"
   ],
   "metadata": {
    "collapsed": false,
    "ExecuteTime": {
     "end_time": "2023-11-07T16:01:11.393357Z",
     "start_time": "2023-11-07T16:01:10.841747700Z"
    }
   },
   "id": "635dd21631acd427",
   "outputs": []
  },
  {
   "cell_type": "code",
   "execution_count": null,
   "source": [],
   "metadata": {
    "collapsed": false
   },
   "id": "e0859a0b23698057",
   "outputs": []
  }
 ],
 "metadata": {
  "kernelspec": {
   "display_name": "Python 3",
   "language": "python",
   "name": "python3"
  },
  "language_info": {
   "codemirror_mode": {
    "name": "ipython",
    "version": 2
   },
   "file_extension": ".py",
   "mimetype": "text/x-python",
   "name": "python",
   "nbconvert_exporter": "python",
   "pygments_lexer": "ipython2",
   "version": "2.7.6"
  }
 },
 "nbformat": 4,
 "nbformat_minor": 5
}
