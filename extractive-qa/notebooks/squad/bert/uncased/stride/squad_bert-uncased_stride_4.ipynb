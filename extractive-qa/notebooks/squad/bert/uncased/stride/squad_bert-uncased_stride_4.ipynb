{
 "cells": [
  {
   "cell_type": "markdown",
   "source": [
    "# Model details\n",
    "***Used base model***: bert-base-uncased\n",
    "***Used dataset***: SQuAD\n",
    "***Batch size***: 4\n",
    "***Early stopping patience***: 2\n",
    "***Early stopping monitor***: val loss\n",
    "***Datasets***: Train: original 80k train samples, Val: remaining 7599 samples, Test: original 10570 samples\n",
    "***Loss function***: Sparse categorical crossentropy\n",
    "***Attempted train epochs***: 4\n",
    "***Initial learning rate***: 5e-5\n",
    "***End learning rate***: 0\n",
    "***Additional info***: Makes use of stride mechanism\n",
    "***Status***: TRAINED"
   ],
   "metadata": {
    "collapsed": false
   },
   "id": "83cff6ac1d025261"
  },
  {
   "cell_type": "code",
   "execution_count": 1,
   "source": [
    "from transformers import (\n",
    "    AutoTokenizer,\n",
    "    TFAutoModelForQuestionAnswering,\n",
    "    DefaultDataCollator,\n",
    ")\n",
    "import tensorflow as tf\n",
    "from question_answering.constants import constants\n",
    "from question_answering.utils import core_qa_utils\n",
    "from question_answering.utils.extractive_qa import (\n",
    "    graphs,\n",
    "    model_management,\n",
    "    predictions,\n",
    "    squad_metrics,\n",
    "    pure_metrics,\n",
    "    squad_preprocessing,\n",
    "    medical_preprocessing,\n",
    ")\n",
    "from question_answering.paths import extractive_qa_paths\n",
    "import ipynbname\n",
    "from question_answering.keras_callbacks.time_measure_callback import TimeMeasureCallback\n",
    "import numpy as np\n",
    "from datasets import Dataset"
   ],
   "metadata": {
    "collapsed": false,
    "ExecuteTime": {
     "end_time": "2023-12-13T14:54:27.399292900Z",
     "start_time": "2023-12-13T14:54:21.811647300Z"
    }
   },
   "id": "143ae7b201b745c0",
   "outputs": []
  },
  {
   "cell_type": "markdown",
   "source": [
    "# Data loading"
   ],
   "metadata": {
    "collapsed": false
   },
   "id": "319fae1ec8d8aeca"
  },
  {
   "cell_type": "code",
   "execution_count": 2,
   "source": [
    "raw_train_dataset, raw_test_dataset = core_qa_utils.load_datasets_from_json(\n",
    "    dataset_path=extractive_qa_paths.squad_dataset_dir,\n",
    "    filenames=[\"original_train.json\", \"original_test.json\"],\n",
    ")"
   ],
   "metadata": {
    "collapsed": false,
    "ExecuteTime": {
     "end_time": "2023-12-13T14:54:27.558864600Z",
     "start_time": "2023-12-13T14:54:27.401294600Z"
    }
   },
   "id": "da69620bc10a6a32",
   "outputs": []
  },
  {
   "cell_type": "code",
   "execution_count": 3,
   "source": [
    "train_dataset = raw_train_dataset.select(range(80000))\n",
    "val_dataset = raw_train_dataset.select(range(80000, 87599))\n",
    "test_dataset = raw_test_dataset"
   ],
   "metadata": {
    "collapsed": false,
    "ExecuteTime": {
     "end_time": "2023-12-13T14:54:27.574876200Z",
     "start_time": "2023-12-13T14:54:27.559862800Z"
    }
   },
   "id": "ed5d0ed8c5547f57",
   "outputs": []
  },
  {
   "cell_type": "code",
   "execution_count": 4,
   "source": [
    "train_dataset, val_dataset, test_dataset"
   ],
   "metadata": {
    "collapsed": false,
    "ExecuteTime": {
     "end_time": "2023-12-13T14:54:27.610872600Z",
     "start_time": "2023-12-13T14:54:27.578873100Z"
    }
   },
   "id": "ba17dba501105212",
   "outputs": []
  },
  {
   "cell_type": "markdown",
   "source": [
    "# Data preprocessing"
   ],
   "metadata": {
    "collapsed": false
   },
   "id": "da3e7b5af4497f6"
  },
  {
   "cell_type": "code",
   "execution_count": 5,
   "source": [
    "model_checkpoint = \"bert-base-uncased\"\n",
    "tokenizer = AutoTokenizer.from_pretrained(model_checkpoint)"
   ],
   "metadata": {
    "collapsed": false,
    "ExecuteTime": {
     "end_time": "2023-12-13T14:54:28.176750400Z",
     "start_time": "2023-12-13T14:54:27.592873600Z"
    }
   },
   "id": "edf9671bd665638c",
   "outputs": []
  },
  {
   "cell_type": "code",
   "execution_count": 6,
   "source": [
    "max_length = 384\n",
    "stride = 128"
   ],
   "metadata": {
    "collapsed": false,
    "ExecuteTime": {
     "end_time": "2023-12-13T14:54:28.192762600Z",
     "start_time": "2023-12-13T14:54:28.178751300Z"
    }
   },
   "id": "4f6a4517ce584313",
   "outputs": []
  },
  {
   "cell_type": "code",
   "execution_count": 7,
   "source": [
    "tokenized_train_dataset = squad_preprocessing.preprocess_squad_training_dataset(\n",
    "    dataset=train_dataset,\n",
    "    tokenizer=tokenizer,\n",
    "    max_length=max_length,\n",
    "    stride=stride,\n",
    "    remove_columns=train_dataset.column_names,\n",
    ")\n",
    "tokenized_val_dataset = squad_preprocessing.preprocess_squad_training_dataset(\n",
    "    dataset=val_dataset,\n",
    "    tokenizer=tokenizer,\n",
    "    max_length=max_length,\n",
    "    stride=stride,\n",
    "    remove_columns=val_dataset.column_names,\n",
    ")"
   ],
   "metadata": {
    "collapsed": false,
    "ExecuteTime": {
     "end_time": "2023-12-13T14:54:28.255793300Z",
     "start_time": "2023-12-13T14:54:28.193765600Z"
    }
   },
   "id": "b576c8f7969877ec",
   "outputs": []
  },
  {
   "cell_type": "code",
   "execution_count": 8,
   "source": [
    "tokenized_test_dataset = squad_preprocessing.preprocess_squad_test_dataset(\n",
    "    dataset=test_dataset,\n",
    "    tokenizer=tokenizer,\n",
    "    max_length=max_length,\n",
    "    stride=stride,\n",
    "    remove_columns=test_dataset.column_names,\n",
    ")"
   ],
   "metadata": {
    "collapsed": false,
    "ExecuteTime": {
     "end_time": "2023-12-13T14:54:28.301803700Z",
     "start_time": "2023-12-13T14:54:28.257794Z"
    }
   },
   "id": "3bc3b458a9df9f2b",
   "outputs": []
  },
  {
   "cell_type": "markdown",
   "source": [
    "# Training preparation"
   ],
   "metadata": {
    "collapsed": false
   },
   "id": "c3e72dd48e4547a"
  },
  {
   "cell_type": "code",
   "execution_count": 9,
   "source": [
    "# Model parameters\n",
    "full_model_name = \"-\".join(ipynbname.name().split(\"_\"))\n",
    "\n",
    "# Checkpoints\n",
    "checkpoint_filename_template = constants.checkpoint_filename_template\n",
    "checkpoints_path = (\n",
    "    extractive_qa_paths.training_checkpoints_dir\n",
    "    / full_model_name\n",
    "    / checkpoint_filename_template\n",
    ")\n",
    "\n",
    "# Saved models\n",
    "saved_models_path = extractive_qa_paths.saved_models_dir / full_model_name\n",
    "\n",
    "# Evaluation\n",
    "model_evaluation_dir = extractive_qa_paths.model_evaluation_dir / full_model_name\n",
    "figures_dir = model_evaluation_dir / constants.figures_dir_name\n",
    "\n",
    "# Hyper parameters\n",
    "batch_size = 4\n",
    "train_epochs = 4\n",
    "initial_learning_rate = 5e-5\n",
    "end_learning_rate = 0"
   ],
   "metadata": {
    "collapsed": false,
    "ExecuteTime": {
     "end_time": "2023-12-13T14:54:28.332861200Z",
     "start_time": "2023-12-13T14:54:28.291803800Z"
    }
   },
   "id": "75ddc66fb81b1139",
   "outputs": []
  },
  {
   "cell_type": "code",
   "execution_count": 10,
   "source": [
    "data_collator = DefaultDataCollator(return_tensors=\"tf\")\n",
    "\n",
    "tf_train_dataset = core_qa_utils.convert_to_tf_dataset(\n",
    "    hf_dataset=tokenized_train_dataset,\n",
    "    columns=[\"input_ids\", \"token_type_ids\", \"attention_mask\"],\n",
    "    label_cols=[\"start_positions\", \"end_positions\"],\n",
    "    collator=data_collator,\n",
    "    batch_size=batch_size,\n",
    ")\n",
    "tf_val_dataset = core_qa_utils.convert_to_tf_dataset(\n",
    "    hf_dataset=tokenized_val_dataset,\n",
    "    columns=[\"input_ids\", \"token_type_ids\", \"attention_mask\"],\n",
    "    label_cols=[\"start_positions\", \"end_positions\"],\n",
    "    collator=data_collator,\n",
    "    batch_size=batch_size,\n",
    ")\n",
    "tf_test_dataset = core_qa_utils.convert_to_tf_dataset(\n",
    "    hf_dataset=tokenized_test_dataset,\n",
    "    columns=[\"input_ids\", \"token_type_ids\", \"attention_mask\"],\n",
    "    label_cols=None,\n",
    "    collator=data_collator,\n",
    "    batch_size=batch_size,\n",
    ")"
   ],
   "metadata": {
    "collapsed": false,
    "ExecuteTime": {
     "end_time": "2023-12-13T14:54:29.225802900Z",
     "start_time": "2023-12-13T14:54:28.322859700Z"
    }
   },
   "id": "83913e4c39826731",
   "outputs": []
  },
  {
   "cell_type": "code",
   "execution_count": 11,
   "source": [
    "model = TFAutoModelForQuestionAnswering.from_pretrained(model_checkpoint)"
   ],
   "metadata": {
    "collapsed": false,
    "ExecuteTime": {
     "end_time": "2023-12-13T14:54:31.094712300Z",
     "start_time": "2023-12-13T14:54:29.227801800Z"
    }
   },
   "id": "ba5119d0b3f424bc",
   "outputs": []
  },
  {
   "cell_type": "code",
   "execution_count": 12,
   "source": [
    "checkpoint_cb = tf.keras.callbacks.ModelCheckpoint(\n",
    "    checkpoints_path, verbose=1, save_weights_only=True\n",
    ")\n",
    "early_stop_cb = tf.keras.callbacks.EarlyStopping(patience=2)\n",
    "time_measure_cb = TimeMeasureCallback()\n",
    "\n",
    "callbacks = [checkpoint_cb, early_stop_cb, time_measure_cb]"
   ],
   "metadata": {
    "collapsed": false,
    "ExecuteTime": {
     "end_time": "2023-12-13T14:54:31.109711600Z",
     "start_time": "2023-12-13T14:54:31.096717800Z"
    }
   },
   "id": "b1ff29b52a5abcd5",
   "outputs": []
  },
  {
   "cell_type": "code",
   "execution_count": 13,
   "source": [
    "num_train_steps = len(tf_train_dataset) * train_epochs\n",
    "\n",
    "lr_scheduler = tf.keras.optimizers.schedules.PolynomialDecay(\n",
    "    initial_learning_rate=initial_learning_rate,\n",
    "    end_learning_rate=end_learning_rate,\n",
    "    decay_steps=num_train_steps,\n",
    ")\n",
    "\n",
    "optimizer = tf.keras.optimizers.Adam(learning_rate=lr_scheduler)\n",
    "loss = tf.keras.losses.SparseCategoricalCrossentropy(from_logits=True)\n",
    "qa_metrics = [\"accuracy\"]\n",
    "\n",
    "model.compile(optimizer=optimizer, loss=loss, metrics=qa_metrics)"
   ],
   "metadata": {
    "collapsed": false,
    "ExecuteTime": {
     "end_time": "2023-12-13T14:54:31.129712700Z",
     "start_time": "2023-12-13T14:54:31.111712Z"
    }
   },
   "id": "da49e555f4799d26",
   "outputs": []
  },
  {
   "cell_type": "code",
   "execution_count": 14,
   "source": [
    "tf.keras.mixed_precision.set_global_policy(\"mixed_float16\")"
   ],
   "metadata": {
    "collapsed": false,
    "ExecuteTime": {
     "end_time": "2023-12-13T14:54:31.141713100Z",
     "start_time": "2023-12-13T14:54:31.129712700Z"
    }
   },
   "id": "bb7796ad3f812abd",
   "outputs": []
  },
  {
   "cell_type": "markdown",
   "source": [
    "# Model training"
   ],
   "metadata": {
    "collapsed": false
   },
   "id": "32514c497310e30f"
  },
  {
   "cell_type": "code",
   "execution_count": 15,
   "source": [
    "history = model.fit(\n",
    "    tf_train_dataset,\n",
    "    validation_data=tf_val_dataset,\n",
    "    epochs=train_epochs,\n",
    "    callbacks=callbacks,\n",
    ")"
   ],
   "metadata": {
    "collapsed": false,
    "ExecuteTime": {
     "end_time": "2023-12-13T17:31:00.101769700Z",
     "start_time": "2023-12-13T14:54:31.142714Z"
    }
   },
   "id": "69e9da3716d079d2",
   "outputs": []
  },
  {
   "cell_type": "code",
   "execution_count": 16,
   "source": [
    "history = history.history"
   ],
   "metadata": {
    "collapsed": false,
    "ExecuteTime": {
     "end_time": "2023-12-13T17:31:00.115769700Z",
     "start_time": "2023-12-13T17:31:00.096771Z"
    }
   },
   "id": "dbb40c8885071757",
   "outputs": []
  },
  {
   "cell_type": "code",
   "execution_count": 17,
   "source": [
    "core_qa_utils.save_dict_as_json(\n",
    "    dictionary=history, dir_path=model_evaluation_dir, filename=\"history.json\"\n",
    ")"
   ],
   "metadata": {
    "collapsed": false,
    "ExecuteTime": {
     "end_time": "2023-12-13T17:31:00.153768600Z",
     "start_time": "2023-12-13T17:31:00.112773100Z"
    }
   },
   "id": "9c7c36d2bef3b5bb",
   "outputs": []
  },
  {
   "cell_type": "code",
   "execution_count": 18,
   "source": [
    "# Plot training figures\n",
    "core_qa_utils.plot_and_save_fig_from_history(\n",
    "    history,\n",
    "    attributes=[\"start_logits_accuracy\", \"val_start_logits_accuracy\"],\n",
    "    title=\"Model start logits accuracy\",\n",
    "    y_label=\"Accuracy\",\n",
    "    x_label=\"Epoch\",\n",
    "    legend_descriptors=[\"Train\", \"Val\"],\n",
    "    figure_dir_path=figures_dir,\n",
    "    figure_filename=f\"start_accuracy.png\",\n",
    ")\n",
    "core_qa_utils.plot_and_save_fig_from_history(\n",
    "    history,\n",
    "    attributes=[\"end_logits_accuracy\", \"val_end_logits_accuracy\"],\n",
    "    title=\"Model end logits accuracy\",\n",
    "    y_label=\"Accuracy\",\n",
    "    x_label=\"Epoch\",\n",
    "    legend_descriptors=[\"Train\", \"Val\"],\n",
    "    figure_dir_path=figures_dir,\n",
    "    figure_filename=f\"end_accuracy.png\",\n",
    ")\n",
    "core_qa_utils.plot_and_save_fig_from_history(\n",
    "    history,\n",
    "    attributes=[\"loss\", \"val_loss\"],\n",
    "    title=\"Model loss\",\n",
    "    y_label=\"Loss\",\n",
    "    x_label=\"Epoch\",\n",
    "    legend_descriptors=[\"Train\", \"Val\"],\n",
    "    figure_dir_path=figures_dir,\n",
    "    figure_filename=f\"loss.png\",\n",
    ")\n",
    "core_qa_utils.plot_and_save_fig_from_history(\n",
    "    history,\n",
    "    attributes=[\"start_logits_loss\", \"val_start_logits_loss\"],\n",
    "    title=\"Model start logits loss\",\n",
    "    y_label=\"Loss\",\n",
    "    x_label=\"Epoch\",\n",
    "    legend_descriptors=[\"Train\", \"Val\"],\n",
    "    figure_dir_path=figures_dir,\n",
    "    figure_filename=f\"start_loss.png\",\n",
    ")\n",
    "core_qa_utils.plot_and_save_fig_from_history(\n",
    "    history,\n",
    "    attributes=[\"end_logits_loss\", \"val_end_logits_loss\"],\n",
    "    title=\"Model end logits loss\",\n",
    "    y_label=\"Loss\",\n",
    "    x_label=\"Epoch\",\n",
    "    legend_descriptors=[\"Train\", \"Val\"],\n",
    "    figure_dir_path=figures_dir,\n",
    "    figure_filename=f\"end_loss.png\",\n",
    ")"
   ],
   "metadata": {
    "collapsed": false,
    "ExecuteTime": {
     "end_time": "2023-12-13T17:31:00.843834300Z",
     "start_time": "2023-12-13T17:31:00.127770Z"
    }
   },
   "id": "5ac4e46e59fa49f7",
   "outputs": []
  },
  {
   "cell_type": "markdown",
   "source": [
    "# Saving model's best version & training data"
   ],
   "metadata": {
    "collapsed": false
   },
   "id": "93a52c999ea30b09"
  },
  {
   "cell_type": "code",
   "execution_count": 19,
   "source": [
    "history = core_qa_utils.read_json_as_dict(model_evaluation_dir / \"history.json\")"
   ],
   "metadata": {
    "collapsed": false,
    "ExecuteTime": {
     "end_time": "2023-12-13T17:31:00.892850300Z",
     "start_time": "2023-12-13T17:31:00.844833900Z"
    }
   },
   "id": "eac7028fb72e801a",
   "outputs": []
  },
  {
   "cell_type": "code",
   "execution_count": 20,
   "source": [
    "best_epoch = core_qa_utils.get_best_epoch(\n",
    "    history=history, metric=\"val_loss\", metric_evaluator=\"min\"\n",
    ")"
   ],
   "metadata": {
    "collapsed": false,
    "ExecuteTime": {
     "end_time": "2023-12-13T17:31:00.894849700Z",
     "start_time": "2023-12-13T17:31:00.861834100Z"
    }
   },
   "id": "312471adf3c11d2d",
   "outputs": []
  },
  {
   "cell_type": "code",
   "execution_count": 21,
   "source": [
    "training_data = {\n",
    "    \"history\": history,\n",
    "    \"attempted_epochs\": train_epochs,\n",
    "    \"best_epoch\": best_epoch,\n",
    "    \"training_time\": time_measure_cb.total_training_time(),\n",
    "    \"gpu\": core_qa_utils.get_gpu_name(),\n",
    "}"
   ],
   "metadata": {
    "collapsed": false,
    "ExecuteTime": {
     "end_time": "2023-12-13T17:31:00.909849700Z",
     "start_time": "2023-12-13T17:31:00.876837600Z"
    }
   },
   "id": "f585e5facae05bc6",
   "outputs": []
  },
  {
   "cell_type": "code",
   "execution_count": 22,
   "source": [
    "core_qa_utils.save_dict_as_json(\n",
    "    training_data, dir_path=model_evaluation_dir, filename=\"training_data.json\"\n",
    ")"
   ],
   "metadata": {
    "collapsed": false,
    "ExecuteTime": {
     "end_time": "2023-12-13T17:31:00.913849400Z",
     "start_time": "2023-12-13T17:31:00.892850300Z"
    }
   },
   "id": "68b8edd0e5d21ab9",
   "outputs": []
  },
  {
   "cell_type": "code",
   "execution_count": 23,
   "source": [
    "best_model = model_management.load_best_model_from_checkpoints(\n",
    "    model=model, model_name=full_model_name, epoch=best_epoch, remove_checkpoints=True\n",
    ")"
   ],
   "metadata": {
    "collapsed": false,
    "ExecuteTime": {
     "end_time": "2023-12-13T17:31:02.756568400Z",
     "start_time": "2023-12-13T17:31:00.908850500Z"
    }
   },
   "id": "74bc75f641ea947b",
   "outputs": []
  },
  {
   "cell_type": "code",
   "execution_count": 24,
   "source": [
    "model_management.save_model(model=best_model, model_name=full_model_name)"
   ],
   "metadata": {
    "collapsed": false,
    "ExecuteTime": {
     "end_time": "2023-12-13T17:31:05.726020100Z",
     "start_time": "2023-12-13T17:31:02.757568400Z"
    }
   },
   "id": "dcec2ea8d6fd3e56",
   "outputs": []
  },
  {
   "cell_type": "markdown",
   "source": [
    "# Getting predictions"
   ],
   "metadata": {
    "collapsed": false
   },
   "id": "d1379f37850fdce5"
  },
  {
   "cell_type": "code",
   "execution_count": 25,
   "source": [
    "loaded_model = model_management.load_model(\n",
    "    model_checkpoint=model_checkpoint, model_name=full_model_name\n",
    ")\n",
    "loaded_model.compile(optimizer=optimizer, loss=loss, metrics=qa_metrics)"
   ],
   "metadata": {
    "collapsed": false,
    "ExecuteTime": {
     "end_time": "2023-12-13T17:31:08.078725700Z",
     "start_time": "2023-12-13T17:31:05.727022200Z"
    }
   },
   "id": "f0219b014b5f9c7e",
   "outputs": []
  },
  {
   "cell_type": "code",
   "execution_count": 26,
   "source": [
    "output = loaded_model.predict(tf_test_dataset)"
   ],
   "metadata": {
    "collapsed": false,
    "ExecuteTime": {
     "end_time": "2023-12-13T17:33:00.839197500Z",
     "start_time": "2023-12-13T17:31:08.080726100Z"
    }
   },
   "id": "242fd4d0ca939f9e",
   "outputs": []
  },
  {
   "cell_type": "code",
   "execution_count": 27,
   "source": [
    "# Get predictions\n",
    "output_start_logits = predictions.get_preds(\n",
    "    output, output_key=\"start_logits\", return_type=\"logits\"\n",
    ")\n",
    "output_end_logits = predictions.get_preds(\n",
    "    output, output_key=\"end_logits\", return_type=\"logits\"\n",
    ")\n",
    "\n",
    "output_start_positions = predictions.get_preds(\n",
    "    output, output_key=\"start_logits\", return_type=\"class\"\n",
    ")\n",
    "output_end_positions = predictions.get_preds(\n",
    "    output, output_key=\"end_logits\", return_type=\"class\"\n",
    ")"
   ],
   "metadata": {
    "collapsed": false,
    "ExecuteTime": {
     "end_time": "2023-12-13T17:33:00.886234Z",
     "start_time": "2023-12-13T17:33:00.840196900Z"
    }
   },
   "id": "6b4a5f26d09850e6",
   "outputs": []
  },
  {
   "cell_type": "code",
   "execution_count": 28,
   "source": [
    "def get_predicted_texts_for_multiple_n_best(\n",
    "    start_logits: np.ndarray,\n",
    "    end_logits: np.ndarray,\n",
    "    features: Dataset,\n",
    "    examples: Dataset,\n",
    "    n_best_variants: list[int],\n",
    "):\n",
    "    predicted_texts_for_varying_n_best = []\n",
    "    for n_best_variant in n_best_variants:\n",
    "        predicted_texts = predictions.get_predicted_texts(\n",
    "            start_logits=start_logits,\n",
    "            end_logits=end_logits,\n",
    "            features=features,\n",
    "            examples=examples,\n",
    "            n_best=n_best_variant,\n",
    "        )\n",
    "        predicted_texts_for_varying_n_best.append(predicted_texts)\n",
    "\n",
    "    return predicted_texts_for_varying_n_best"
   ],
   "metadata": {
    "collapsed": false,
    "ExecuteTime": {
     "end_time": "2023-12-13T17:33:00.902253600Z",
     "start_time": "2023-12-13T17:33:00.888237400Z"
    }
   },
   "id": "baf1c360ad0486d8",
   "outputs": []
  },
  {
   "cell_type": "code",
   "execution_count": 29,
   "source": [
    "n_bests = [\"01\", \"02\", \"03\", \"05\", \"10\", \"20\"]\n",
    "\n",
    "textual_predictions_variants = get_predicted_texts_for_multiple_n_best(\n",
    "    start_logits=output_start_logits,\n",
    "    end_logits=output_end_logits,\n",
    "    features=tokenized_test_dataset,\n",
    "    examples=test_dataset,\n",
    "    n_best_variants=[int(n_best) for n_best in n_bests],\n",
    ")"
   ],
   "metadata": {
    "collapsed": false,
    "ExecuteTime": {
     "end_time": "2023-12-13T17:34:48.362236400Z",
     "start_time": "2023-12-13T17:33:00.904254800Z"
    }
   },
   "id": "bef045792bbbf40c",
   "outputs": []
  },
  {
   "cell_type": "markdown",
   "source": [
    "# Metrics & evaluation"
   ],
   "metadata": {
    "collapsed": false
   },
   "id": "170bbb1a00e2fd6"
  },
  {
   "cell_type": "markdown",
   "source": [
    "### Accuracies"
   ],
   "metadata": {
    "collapsed": false
   },
   "id": "f53a74579b729d7f"
  },
  {
   "cell_type": "code",
   "execution_count": 30,
   "source": [
    "accuracies_metrics = squad_metrics.calculate_squad_accuracies(\n",
    "    start_actual=tokenized_test_dataset[\"start_positions\"],\n",
    "    end_actual=tokenized_test_dataset[\"end_positions\"],\n",
    "    start_preds=output_start_positions,\n",
    "    end_preds=output_end_positions,\n",
    ")\n",
    "accuracies_metrics"
   ],
   "metadata": {
    "collapsed": false,
    "ExecuteTime": {
     "end_time": "2023-12-13T17:34:48.425233800Z",
     "start_time": "2023-12-13T17:34:48.363234300Z"
    }
   },
   "id": "146355ea50497b84",
   "outputs": []
  },
  {
   "cell_type": "markdown",
   "source": [
    "### Precision, recall, F1-score, exact match"
   ],
   "metadata": {
    "collapsed": false
   },
   "id": "987f4514b3173567"
  },
  {
   "cell_type": "code",
   "execution_count": 31,
   "source": [
    "def calculate_all_variants_of_squad_qa_metrics(\n",
    "    answers: list[list[str]],\n",
    "    predicted_texts_variants: list[list[str]],\n",
    "):\n",
    "    metrics = []\n",
    "    for predicted_texts_variant in predicted_texts_variants:\n",
    "        non_normalized_metrics = squad_metrics.calculate_squad_qa_metrics(\n",
    "            answers=answers, predicted_texts=predicted_texts_variant, normalize=False\n",
    "        )\n",
    "        normalized_metrics = squad_metrics.calculate_squad_qa_metrics(\n",
    "            answers=answers, predicted_texts=predicted_texts_variant, normalize=True\n",
    "        )\n",
    "        metrics.append(non_normalized_metrics)\n",
    "        metrics.append(normalized_metrics)\n",
    "\n",
    "    return metrics"
   ],
   "metadata": {
    "collapsed": false,
    "ExecuteTime": {
     "end_time": "2023-12-13T17:34:48.442236800Z",
     "start_time": "2023-12-13T17:34:48.427233Z"
    }
   },
   "id": "ef2748ea9de601f3",
   "outputs": []
  },
  {
   "cell_type": "code",
   "execution_count": 32,
   "source": [
    "qa_metrics = calculate_all_variants_of_squad_qa_metrics(\n",
    "    answers=test_dataset[\"answer_text\"],\n",
    "    predicted_texts_variants=textual_predictions_variants,\n",
    ")"
   ],
   "metadata": {
    "collapsed": false,
    "ExecuteTime": {
     "end_time": "2023-12-13T17:35:03.302199500Z",
     "start_time": "2023-12-13T17:34:48.445265700Z"
    }
   },
   "id": "8307e988fe617ca4",
   "outputs": []
  },
  {
   "cell_type": "markdown",
   "source": [
    "### Correct predictions by sentence lengths"
   ],
   "metadata": {
    "collapsed": false
   },
   "id": "9a4c7274bbb31ca3"
  },
  {
   "cell_type": "code",
   "execution_count": 33,
   "source": [
    "best_textual_predictions = textual_predictions_variants[2]\n",
    "correctly_predicted = squad_metrics.get_is_correctly_predicted(\n",
    "    answers=test_dataset[\"answer_text\"],\n",
    "    predicted_texts=best_textual_predictions,\n",
    "    normalize=True,\n",
    ")"
   ],
   "metadata": {
    "collapsed": false,
    "ExecuteTime": {
     "end_time": "2023-12-13T17:35:03.638395900Z",
     "start_time": "2023-12-13T17:35:03.304200Z"
    }
   },
   "id": "5750921edc8a6f49",
   "outputs": []
  },
  {
   "cell_type": "code",
   "execution_count": 34,
   "source": [
    "# Plot correctness of the model by sentence length\n",
    "graphs.plot_correct_predictions_by_sentence_length(\n",
    "    sentences=test_dataset[\"context\"],\n",
    "    correctly_predicted=correctly_predicted,\n",
    "    figure_path=figures_dir / \"context_correctness_by_sentence_length_0_300_50.png\",\n",
    "    figure_title=\"Correctness by sentence length\",\n",
    "    divider=50,\n",
    "    min_threshold=0,\n",
    "    max_threshold=300,\n",
    ")\n",
    "graphs.plot_correct_predictions_by_sentence_length(\n",
    "    sentences=test_dataset[\"context\"],\n",
    "    correctly_predicted=correctly_predicted,\n",
    "    figure_path=figures_dir / \"context_correctness_by_sentence_length_0_400_80.png\",\n",
    "    figure_title=\"Correctness by sentence length\",\n",
    "    divider=80,\n",
    "    min_threshold=0,\n",
    "    max_threshold=400,\n",
    ")\n",
    "graphs.plot_correct_predictions_by_sentence_length(\n",
    "    sentences=test_dataset[\"context\"],\n",
    "    correctly_predicted=correctly_predicted,\n",
    "    figure_path=figures_dir / \"context_correctness_by_sentence_length_0_400_100.png\",\n",
    "    figure_title=\"Correctness by sentence length\",\n",
    "    divider=100,\n",
    "    min_threshold=0,\n",
    "    max_threshold=400,\n",
    ")\n",
    "graphs.plot_correct_predictions_by_sentence_length(\n",
    "    sentences=test_dataset[\"context\"],\n",
    "    correctly_predicted=correctly_predicted,\n",
    "    figure_path=figures_dir / \"context_correctness_by_sentence_length_30_180_30.png\",\n",
    "    figure_title=\"Correctness by sentence length\",\n",
    "    divider=30,\n",
    "    min_threshold=30,\n",
    "    max_threshold=180,\n",
    ")"
   ],
   "metadata": {
    "collapsed": false,
    "ExecuteTime": {
     "end_time": "2023-12-13T17:35:04.754105600Z",
     "start_time": "2023-12-13T17:35:03.641389600Z"
    }
   },
   "id": "d1f498addb11ec85",
   "outputs": []
  },
  {
   "cell_type": "markdown",
   "source": [
    "### Saving evaluation data"
   ],
   "metadata": {
    "collapsed": false
   },
   "id": "b3f224f34abb4069"
  },
  {
   "cell_type": "code",
   "execution_count": 35,
   "source": [
    "evaluation_data = {\n",
    "    \"accuracy\": accuracies_metrics,\n",
    "    \"precision\": {\n",
    "        f\"{n_bests[i // 2]}_best_{'normalized' if i % 2 else 'standard'}\": qa_metrics[\n",
    "            i\n",
    "        ][\"precision\"]\n",
    "        for i in range(len(n_bests) * 2)\n",
    "    },\n",
    "    \"recall\": {\n",
    "        f\"{n_bests[i // 2]}_best_{'normalized' if i % 2 else 'standard'}\": qa_metrics[\n",
    "            i\n",
    "        ][\"recall\"]\n",
    "        for i in range(len(n_bests) * 2)\n",
    "    },\n",
    "    \"f1\": {\n",
    "        f\"{n_bests[i // 2]}_best_{'normalized' if i % 2 else 'standard'}\": qa_metrics[\n",
    "            i\n",
    "        ][\"f1\"]\n",
    "        for i in range(len(n_bests) * 2)\n",
    "    },\n",
    "    \"exact_match\": {\n",
    "        f\"{n_bests[i // 2]}_best_{'normalized' if i % 2 else 'standard'}\": qa_metrics[\n",
    "            i\n",
    "        ][\"exact_match\"]\n",
    "        for i in range(len(n_bests) * 2)\n",
    "    },\n",
    "}"
   ],
   "metadata": {
    "collapsed": false,
    "ExecuteTime": {
     "end_time": "2023-12-13T17:35:04.770104400Z",
     "start_time": "2023-12-13T17:35:04.756104900Z"
    }
   },
   "id": "48e7282092beec13",
   "outputs": []
  },
  {
   "cell_type": "code",
   "execution_count": 36,
   "source": [
    "core_qa_utils.save_dict_as_json(\n",
    "    evaluation_data, dir_path=model_evaluation_dir, filename=\"evaluation_data.json\"\n",
    ")"
   ],
   "metadata": {
    "collapsed": false,
    "ExecuteTime": {
     "end_time": "2023-12-13T17:35:04.808105200Z",
     "start_time": "2023-12-13T17:35:04.771104800Z"
    }
   },
   "id": "544224b9ade1f65",
   "outputs": []
  },
  {
   "cell_type": "markdown",
   "source": [
    "# Medical dataset evaluation"
   ],
   "metadata": {
    "collapsed": false
   },
   "id": "3ce42b75d20b8ae6"
  },
  {
   "cell_type": "code",
   "execution_count": 37,
   "source": [
    "raw_medical_dataset = core_qa_utils.load_datasets_from_json(\n",
    "    dataset_path=extractive_qa_paths.medical_dataset_dir,\n",
    "    filenames=[\"original_medical.json\"],\n",
    ")[0]"
   ],
   "metadata": {
    "collapsed": false,
    "ExecuteTime": {
     "end_time": "2023-12-13T17:35:04.885172800Z",
     "start_time": "2023-12-13T17:35:04.787108400Z"
    }
   },
   "id": "ed2d361ca25bcbfe",
   "outputs": []
  },
  {
   "cell_type": "code",
   "execution_count": 38,
   "source": [
    "window_size = 750"
   ],
   "metadata": {
    "collapsed": false,
    "ExecuteTime": {
     "end_time": "2023-12-13T17:35:04.897166100Z",
     "start_time": "2023-12-13T17:35:04.886162900Z"
    }
   },
   "id": "f0da7869352cdab6",
   "outputs": []
  },
  {
   "cell_type": "code",
   "execution_count": 39,
   "source": [
    "spanned_medical_dataset = medical_preprocessing.span_dataset(\n",
    "    dataset=raw_medical_dataset,\n",
    "    window=window_size,\n",
    ")"
   ],
   "metadata": {
    "collapsed": false,
    "ExecuteTime": {
     "end_time": "2023-12-13T17:35:04.932212600Z",
     "start_time": "2023-12-13T17:35:04.903162700Z"
    }
   },
   "id": "fb7a681cd24c63fd",
   "outputs": []
  },
  {
   "cell_type": "code",
   "execution_count": 40,
   "source": [
    "tokenized_medical_dataset = medical_preprocessing.preprocess_medical_test_dataset(\n",
    "    dataset=spanned_medical_dataset,\n",
    "    tokenizer=tokenizer,\n",
    "    max_length=max_length,\n",
    "    stride=stride,\n",
    "    remove_columns=spanned_medical_dataset.column_names,\n",
    ")"
   ],
   "metadata": {
    "collapsed": false,
    "ExecuteTime": {
     "end_time": "2023-12-13T17:35:04.970212700Z",
     "start_time": "2023-12-13T17:35:04.940213400Z"
    }
   },
   "id": "2c75370f2ffd9cbe",
   "outputs": []
  },
  {
   "cell_type": "code",
   "execution_count": 41,
   "source": [
    "tf_medical_dataset = core_qa_utils.convert_to_tf_dataset(\n",
    "    hf_dataset=tokenized_medical_dataset,\n",
    "    columns=[\"input_ids\", \"token_type_ids\", \"attention_mask\"],\n",
    "    label_cols=None,\n",
    "    collator=data_collator,\n",
    "    batch_size=batch_size,\n",
    ")"
   ],
   "metadata": {
    "collapsed": false,
    "ExecuteTime": {
     "end_time": "2023-12-13T17:35:05.041255400Z",
     "start_time": "2023-12-13T17:35:04.968213700Z"
    }
   },
   "id": "881e5f6c2df56da5",
   "outputs": []
  },
  {
   "cell_type": "markdown",
   "source": [
    "### Getting predictions"
   ],
   "metadata": {
    "collapsed": false
   },
   "id": "20cedbffbee43b64"
  },
  {
   "cell_type": "code",
   "execution_count": 42,
   "source": [
    "medical_output = loaded_model.predict(tf_medical_dataset)"
   ],
   "metadata": {
    "collapsed": false,
    "ExecuteTime": {
     "end_time": "2023-12-13T17:35:34.498800600Z",
     "start_time": "2023-12-13T17:35:05.042256800Z"
    }
   },
   "id": "c45e3ed2be190e09",
   "outputs": []
  },
  {
   "cell_type": "code",
   "execution_count": 43,
   "source": [
    "# Get predictions\n",
    "medical_output_start_logits = predictions.get_preds(\n",
    "    medical_output, output_key=\"start_logits\", return_type=\"logits\"\n",
    ")\n",
    "medical_output_end_logits = predictions.get_preds(\n",
    "    medical_output, output_key=\"end_logits\", return_type=\"logits\"\n",
    ")\n",
    "\n",
    "medical_output_start_positions = predictions.get_preds(\n",
    "    medical_output, output_key=\"start_logits\", return_type=\"class\"\n",
    ")\n",
    "medical_output_end_positions = predictions.get_preds(\n",
    "    medical_output, output_key=\"end_logits\", return_type=\"class\"\n",
    ")"
   ],
   "metadata": {
    "collapsed": false,
    "ExecuteTime": {
     "end_time": "2023-12-13T17:35:34.515797Z",
     "start_time": "2023-12-13T17:35:34.500801200Z"
    }
   },
   "id": "632a5181833863a9",
   "outputs": []
  },
  {
   "cell_type": "code",
   "execution_count": 44,
   "source": [
    "n_bests = [\"01\", \"02\", \"03\", \"05\", \"10\", \"20\"]\n",
    "\n",
    "medical_textual_predictions_variants = get_predicted_texts_for_multiple_n_best(\n",
    "    start_logits=medical_output_start_logits,\n",
    "    end_logits=medical_output_end_logits,\n",
    "    features=tokenized_medical_dataset,\n",
    "    examples=spanned_medical_dataset,\n",
    "    n_best_variants=[int(n_best) for n_best in n_bests],\n",
    ")"
   ],
   "metadata": {
    "collapsed": false,
    "ExecuteTime": {
     "end_time": "2023-12-13T17:36:05.369326300Z",
     "start_time": "2023-12-13T17:35:34.515797Z"
    }
   },
   "id": "b8061b2913302ee5",
   "outputs": []
  },
  {
   "cell_type": "markdown",
   "source": [
    "# Metrics & evaluation of medical dataset"
   ],
   "metadata": {
    "collapsed": false
   },
   "id": "1db0bd5f20842aff"
  },
  {
   "cell_type": "markdown",
   "source": [
    "### Accuracies"
   ],
   "metadata": {
    "collapsed": false
   },
   "id": "d967e406a06b244b"
  },
  {
   "cell_type": "code",
   "execution_count": 45,
   "source": [
    "medical_accuracies_metrics = pure_metrics.calculate_pure_accuracies(\n",
    "    start_actual=tokenized_medical_dataset[\"start_positions\"],\n",
    "    end_actual=tokenized_medical_dataset[\"end_positions\"],\n",
    "    start_preds=medical_output_start_positions,\n",
    "    end_preds=medical_output_end_positions,\n",
    ")\n",
    "medical_accuracies_metrics"
   ],
   "metadata": {
    "collapsed": false,
    "ExecuteTime": {
     "end_time": "2023-12-13T17:36:05.386323500Z",
     "start_time": "2023-12-13T17:36:05.370323800Z"
    }
   },
   "id": "ecad578a8dfce421",
   "outputs": []
  },
  {
   "cell_type": "markdown",
   "source": [
    "### Precision, recall, F1-score, exact match"
   ],
   "metadata": {
    "collapsed": false
   },
   "id": "6089e8046c9084c6"
  },
  {
   "cell_type": "code",
   "execution_count": 46,
   "source": [
    "def calculate_all_variants_of_pure_qa_metrics(\n",
    "    answers: list[str],\n",
    "    predicted_texts_variants: list[list[str]],\n",
    "):\n",
    "    metrics = []\n",
    "    for predicted_texts_variant in predicted_texts_variants:\n",
    "        non_normalized_metrics = pure_metrics.calculate_pure_qa_metrics(\n",
    "            answers=answers, predicted_texts=predicted_texts_variant, normalize=False\n",
    "        )\n",
    "        normalized_metrics = pure_metrics.calculate_pure_qa_metrics(\n",
    "            answers=answers, predicted_texts=predicted_texts_variant, normalize=True\n",
    "        )\n",
    "        metrics.append(non_normalized_metrics)\n",
    "        metrics.append(normalized_metrics)\n",
    "\n",
    "    return metrics"
   ],
   "metadata": {
    "collapsed": false,
    "ExecuteTime": {
     "end_time": "2023-12-13T17:36:05.428323Z",
     "start_time": "2023-12-13T17:36:05.389322800Z"
    }
   },
   "id": "1ce9565052f0fc34",
   "outputs": []
  },
  {
   "cell_type": "code",
   "execution_count": 47,
   "source": [
    "valid_answers = [sample[\"answer_text\"][0] for sample in spanned_medical_dataset]\n",
    "medical_qa_metrics = calculate_all_variants_of_pure_qa_metrics(\n",
    "    answers=valid_answers,\n",
    "    predicted_texts_variants=medical_textual_predictions_variants,\n",
    ")"
   ],
   "metadata": {
    "collapsed": false,
    "ExecuteTime": {
     "end_time": "2023-12-13T17:36:06.980771Z",
     "start_time": "2023-12-13T17:36:05.406325500Z"
    }
   },
   "id": "3feb4110c2664c2",
   "outputs": []
  },
  {
   "cell_type": "markdown",
   "source": [
    "### Correct predictions by sentence lengths"
   ],
   "metadata": {
    "collapsed": false
   },
   "id": "a77e508c3405260b"
  },
  {
   "cell_type": "code",
   "execution_count": 48,
   "source": [
    "medical_best_textual_predictions = medical_textual_predictions_variants[4]\n",
    "medical_correctly_predicted = pure_metrics.get_is_correctly_predicted(\n",
    "    answers=valid_answers,\n",
    "    predicted_texts=medical_best_textual_predictions,\n",
    "    normalize=True,\n",
    ")"
   ],
   "metadata": {
    "collapsed": false,
    "ExecuteTime": {
     "end_time": "2023-12-13T17:36:07.033771400Z",
     "start_time": "2023-12-13T17:36:06.982770500Z"
    }
   },
   "id": "e4dc37e8efd1d86e",
   "outputs": []
  },
  {
   "cell_type": "code",
   "execution_count": 49,
   "source": [
    "# Plot correctness of the model by sentence length\n",
    "graphs.plot_correct_predictions_by_sentence_length(\n",
    "    sentences=spanned_medical_dataset[\"context\"],\n",
    "    correctly_predicted=medical_correctly_predicted,\n",
    "    figure_path=figures_dir\n",
    "    / \"medical_context_correctness_by_sentence_length_0_400_80.png\",\n",
    "    figure_title=\"Correctness by sentence length\",\n",
    "    divider=80,\n",
    "    min_threshold=0,\n",
    "    max_threshold=400,\n",
    ")\n",
    "graphs.plot_correct_predictions_by_sentence_length(\n",
    "    sentences=spanned_medical_dataset[\"context\"],\n",
    "    correctly_predicted=medical_correctly_predicted,\n",
    "    figure_path=figures_dir\n",
    "    / \"medical_context_correctness_by_sentence_length_120_300_60.png\",\n",
    "    figure_title=\"Correctness by sentence length\",\n",
    "    divider=60,\n",
    "    min_threshold=120,\n",
    "    max_threshold=320,\n",
    ")\n",
    "graphs.plot_correct_predictions_by_sentence_length(\n",
    "    sentences=spanned_medical_dataset[\"context\"],\n",
    "    correctly_predicted=medical_correctly_predicted,\n",
    "    figure_path=figures_dir\n",
    "    / \"medical_context_correctness_by_sentence_length_120_240_20.png\",\n",
    "    figure_title=\"Correctness by sentence length\",\n",
    "    divider=20,\n",
    "    min_threshold=120,\n",
    "    max_threshold=240,\n",
    ")"
   ],
   "metadata": {
    "collapsed": false,
    "ExecuteTime": {
     "end_time": "2023-12-13T17:36:07.556787600Z",
     "start_time": "2023-12-13T17:36:07.030814200Z"
    }
   },
   "id": "197d9e6306496b8c",
   "outputs": []
  },
  {
   "cell_type": "markdown",
   "source": [
    "### Saving evaluation data"
   ],
   "metadata": {
    "collapsed": false
   },
   "id": "f94282dee4ed898a"
  },
  {
   "cell_type": "code",
   "execution_count": 50,
   "source": [
    "medical_evaluation_data = {\n",
    "    \"accuracy\": medical_accuracies_metrics,\n",
    "    \"precision\": {\n",
    "        f\"{n_bests[i // 2]}_best_{'normalized' if i % 2 else 'standard'}\": medical_qa_metrics[\n",
    "            i\n",
    "        ][\n",
    "            \"precision\"\n",
    "        ]\n",
    "        for i in range(len(n_bests) * 2)\n",
    "    },\n",
    "    \"recall\": {\n",
    "        f\"{n_bests[i // 2]}_best_{'normalized' if i % 2 else 'standard'}\": medical_qa_metrics[\n",
    "            i\n",
    "        ][\n",
    "            \"recall\"\n",
    "        ]\n",
    "        for i in range(len(n_bests) * 2)\n",
    "    },\n",
    "    \"f1\": {\n",
    "        f\"{n_bests[i // 2]}_best_{'normalized' if i % 2 else 'standard'}\": medical_qa_metrics[\n",
    "            i\n",
    "        ][\n",
    "            \"f1\"\n",
    "        ]\n",
    "        for i in range(len(n_bests) * 2)\n",
    "    },\n",
    "    \"exact_match\": {\n",
    "        f\"{n_bests[i // 2]}_best_{'normalized' if i % 2 else 'standard'}\": medical_qa_metrics[\n",
    "            i\n",
    "        ][\n",
    "            \"exact_match\"\n",
    "        ]\n",
    "        for i in range(len(n_bests) * 2)\n",
    "    },\n",
    "}"
   ],
   "metadata": {
    "collapsed": false,
    "ExecuteTime": {
     "end_time": "2023-12-13T17:36:07.602787800Z",
     "start_time": "2023-12-13T17:36:07.559787800Z"
    }
   },
   "id": "38240f26bc7b736d",
   "outputs": []
  },
  {
   "cell_type": "code",
   "execution_count": 51,
   "source": [
    "core_qa_utils.save_dict_as_json(\n",
    "    medical_evaluation_data,\n",
    "    dir_path=model_evaluation_dir,\n",
    "    filename=\"medical_evaluation_data.json\",\n",
    ")"
   ],
   "metadata": {
    "collapsed": false,
    "ExecuteTime": {
     "end_time": "2023-12-13T17:36:07.604786400Z",
     "start_time": "2023-12-13T17:36:07.572786900Z"
    }
   },
   "id": "4f27f14061acebbe",
   "outputs": []
  },
  {
   "cell_type": "markdown",
   "source": [
    "# Saving complete results"
   ],
   "metadata": {
    "collapsed": false
   },
   "id": "c84b432412a8c031"
  },
  {
   "cell_type": "code",
   "execution_count": 52,
   "source": [
    "training_data = core_qa_utils.read_json_as_dict(\n",
    "    model_evaluation_dir / \"training_data.json\"\n",
    ")"
   ],
   "metadata": {
    "collapsed": false,
    "ExecuteTime": {
     "end_time": "2023-12-13T17:36:07.625785800Z",
     "start_time": "2023-12-13T17:36:07.589788300Z"
    }
   },
   "id": "2540bcfcdaecb3b6",
   "outputs": []
  },
  {
   "cell_type": "code",
   "execution_count": 53,
   "source": [
    "evaluation_data = core_qa_utils.read_json_as_dict(\n",
    "    model_evaluation_dir / \"evaluation_data.json\"\n",
    ")"
   ],
   "metadata": {
    "collapsed": false,
    "ExecuteTime": {
     "end_time": "2023-12-13T17:36:07.627785800Z",
     "start_time": "2023-12-13T17:36:07.604786400Z"
    }
   },
   "id": "eff15265ed0c0a",
   "outputs": []
  },
  {
   "cell_type": "code",
   "execution_count": 54,
   "source": [
    "medical_evaluation_data = core_qa_utils.read_json_as_dict(\n",
    "    model_evaluation_dir / \"medical_evaluation_data.json\"\n",
    ")"
   ],
   "metadata": {
    "collapsed": false,
    "ExecuteTime": {
     "end_time": "2023-12-13T17:36:07.638789Z",
     "start_time": "2023-12-13T17:36:07.620789Z"
    }
   },
   "id": "c30f281865f15644",
   "outputs": []
  },
  {
   "cell_type": "code",
   "execution_count": 55,
   "source": [
    "complete_evaluation_data = {\n",
    "    \"training\": training_data,\n",
    "    \"evaluation\": evaluation_data,\n",
    "    \"medical_evaluation\": medical_evaluation_data,\n",
    "}"
   ],
   "metadata": {
    "collapsed": false,
    "ExecuteTime": {
     "end_time": "2023-12-13T17:36:07.661785500Z",
     "start_time": "2023-12-13T17:36:07.635787200Z"
    }
   },
   "id": "6b3910609c447d10",
   "outputs": []
  },
  {
   "cell_type": "code",
   "execution_count": 56,
   "source": [
    "core_qa_utils.save_dict_as_json(\n",
    "    complete_evaluation_data,\n",
    "    dir_path=model_evaluation_dir,\n",
    "    filename=\"complete_evaluation_data.json\",\n",
    ")"
   ],
   "metadata": {
    "collapsed": false,
    "ExecuteTime": {
     "end_time": "2023-12-13T17:36:07.670785800Z",
     "start_time": "2023-12-13T17:36:07.651787200Z"
    }
   },
   "id": "7db76a5c2fea551",
   "outputs": []
  },
  {
   "cell_type": "code",
   "execution_count": null,
   "source": [],
   "metadata": {
    "collapsed": false
   },
   "id": "10ff60e36548a61b",
   "outputs": []
  }
 ],
 "metadata": {
  "kernelspec": {
   "display_name": "Python 3",
   "language": "python",
   "name": "python3"
  },
  "language_info": {
   "codemirror_mode": {
    "name": "ipython",
    "version": 2
   },
   "file_extension": ".py",
   "mimetype": "text/x-python",
   "name": "python",
   "nbconvert_exporter": "python",
   "pygments_lexer": "ipython2",
   "version": "2.7.6"
  }
 },
 "nbformat": 4,
 "nbformat_minor": 5
}
