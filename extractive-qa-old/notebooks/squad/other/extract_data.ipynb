{
 "cells": [
  {
   "cell_type": "code",
   "execution_count": 2,
   "id": "initial_id",
   "metadata": {
    "collapsed": true,
    "ExecuteTime": {
     "end_time": "2023-11-23T17:34:26.956095900Z",
     "start_time": "2023-11-23T17:34:26.941587900Z"
    }
   },
   "outputs": [],
   "source": [
    "import datasets\n",
    "from question_answering.paths import extractive_qa_paths"
   ]
  },
  {
   "cell_type": "code",
   "execution_count": 11,
   "outputs": [],
   "source": [
    "def preprocess_squad_dataset_sample(sample):\n",
    "    answer_texts = sample[\"answers\"][\"text\"]\n",
    "    answer_starts = sample[\"answers\"][\"answer_start\"]\n",
    "\n",
    "    sample[\"answer_text\"] = answer_texts\n",
    "    sample[\"answer_start\"] = answer_starts\n",
    "\n",
    "    return sample\n",
    "\n",
    "\n",
    "def load_and_save_squad_dataset():\n",
    "    squad_dataset = datasets.load_dataset(\"squad\")\n",
    "    train_dataset = squad_dataset[\"train\"]\n",
    "    test_dataset = squad_dataset[\"validation\"]\n",
    "\n",
    "    # Initial preprocessing so that data is usable after saving and reading\n",
    "    train_dataset = train_dataset.map(preprocess_squad_dataset_sample)\n",
    "    test_dataset = test_dataset.map(preprocess_squad_dataset_sample)\n",
    "\n",
    "    # Save dataset\n",
    "    path = extractive_qa_paths.squad_dataset_dir\n",
    "    if not path.exists():\n",
    "        path.mkdir(parents=True)\n",
    "\n",
    "    train_dataset.to_json(path / \"original_train.json\")\n",
    "    test_dataset.to_json(path / \"original_test.json\")"
   ],
   "metadata": {
    "collapsed": false,
    "ExecuteTime": {
     "end_time": "2023-11-23T17:38:24.490863Z",
     "start_time": "2023-11-23T17:38:24.471878200Z"
    }
   },
   "id": "c32290822524408c"
  },
  {
   "cell_type": "code",
   "execution_count": 12,
   "outputs": [
    {
     "data": {
      "text/plain": "Creating json from Arrow format:   0%|          | 0/88 [00:00<?, ?ba/s]",
      "application/vnd.jupyter.widget-view+json": {
       "version_major": 2,
       "version_minor": 0,
       "model_id": "e4a13306ff914c6f873e5aea2b74b610"
      }
     },
     "metadata": {},
     "output_type": "display_data"
    },
    {
     "data": {
      "text/plain": "Creating json from Arrow format:   0%|          | 0/11 [00:00<?, ?ba/s]",
      "application/vnd.jupyter.widget-view+json": {
       "version_major": 2,
       "version_minor": 0,
       "model_id": "fc497f9f8a25495399ffc0c117ad7b89"
      }
     },
     "metadata": {},
     "output_type": "display_data"
    }
   ],
   "source": [
    "load_and_save_squad_dataset()"
   ],
   "metadata": {
    "collapsed": false,
    "ExecuteTime": {
     "end_time": "2023-11-23T17:38:28.764929500Z",
     "start_time": "2023-11-23T17:38:25.233641Z"
    }
   },
   "id": "e30e47de853f6e5"
  },
  {
   "cell_type": "code",
   "execution_count": null,
   "outputs": [],
   "source": [],
   "metadata": {
    "collapsed": false
   },
   "id": "e88d4ab48228618d"
  }
 ],
 "metadata": {
  "kernelspec": {
   "display_name": "Python 3",
   "language": "python",
   "name": "python3"
  },
  "language_info": {
   "codemirror_mode": {
    "name": "ipython",
    "version": 2
   },
   "file_extension": ".py",
   "mimetype": "text/x-python",
   "name": "python",
   "nbconvert_exporter": "python",
   "pygments_lexer": "ipython2",
   "version": "2.7.6"
  }
 },
 "nbformat": 4,
 "nbformat_minor": 5
}
